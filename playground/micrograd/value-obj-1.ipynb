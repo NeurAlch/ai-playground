{
 "cells": [
  {
   "cell_type": "code",
   "execution_count": 1,
   "outputs": [],
   "source": [
    "from graphviz import Digraph"
   ],
   "metadata": {
    "collapsed": false
   }
  },
  {
   "cell_type": "code",
   "execution_count": 2,
   "outputs": [],
   "source": [
    "class Value:\n",
    "    def __init__(self, data, prev=(), op='', label=''):\n",
    "        self.grad = 0\n",
    "\n",
    "        if hasattr(data, 'data'):\n",
    "            self.data = data.data\n",
    "            self._prev = data.prev\n",
    "            self._op = data.op\n",
    "        else:\n",
    "            self.data = data\n",
    "            self._prev = set(prev)\n",
    "            self._op = op\n",
    "\n",
    "        self._label = label\n",
    "\n",
    "    def __repr__(self):\n",
    "        return f\"Value(data={self.data}, label={self.label})\"\n",
    "\n",
    "    def __add__(self, other):\n",
    "        return Value(self.data + other.data, (self, other), '+')\n",
    "\n",
    "    def __mul__(self, other):\n",
    "        return Value(self.data * other.data, (self, other), '*')\n",
    "\n",
    "    @property\n",
    "    def label(self):\n",
    "        if not self._label and self._prev:\n",
    "            return f\"({[n.label for n in self._prev]})\"\n",
    "        return self._label\n",
    "\n",
    "    @property\n",
    "    def prev(self):\n",
    "        return self._prev\n",
    "\n",
    "    @property\n",
    "    def op(self):\n",
    "        return self._op\n"
   ],
   "metadata": {
    "collapsed": false
   }
  },
  {
   "cell_type": "code",
   "execution_count": 3,
   "outputs": [
    {
     "data": {
      "text/plain": "Value(data=-1.0, label=(['a', 'b']))"
     },
     "execution_count": 3,
     "metadata": {},
     "output_type": "execute_result"
    }
   ],
   "source": [
    "a = Value(2., label='a')\n",
    "b = Value(-3., label='b')\n",
    "a + b"
   ],
   "metadata": {
    "collapsed": false
   }
  },
  {
   "cell_type": "code",
   "execution_count": 4,
   "outputs": [
    {
     "data": {
      "text/plain": "Value(data=-1.0, label=(['a', 'b']))"
     },
     "execution_count": 4,
     "metadata": {},
     "output_type": "execute_result"
    }
   ],
   "source": [
    "a.__add__(b)"
   ],
   "metadata": {
    "collapsed": false
   }
  },
  {
   "cell_type": "code",
   "execution_count": 5,
   "outputs": [
    {
     "data": {
      "text/plain": "Value(data=-6.0, label=(['a', 'b']))"
     },
     "execution_count": 5,
     "metadata": {},
     "output_type": "execute_result"
    }
   ],
   "source": [
    "a * b"
   ],
   "metadata": {
    "collapsed": false
   }
  },
  {
   "cell_type": "code",
   "execution_count": 6,
   "outputs": [
    {
     "data": {
      "text/plain": "Value(data=4.0, label=d)"
     },
     "execution_count": 6,
     "metadata": {},
     "output_type": "execute_result"
    }
   ],
   "source": [
    "c = Value(10, label='c')\n",
    "e = Value(a*b, label='e')\n",
    "d = Value(e + c, label='d')\n",
    "d"
   ],
   "metadata": {
    "collapsed": false
   }
  },
  {
   "cell_type": "code",
   "execution_count": 7,
   "outputs": [
    {
     "data": {
      "text/plain": "{Value(data=-6.0, label=e), Value(data=10, label=c)}"
     },
     "execution_count": 7,
     "metadata": {},
     "output_type": "execute_result"
    }
   ],
   "source": [
    "# (a*b), (c)\n",
    "d.prev"
   ],
   "metadata": {
    "collapsed": false
   }
  },
  {
   "cell_type": "code",
   "execution_count": 8,
   "outputs": [
    {
     "data": {
      "text/plain": "'+'"
     },
     "execution_count": 8,
     "metadata": {},
     "output_type": "execute_result"
    }
   ],
   "source": [
    "d.op"
   ],
   "metadata": {
    "collapsed": false
   }
  },
  {
   "cell_type": "code",
   "execution_count": 9,
   "outputs": [],
   "source": [
    "def trace(root):\n",
    "    nodes, edges = set(), set()\n",
    "    def build(v):\n",
    "        if v not in nodes:\n",
    "            nodes.add(v)\n",
    "            for child in v.prev:\n",
    "                edges.add((child, v))\n",
    "                build(child)\n",
    "    build(root)\n",
    "    return nodes, edges\n",
    "\n",
    "def draw_dot(root):\n",
    "    dot = Digraph(format='svg', graph_attr={'rankdir': 'LR'}) # LR = left to right\n",
    "    nodes, edges = trace(root)\n",
    "    for n in nodes:\n",
    "        uid = str(id(n))\n",
    "        dot.node(name = uid, label = \"{ %s | %.4f | grad %.4f }\" % (n.label, n.data, n.grad), shape='record')\n",
    "        if n.op:\n",
    "            dot.node(name = uid + n.op, label = n.op)\n",
    "            dot.edge(uid + n.op, uid)\n",
    "\n",
    "    for n1, n2 in edges:\n",
    "        dot.edge(str(id(n1)), str(id(n2)) + n2.op)\n",
    "\n",
    "    return dot"
   ],
   "metadata": {
    "collapsed": false
   }
  },
  {
   "cell_type": "code",
   "execution_count": 10,
   "outputs": [
    {
     "data": {
      "image/svg+xml": "<?xml version=\"1.0\" encoding=\"UTF-8\" standalone=\"no\"?>\n<!DOCTYPE svg PUBLIC \"-//W3C//DTD SVG 1.1//EN\"\n \"http://www.w3.org/Graphics/SVG/1.1/DTD/svg11.dtd\">\n<!-- Generated by graphviz version 2.43.0 (0)\n -->\n<!-- Title: %3 Pages: 1 -->\n<svg width=\"860pt\" height=\"128pt\"\n viewBox=\"0.00 0.00 860.00 128.00\" xmlns=\"http://www.w3.org/2000/svg\" xmlns:xlink=\"http://www.w3.org/1999/xlink\">\n<g id=\"graph0\" class=\"graph\" transform=\"scale(1 1) rotate(0) translate(4 124)\">\n<title>%3</title>\n<polygon fill=\"white\" stroke=\"transparent\" points=\"-4,4 -4,-124 856,-124 856,4 -4,4\"/>\n<!-- 140386919789760 -->\n<g id=\"node1\" class=\"node\">\n<title>140386919789760</title>\n<polygon fill=\"none\" stroke=\"black\" points=\"3,-83.5 3,-119.5 198,-119.5 198,-83.5 3,-83.5\"/>\n<text text-anchor=\"middle\" x=\"15.5\" y=\"-97.8\" font-family=\"Times,serif\" font-size=\"14.00\">a</text>\n<polyline fill=\"none\" stroke=\"black\" points=\"28,-83.5 28,-119.5 \"/>\n<text text-anchor=\"middle\" x=\"61\" y=\"-97.8\" font-family=\"Times,serif\" font-size=\"14.00\">2.0000</text>\n<polyline fill=\"none\" stroke=\"black\" points=\"94,-83.5 94,-119.5 \"/>\n<text text-anchor=\"middle\" x=\"146\" y=\"-97.8\" font-family=\"Times,serif\" font-size=\"14.00\">grad 0.0000</text>\n</g>\n<!-- 140386919932272* -->\n<g id=\"node4\" class=\"node\">\n<title>140386919932272*</title>\n<ellipse fill=\"none\" stroke=\"black\" cx=\"264\" cy=\"-73.5\" rx=\"27\" ry=\"18\"/>\n<text text-anchor=\"middle\" x=\"264\" y=\"-69.8\" font-family=\"Times,serif\" font-size=\"14.00\">*</text>\n</g>\n<!-- 140386919789760&#45;&gt;140386919932272* -->\n<g id=\"edge3\" class=\"edge\">\n<title>140386919789760&#45;&gt;140386919932272*</title>\n<path fill=\"none\" stroke=\"black\" d=\"M198.24,-84.73C208.67,-82.92 218.73,-81.18 227.68,-79.62\"/>\n<polygon fill=\"black\" stroke=\"black\" points=\"228.39,-83.05 237.64,-77.9 227.19,-76.16 228.39,-83.05\"/>\n</g>\n<!-- 140386919791824 -->\n<g id=\"node2\" class=\"node\">\n<title>140386919791824</title>\n<polygon fill=\"none\" stroke=\"black\" points=\"0,-28.5 0,-64.5 201,-64.5 201,-28.5 0,-28.5\"/>\n<text text-anchor=\"middle\" x=\"13\" y=\"-42.8\" font-family=\"Times,serif\" font-size=\"14.00\">b</text>\n<polyline fill=\"none\" stroke=\"black\" points=\"26,-28.5 26,-64.5 \"/>\n<text text-anchor=\"middle\" x=\"61.5\" y=\"-42.8\" font-family=\"Times,serif\" font-size=\"14.00\">&#45;3.0000</text>\n<polyline fill=\"none\" stroke=\"black\" points=\"97,-28.5 97,-64.5 \"/>\n<text text-anchor=\"middle\" x=\"149\" y=\"-42.8\" font-family=\"Times,serif\" font-size=\"14.00\">grad 0.0000</text>\n</g>\n<!-- 140386919791824&#45;&gt;140386919932272* -->\n<g id=\"edge6\" class=\"edge\">\n<title>140386919791824&#45;&gt;140386919932272*</title>\n<path fill=\"none\" stroke=\"black\" d=\"M201.02,-63.14C210.41,-64.71 219.44,-66.22 227.56,-67.58\"/>\n<polygon fill=\"black\" stroke=\"black\" points=\"227.24,-71.07 237.68,-69.27 228.39,-64.17 227.24,-71.07\"/>\n</g>\n<!-- 140386919932272 -->\n<g id=\"node3\" class=\"node\">\n<title>140386919932272</title>\n<polygon fill=\"none\" stroke=\"black\" points=\"328.5,-55.5 328.5,-91.5 528.5,-91.5 528.5,-55.5 328.5,-55.5\"/>\n<text text-anchor=\"middle\" x=\"341\" y=\"-69.8\" font-family=\"Times,serif\" font-size=\"14.00\">e</text>\n<polyline fill=\"none\" stroke=\"black\" points=\"353.5,-55.5 353.5,-91.5 \"/>\n<text text-anchor=\"middle\" x=\"389\" y=\"-69.8\" font-family=\"Times,serif\" font-size=\"14.00\">&#45;6.0000</text>\n<polyline fill=\"none\" stroke=\"black\" points=\"424.5,-55.5 424.5,-91.5 \"/>\n<text text-anchor=\"middle\" x=\"476.5\" y=\"-69.8\" font-family=\"Times,serif\" font-size=\"14.00\">grad 0.0000</text>\n</g>\n<!-- 140386919932848+ -->\n<g id=\"node7\" class=\"node\">\n<title>140386919932848+</title>\n<ellipse fill=\"none\" stroke=\"black\" cx=\"593\" cy=\"-45.5\" rx=\"27\" ry=\"18\"/>\n<text text-anchor=\"middle\" x=\"593\" y=\"-41.8\" font-family=\"Times,serif\" font-size=\"14.00\">+</text>\n</g>\n<!-- 140386919932272&#45;&gt;140386919932848+ -->\n<g id=\"edge5\" class=\"edge\">\n<title>140386919932272&#45;&gt;140386919932848+</title>\n<path fill=\"none\" stroke=\"black\" d=\"M528.71,-56.41C538.67,-54.69 548.25,-53.04 556.81,-51.56\"/>\n<polygon fill=\"black\" stroke=\"black\" points=\"557.44,-55.01 566.7,-49.86 556.26,-48.11 557.44,-55.01\"/>\n</g>\n<!-- 140386919932272*&#45;&gt;140386919932272 -->\n<g id=\"edge1\" class=\"edge\">\n<title>140386919932272*&#45;&gt;140386919932272</title>\n<path fill=\"none\" stroke=\"black\" d=\"M291.11,-73.5C299.05,-73.5 308.32,-73.5 318.22,-73.5\"/>\n<polygon fill=\"black\" stroke=\"black\" points=\"318.31,-77 328.31,-73.5 318.31,-70 318.31,-77\"/>\n</g>\n<!-- 140386919931264 -->\n<g id=\"node5\" class=\"node\">\n<title>140386919931264</title>\n<polygon fill=\"none\" stroke=\"black\" points=\"327,-0.5 327,-36.5 530,-36.5 530,-0.5 327,-0.5\"/>\n<text text-anchor=\"middle\" x=\"339\" y=\"-14.8\" font-family=\"Times,serif\" font-size=\"14.00\">c</text>\n<polyline fill=\"none\" stroke=\"black\" points=\"351,-0.5 351,-36.5 \"/>\n<text text-anchor=\"middle\" x=\"388.5\" y=\"-14.8\" font-family=\"Times,serif\" font-size=\"14.00\">10.0000</text>\n<polyline fill=\"none\" stroke=\"black\" points=\"426,-0.5 426,-36.5 \"/>\n<text text-anchor=\"middle\" x=\"478\" y=\"-14.8\" font-family=\"Times,serif\" font-size=\"14.00\">grad 0.0000</text>\n</g>\n<!-- 140386919931264&#45;&gt;140386919932848+ -->\n<g id=\"edge4\" class=\"edge\">\n<title>140386919931264&#45;&gt;140386919932848+</title>\n<path fill=\"none\" stroke=\"black\" d=\"M530.1,-35.22C539.49,-36.78 548.52,-38.28 556.63,-39.62\"/>\n<polygon fill=\"black\" stroke=\"black\" points=\"556.29,-43.12 566.73,-41.3 557.44,-36.21 556.29,-43.12\"/>\n</g>\n<!-- 140386919932848 -->\n<g id=\"node6\" class=\"node\">\n<title>140386919932848</title>\n<polygon fill=\"none\" stroke=\"black\" points=\"656,-27.5 656,-63.5 852,-63.5 852,-27.5 656,-27.5\"/>\n<text text-anchor=\"middle\" x=\"669\" y=\"-41.8\" font-family=\"Times,serif\" font-size=\"14.00\">d</text>\n<polyline fill=\"none\" stroke=\"black\" points=\"682,-27.5 682,-63.5 \"/>\n<text text-anchor=\"middle\" x=\"715\" y=\"-41.8\" font-family=\"Times,serif\" font-size=\"14.00\">4.0000</text>\n<polyline fill=\"none\" stroke=\"black\" points=\"748,-27.5 748,-63.5 \"/>\n<text text-anchor=\"middle\" x=\"800\" y=\"-41.8\" font-family=\"Times,serif\" font-size=\"14.00\">grad 0.0000</text>\n</g>\n<!-- 140386919932848+&#45;&gt;140386919932848 -->\n<g id=\"edge2\" class=\"edge\">\n<title>140386919932848+&#45;&gt;140386919932848</title>\n<path fill=\"none\" stroke=\"black\" d=\"M620.26,-45.5C627.77,-45.5 636.46,-45.5 645.72,-45.5\"/>\n<polygon fill=\"black\" stroke=\"black\" points=\"645.97,-49 655.97,-45.5 645.97,-42 645.97,-49\"/>\n</g>\n</g>\n</svg>\n",
      "text/plain": "<graphviz.graphs.Digraph at 0x7fae607e58d0>"
     },
     "execution_count": 10,
     "metadata": {},
     "output_type": "execute_result"
    }
   ],
   "source": [
    "draw_dot(d)"
   ],
   "metadata": {
    "collapsed": false
   }
  },
  {
   "cell_type": "code",
   "execution_count": 11,
   "outputs": [
    {
     "data": {
      "image/svg+xml": "<?xml version=\"1.0\" encoding=\"UTF-8\" standalone=\"no\"?>\n<!DOCTYPE svg PUBLIC \"-//W3C//DTD SVG 1.1//EN\"\n \"http://www.w3.org/Graphics/SVG/1.1/DTD/svg11.dtd\">\n<!-- Generated by graphviz version 2.43.0 (0)\n -->\n<!-- Title: %3 Pages: 1 -->\n<svg width=\"1188pt\" height=\"156pt\"\n viewBox=\"0.00 0.00 1188.00 156.00\" xmlns=\"http://www.w3.org/2000/svg\" xmlns:xlink=\"http://www.w3.org/1999/xlink\">\n<g id=\"graph0\" class=\"graph\" transform=\"scale(1 1) rotate(0) translate(4 152)\">\n<title>%3</title>\n<polygon fill=\"white\" stroke=\"transparent\" points=\"-4,4 -4,-152 1184,-152 1184,4 -4,4\"/>\n<!-- 140386919789760 -->\n<g id=\"node1\" class=\"node\">\n<title>140386919789760</title>\n<polygon fill=\"none\" stroke=\"black\" points=\"3,-111.5 3,-147.5 198,-147.5 198,-111.5 3,-111.5\"/>\n<text text-anchor=\"middle\" x=\"15.5\" y=\"-125.8\" font-family=\"Times,serif\" font-size=\"14.00\">a</text>\n<polyline fill=\"none\" stroke=\"black\" points=\"28,-111.5 28,-147.5 \"/>\n<text text-anchor=\"middle\" x=\"61\" y=\"-125.8\" font-family=\"Times,serif\" font-size=\"14.00\">2.0000</text>\n<polyline fill=\"none\" stroke=\"black\" points=\"94,-111.5 94,-147.5 \"/>\n<text text-anchor=\"middle\" x=\"146\" y=\"-125.8\" font-family=\"Times,serif\" font-size=\"14.00\">grad 0.0000</text>\n</g>\n<!-- 140386919932272* -->\n<g id=\"node7\" class=\"node\">\n<title>140386919932272*</title>\n<ellipse fill=\"none\" stroke=\"black\" cx=\"264\" cy=\"-101.5\" rx=\"27\" ry=\"18\"/>\n<text text-anchor=\"middle\" x=\"264\" y=\"-97.8\" font-family=\"Times,serif\" font-size=\"14.00\">*</text>\n</g>\n<!-- 140386919789760&#45;&gt;140386919932272* -->\n<g id=\"edge9\" class=\"edge\">\n<title>140386919789760&#45;&gt;140386919932272*</title>\n<path fill=\"none\" stroke=\"black\" d=\"M198.24,-112.73C208.67,-110.92 218.73,-109.18 227.68,-107.62\"/>\n<polygon fill=\"black\" stroke=\"black\" points=\"228.39,-111.05 237.64,-105.9 227.19,-104.16 228.39,-111.05\"/>\n</g>\n<!-- 140386919791824 -->\n<g id=\"node2\" class=\"node\">\n<title>140386919791824</title>\n<polygon fill=\"none\" stroke=\"black\" points=\"0,-56.5 0,-92.5 201,-92.5 201,-56.5 0,-56.5\"/>\n<text text-anchor=\"middle\" x=\"13\" y=\"-70.8\" font-family=\"Times,serif\" font-size=\"14.00\">b</text>\n<polyline fill=\"none\" stroke=\"black\" points=\"26,-56.5 26,-92.5 \"/>\n<text text-anchor=\"middle\" x=\"61.5\" y=\"-70.8\" font-family=\"Times,serif\" font-size=\"14.00\">&#45;3.0000</text>\n<polyline fill=\"none\" stroke=\"black\" points=\"97,-56.5 97,-92.5 \"/>\n<text text-anchor=\"middle\" x=\"149\" y=\"-70.8\" font-family=\"Times,serif\" font-size=\"14.00\">grad 0.0000</text>\n</g>\n<!-- 140386919791824&#45;&gt;140386919932272* -->\n<g id=\"edge6\" class=\"edge\">\n<title>140386919791824&#45;&gt;140386919932272*</title>\n<path fill=\"none\" stroke=\"black\" d=\"M201.02,-91.14C210.41,-92.71 219.44,-94.22 227.56,-95.58\"/>\n<polygon fill=\"black\" stroke=\"black\" points=\"227.24,-99.07 237.68,-97.27 228.39,-92.17 227.24,-99.07\"/>\n</g>\n<!-- 140386919932128 -->\n<g id=\"node3\" class=\"node\">\n<title>140386919932128</title>\n<polygon fill=\"none\" stroke=\"black\" points=\"656,-0.5 656,-36.5 853,-36.5 853,-0.5 656,-0.5\"/>\n<text text-anchor=\"middle\" x=\"667\" y=\"-14.8\" font-family=\"Times,serif\" font-size=\"14.00\">f</text>\n<polyline fill=\"none\" stroke=\"black\" points=\"678,-0.5 678,-36.5 \"/>\n<text text-anchor=\"middle\" x=\"713.5\" y=\"-14.8\" font-family=\"Times,serif\" font-size=\"14.00\">&#45;2.0000</text>\n<polyline fill=\"none\" stroke=\"black\" points=\"749,-0.5 749,-36.5 \"/>\n<text text-anchor=\"middle\" x=\"801\" y=\"-14.8\" font-family=\"Times,serif\" font-size=\"14.00\">grad 0.0000</text>\n</g>\n<!-- 140386919939856* -->\n<g id=\"node5\" class=\"node\">\n<title>140386919939856*</title>\n<ellipse fill=\"none\" stroke=\"black\" cx=\"916\" cy=\"-45.5\" rx=\"27\" ry=\"18\"/>\n<text text-anchor=\"middle\" x=\"916\" y=\"-41.8\" font-family=\"Times,serif\" font-size=\"14.00\">*</text>\n</g>\n<!-- 140386919932128&#45;&gt;140386919939856* -->\n<g id=\"edge4\" class=\"edge\">\n<title>140386919932128&#45;&gt;140386919939856*</title>\n<path fill=\"none\" stroke=\"black\" d=\"M853.33,-35.06C862.57,-36.62 871.46,-38.13 879.49,-39.49\"/>\n<polygon fill=\"black\" stroke=\"black\" points=\"879.04,-42.96 889.48,-41.18 880.21,-36.06 879.04,-42.96\"/>\n</g>\n<!-- 140386919939856 -->\n<g id=\"node4\" class=\"node\">\n<title>140386919939856</title>\n<polygon fill=\"none\" stroke=\"black\" points=\"979,-27.5 979,-63.5 1180,-63.5 1180,-27.5 979,-27.5\"/>\n<text text-anchor=\"middle\" x=\"992\" y=\"-41.8\" font-family=\"Times,serif\" font-size=\"14.00\">L</text>\n<polyline fill=\"none\" stroke=\"black\" points=\"1005,-27.5 1005,-63.5 \"/>\n<text text-anchor=\"middle\" x=\"1040.5\" y=\"-41.8\" font-family=\"Times,serif\" font-size=\"14.00\">&#45;8.0000</text>\n<polyline fill=\"none\" stroke=\"black\" points=\"1076,-27.5 1076,-63.5 \"/>\n<text text-anchor=\"middle\" x=\"1128\" y=\"-41.8\" font-family=\"Times,serif\" font-size=\"14.00\">grad 0.0000</text>\n</g>\n<!-- 140386919939856*&#45;&gt;140386919939856 -->\n<g id=\"edge1\" class=\"edge\">\n<title>140386919939856*&#45;&gt;140386919939856</title>\n<path fill=\"none\" stroke=\"black\" d=\"M943.31,-45.5C950.79,-45.5 959.44,-45.5 968.68,-45.5\"/>\n<polygon fill=\"black\" stroke=\"black\" points=\"968.9,-49 978.9,-45.5 968.9,-42 968.9,-49\"/>\n</g>\n<!-- 140386919932272 -->\n<g id=\"node6\" class=\"node\">\n<title>140386919932272</title>\n<polygon fill=\"none\" stroke=\"black\" points=\"328.5,-83.5 328.5,-119.5 528.5,-119.5 528.5,-83.5 328.5,-83.5\"/>\n<text text-anchor=\"middle\" x=\"341\" y=\"-97.8\" font-family=\"Times,serif\" font-size=\"14.00\">e</text>\n<polyline fill=\"none\" stroke=\"black\" points=\"353.5,-83.5 353.5,-119.5 \"/>\n<text text-anchor=\"middle\" x=\"389\" y=\"-97.8\" font-family=\"Times,serif\" font-size=\"14.00\">&#45;6.0000</text>\n<polyline fill=\"none\" stroke=\"black\" points=\"424.5,-83.5 424.5,-119.5 \"/>\n<text text-anchor=\"middle\" x=\"476.5\" y=\"-97.8\" font-family=\"Times,serif\" font-size=\"14.00\">grad 0.0000</text>\n</g>\n<!-- 140386919932848+ -->\n<g id=\"node10\" class=\"node\">\n<title>140386919932848+</title>\n<ellipse fill=\"none\" stroke=\"black\" cx=\"593\" cy=\"-73.5\" rx=\"27\" ry=\"18\"/>\n<text text-anchor=\"middle\" x=\"593\" y=\"-69.8\" font-family=\"Times,serif\" font-size=\"14.00\">+</text>\n</g>\n<!-- 140386919932272&#45;&gt;140386919932848+ -->\n<g id=\"edge8\" class=\"edge\">\n<title>140386919932272&#45;&gt;140386919932848+</title>\n<path fill=\"none\" stroke=\"black\" d=\"M528.71,-84.41C538.67,-82.69 548.25,-81.04 556.81,-79.56\"/>\n<polygon fill=\"black\" stroke=\"black\" points=\"557.44,-83.01 566.7,-77.86 556.26,-76.11 557.44,-83.01\"/>\n</g>\n<!-- 140386919932272*&#45;&gt;140386919932272 -->\n<g id=\"edge2\" class=\"edge\">\n<title>140386919932272*&#45;&gt;140386919932272</title>\n<path fill=\"none\" stroke=\"black\" d=\"M291.11,-101.5C299.05,-101.5 308.32,-101.5 318.22,-101.5\"/>\n<polygon fill=\"black\" stroke=\"black\" points=\"318.31,-105 328.31,-101.5 318.31,-98 318.31,-105\"/>\n</g>\n<!-- 140386919931264 -->\n<g id=\"node8\" class=\"node\">\n<title>140386919931264</title>\n<polygon fill=\"none\" stroke=\"black\" points=\"327,-28.5 327,-64.5 530,-64.5 530,-28.5 327,-28.5\"/>\n<text text-anchor=\"middle\" x=\"339\" y=\"-42.8\" font-family=\"Times,serif\" font-size=\"14.00\">c</text>\n<polyline fill=\"none\" stroke=\"black\" points=\"351,-28.5 351,-64.5 \"/>\n<text text-anchor=\"middle\" x=\"388.5\" y=\"-42.8\" font-family=\"Times,serif\" font-size=\"14.00\">10.0000</text>\n<polyline fill=\"none\" stroke=\"black\" points=\"426,-28.5 426,-64.5 \"/>\n<text text-anchor=\"middle\" x=\"478\" y=\"-42.8\" font-family=\"Times,serif\" font-size=\"14.00\">grad 0.0000</text>\n</g>\n<!-- 140386919931264&#45;&gt;140386919932848+ -->\n<g id=\"edge7\" class=\"edge\">\n<title>140386919931264&#45;&gt;140386919932848+</title>\n<path fill=\"none\" stroke=\"black\" d=\"M530.1,-63.22C539.49,-64.78 548.52,-66.28 556.63,-67.62\"/>\n<polygon fill=\"black\" stroke=\"black\" points=\"556.29,-71.12 566.73,-69.3 557.44,-64.21 556.29,-71.12\"/>\n</g>\n<!-- 140386919932848 -->\n<g id=\"node9\" class=\"node\">\n<title>140386919932848</title>\n<polygon fill=\"none\" stroke=\"black\" points=\"656.5,-55.5 656.5,-91.5 852.5,-91.5 852.5,-55.5 656.5,-55.5\"/>\n<text text-anchor=\"middle\" x=\"669.5\" y=\"-69.8\" font-family=\"Times,serif\" font-size=\"14.00\">d</text>\n<polyline fill=\"none\" stroke=\"black\" points=\"682.5,-55.5 682.5,-91.5 \"/>\n<text text-anchor=\"middle\" x=\"715.5\" y=\"-69.8\" font-family=\"Times,serif\" font-size=\"14.00\">4.0000</text>\n<polyline fill=\"none\" stroke=\"black\" points=\"748.5,-55.5 748.5,-91.5 \"/>\n<text text-anchor=\"middle\" x=\"800.5\" y=\"-69.8\" font-family=\"Times,serif\" font-size=\"14.00\">grad 0.0000</text>\n</g>\n<!-- 140386919932848&#45;&gt;140386919939856* -->\n<g id=\"edge5\" class=\"edge\">\n<title>140386919932848&#45;&gt;140386919939856*</title>\n<path fill=\"none\" stroke=\"black\" d=\"M852.88,-56.41C862.36,-54.74 871.5,-53.14 879.71,-51.7\"/>\n<polygon fill=\"black\" stroke=\"black\" points=\"880.33,-55.14 889.57,-49.96 879.12,-48.25 880.33,-55.14\"/>\n</g>\n<!-- 140386919932848+&#45;&gt;140386919932848 -->\n<g id=\"edge3\" class=\"edge\">\n<title>140386919932848+&#45;&gt;140386919932848</title>\n<path fill=\"none\" stroke=\"black\" d=\"M620.34,-73.5C627.88,-73.5 636.59,-73.5 645.88,-73.5\"/>\n<polygon fill=\"black\" stroke=\"black\" points=\"646.17,-77 656.17,-73.5 646.17,-70 646.17,-77\"/>\n</g>\n</g>\n</svg>\n",
      "text/plain": "<graphviz.graphs.Digraph at 0x7fae607e4a30>"
     },
     "execution_count": 11,
     "metadata": {},
     "output_type": "execute_result"
    }
   ],
   "source": [
    "f = Value(-2., label='f')\n",
    "L = Value(d * f, label='L') # Loss function\n",
    "draw_dot(L)"
   ],
   "metadata": {
    "collapsed": false
   }
  },
  {
   "cell_type": "code",
   "execution_count": 12,
   "outputs": [
    {
     "data": {
      "text/plain": "1.000000000000334"
     },
     "execution_count": 12,
     "metadata": {},
     "output_type": "execute_result"
    }
   ],
   "source": [
    "# the derivative of L in respect to L is 1\n",
    "def tmp():\n",
    "    h = 0.001\n",
    "\n",
    "    a = Value(2., label='a')\n",
    "    b = Value(-3., label='b')\n",
    "    c = Value(10., label='c')\n",
    "    e = Value(a * b, label='e')\n",
    "    d = Value(e + c, label='d')\n",
    "    f = Value(-2., label='f')\n",
    "    L = Value(d * f, label='L')\n",
    "    L1 = L.data\n",
    "\n",
    "    a = Value(2., label='a')\n",
    "    b = Value(-3., label='b')\n",
    "    c = Value(10., label='c')\n",
    "    e = Value(a * b, label='e')\n",
    "    d = Value(e + c, label='d')\n",
    "    f = Value(-2., label='f')\n",
    "    L = Value(d * f, label='L')\n",
    "    L2 = L.data + h\n",
    "\n",
    "    return (L2 - L1) / h\n",
    "\n",
    "tmp()"
   ],
   "metadata": {
    "collapsed": false
   }
  },
  {
   "cell_type": "code",
   "execution_count": 13,
   "outputs": [
    {
     "data": {
      "image/svg+xml": "<?xml version=\"1.0\" encoding=\"UTF-8\" standalone=\"no\"?>\n<!DOCTYPE svg PUBLIC \"-//W3C//DTD SVG 1.1//EN\"\n \"http://www.w3.org/Graphics/SVG/1.1/DTD/svg11.dtd\">\n<!-- Generated by graphviz version 2.43.0 (0)\n -->\n<!-- Title: %3 Pages: 1 -->\n<svg width=\"1188pt\" height=\"156pt\"\n viewBox=\"0.00 0.00 1188.00 156.00\" xmlns=\"http://www.w3.org/2000/svg\" xmlns:xlink=\"http://www.w3.org/1999/xlink\">\n<g id=\"graph0\" class=\"graph\" transform=\"scale(1 1) rotate(0) translate(4 152)\">\n<title>%3</title>\n<polygon fill=\"white\" stroke=\"transparent\" points=\"-4,4 -4,-152 1184,-152 1184,4 -4,4\"/>\n<!-- 140386919789760 -->\n<g id=\"node1\" class=\"node\">\n<title>140386919789760</title>\n<polygon fill=\"none\" stroke=\"black\" points=\"3,-111.5 3,-147.5 198,-147.5 198,-111.5 3,-111.5\"/>\n<text text-anchor=\"middle\" x=\"15.5\" y=\"-125.8\" font-family=\"Times,serif\" font-size=\"14.00\">a</text>\n<polyline fill=\"none\" stroke=\"black\" points=\"28,-111.5 28,-147.5 \"/>\n<text text-anchor=\"middle\" x=\"61\" y=\"-125.8\" font-family=\"Times,serif\" font-size=\"14.00\">2.0000</text>\n<polyline fill=\"none\" stroke=\"black\" points=\"94,-111.5 94,-147.5 \"/>\n<text text-anchor=\"middle\" x=\"146\" y=\"-125.8\" font-family=\"Times,serif\" font-size=\"14.00\">grad 0.0000</text>\n</g>\n<!-- 140386919932272* -->\n<g id=\"node7\" class=\"node\">\n<title>140386919932272*</title>\n<ellipse fill=\"none\" stroke=\"black\" cx=\"264\" cy=\"-101.5\" rx=\"27\" ry=\"18\"/>\n<text text-anchor=\"middle\" x=\"264\" y=\"-97.8\" font-family=\"Times,serif\" font-size=\"14.00\">*</text>\n</g>\n<!-- 140386919789760&#45;&gt;140386919932272* -->\n<g id=\"edge9\" class=\"edge\">\n<title>140386919789760&#45;&gt;140386919932272*</title>\n<path fill=\"none\" stroke=\"black\" d=\"M198.24,-112.73C208.67,-110.92 218.73,-109.18 227.68,-107.62\"/>\n<polygon fill=\"black\" stroke=\"black\" points=\"228.39,-111.05 237.64,-105.9 227.19,-104.16 228.39,-111.05\"/>\n</g>\n<!-- 140386919791824 -->\n<g id=\"node2\" class=\"node\">\n<title>140386919791824</title>\n<polygon fill=\"none\" stroke=\"black\" points=\"0,-56.5 0,-92.5 201,-92.5 201,-56.5 0,-56.5\"/>\n<text text-anchor=\"middle\" x=\"13\" y=\"-70.8\" font-family=\"Times,serif\" font-size=\"14.00\">b</text>\n<polyline fill=\"none\" stroke=\"black\" points=\"26,-56.5 26,-92.5 \"/>\n<text text-anchor=\"middle\" x=\"61.5\" y=\"-70.8\" font-family=\"Times,serif\" font-size=\"14.00\">&#45;3.0000</text>\n<polyline fill=\"none\" stroke=\"black\" points=\"97,-56.5 97,-92.5 \"/>\n<text text-anchor=\"middle\" x=\"149\" y=\"-70.8\" font-family=\"Times,serif\" font-size=\"14.00\">grad 0.0000</text>\n</g>\n<!-- 140386919791824&#45;&gt;140386919932272* -->\n<g id=\"edge6\" class=\"edge\">\n<title>140386919791824&#45;&gt;140386919932272*</title>\n<path fill=\"none\" stroke=\"black\" d=\"M201.02,-91.14C210.41,-92.71 219.44,-94.22 227.56,-95.58\"/>\n<polygon fill=\"black\" stroke=\"black\" points=\"227.24,-99.07 237.68,-97.27 228.39,-92.17 227.24,-99.07\"/>\n</g>\n<!-- 140386919932128 -->\n<g id=\"node3\" class=\"node\">\n<title>140386919932128</title>\n<polygon fill=\"none\" stroke=\"black\" points=\"656,-0.5 656,-36.5 853,-36.5 853,-0.5 656,-0.5\"/>\n<text text-anchor=\"middle\" x=\"667\" y=\"-14.8\" font-family=\"Times,serif\" font-size=\"14.00\">f</text>\n<polyline fill=\"none\" stroke=\"black\" points=\"678,-0.5 678,-36.5 \"/>\n<text text-anchor=\"middle\" x=\"713.5\" y=\"-14.8\" font-family=\"Times,serif\" font-size=\"14.00\">&#45;2.0000</text>\n<polyline fill=\"none\" stroke=\"black\" points=\"749,-0.5 749,-36.5 \"/>\n<text text-anchor=\"middle\" x=\"801\" y=\"-14.8\" font-family=\"Times,serif\" font-size=\"14.00\">grad 0.0000</text>\n</g>\n<!-- 140386919939856* -->\n<g id=\"node5\" class=\"node\">\n<title>140386919939856*</title>\n<ellipse fill=\"none\" stroke=\"black\" cx=\"916\" cy=\"-45.5\" rx=\"27\" ry=\"18\"/>\n<text text-anchor=\"middle\" x=\"916\" y=\"-41.8\" font-family=\"Times,serif\" font-size=\"14.00\">*</text>\n</g>\n<!-- 140386919932128&#45;&gt;140386919939856* -->\n<g id=\"edge4\" class=\"edge\">\n<title>140386919932128&#45;&gt;140386919939856*</title>\n<path fill=\"none\" stroke=\"black\" d=\"M853.33,-35.06C862.57,-36.62 871.46,-38.13 879.49,-39.49\"/>\n<polygon fill=\"black\" stroke=\"black\" points=\"879.04,-42.96 889.48,-41.18 880.21,-36.06 879.04,-42.96\"/>\n</g>\n<!-- 140386919939856 -->\n<g id=\"node4\" class=\"node\">\n<title>140386919939856</title>\n<polygon fill=\"none\" stroke=\"black\" points=\"979,-27.5 979,-63.5 1180,-63.5 1180,-27.5 979,-27.5\"/>\n<text text-anchor=\"middle\" x=\"992\" y=\"-41.8\" font-family=\"Times,serif\" font-size=\"14.00\">L</text>\n<polyline fill=\"none\" stroke=\"black\" points=\"1005,-27.5 1005,-63.5 \"/>\n<text text-anchor=\"middle\" x=\"1040.5\" y=\"-41.8\" font-family=\"Times,serif\" font-size=\"14.00\">&#45;8.0000</text>\n<polyline fill=\"none\" stroke=\"black\" points=\"1076,-27.5 1076,-63.5 \"/>\n<text text-anchor=\"middle\" x=\"1128\" y=\"-41.8\" font-family=\"Times,serif\" font-size=\"14.00\">grad 1.0000</text>\n</g>\n<!-- 140386919939856*&#45;&gt;140386919939856 -->\n<g id=\"edge1\" class=\"edge\">\n<title>140386919939856*&#45;&gt;140386919939856</title>\n<path fill=\"none\" stroke=\"black\" d=\"M943.31,-45.5C950.79,-45.5 959.44,-45.5 968.68,-45.5\"/>\n<polygon fill=\"black\" stroke=\"black\" points=\"968.9,-49 978.9,-45.5 968.9,-42 968.9,-49\"/>\n</g>\n<!-- 140386919932272 -->\n<g id=\"node6\" class=\"node\">\n<title>140386919932272</title>\n<polygon fill=\"none\" stroke=\"black\" points=\"328.5,-83.5 328.5,-119.5 528.5,-119.5 528.5,-83.5 328.5,-83.5\"/>\n<text text-anchor=\"middle\" x=\"341\" y=\"-97.8\" font-family=\"Times,serif\" font-size=\"14.00\">e</text>\n<polyline fill=\"none\" stroke=\"black\" points=\"353.5,-83.5 353.5,-119.5 \"/>\n<text text-anchor=\"middle\" x=\"389\" y=\"-97.8\" font-family=\"Times,serif\" font-size=\"14.00\">&#45;6.0000</text>\n<polyline fill=\"none\" stroke=\"black\" points=\"424.5,-83.5 424.5,-119.5 \"/>\n<text text-anchor=\"middle\" x=\"476.5\" y=\"-97.8\" font-family=\"Times,serif\" font-size=\"14.00\">grad 0.0000</text>\n</g>\n<!-- 140386919932848+ -->\n<g id=\"node10\" class=\"node\">\n<title>140386919932848+</title>\n<ellipse fill=\"none\" stroke=\"black\" cx=\"593\" cy=\"-73.5\" rx=\"27\" ry=\"18\"/>\n<text text-anchor=\"middle\" x=\"593\" y=\"-69.8\" font-family=\"Times,serif\" font-size=\"14.00\">+</text>\n</g>\n<!-- 140386919932272&#45;&gt;140386919932848+ -->\n<g id=\"edge8\" class=\"edge\">\n<title>140386919932272&#45;&gt;140386919932848+</title>\n<path fill=\"none\" stroke=\"black\" d=\"M528.71,-84.41C538.67,-82.69 548.25,-81.04 556.81,-79.56\"/>\n<polygon fill=\"black\" stroke=\"black\" points=\"557.44,-83.01 566.7,-77.86 556.26,-76.11 557.44,-83.01\"/>\n</g>\n<!-- 140386919932272*&#45;&gt;140386919932272 -->\n<g id=\"edge2\" class=\"edge\">\n<title>140386919932272*&#45;&gt;140386919932272</title>\n<path fill=\"none\" stroke=\"black\" d=\"M291.11,-101.5C299.05,-101.5 308.32,-101.5 318.22,-101.5\"/>\n<polygon fill=\"black\" stroke=\"black\" points=\"318.31,-105 328.31,-101.5 318.31,-98 318.31,-105\"/>\n</g>\n<!-- 140386919931264 -->\n<g id=\"node8\" class=\"node\">\n<title>140386919931264</title>\n<polygon fill=\"none\" stroke=\"black\" points=\"327,-28.5 327,-64.5 530,-64.5 530,-28.5 327,-28.5\"/>\n<text text-anchor=\"middle\" x=\"339\" y=\"-42.8\" font-family=\"Times,serif\" font-size=\"14.00\">c</text>\n<polyline fill=\"none\" stroke=\"black\" points=\"351,-28.5 351,-64.5 \"/>\n<text text-anchor=\"middle\" x=\"388.5\" y=\"-42.8\" font-family=\"Times,serif\" font-size=\"14.00\">10.0000</text>\n<polyline fill=\"none\" stroke=\"black\" points=\"426,-28.5 426,-64.5 \"/>\n<text text-anchor=\"middle\" x=\"478\" y=\"-42.8\" font-family=\"Times,serif\" font-size=\"14.00\">grad 0.0000</text>\n</g>\n<!-- 140386919931264&#45;&gt;140386919932848+ -->\n<g id=\"edge7\" class=\"edge\">\n<title>140386919931264&#45;&gt;140386919932848+</title>\n<path fill=\"none\" stroke=\"black\" d=\"M530.1,-63.22C539.49,-64.78 548.52,-66.28 556.63,-67.62\"/>\n<polygon fill=\"black\" stroke=\"black\" points=\"556.29,-71.12 566.73,-69.3 557.44,-64.21 556.29,-71.12\"/>\n</g>\n<!-- 140386919932848 -->\n<g id=\"node9\" class=\"node\">\n<title>140386919932848</title>\n<polygon fill=\"none\" stroke=\"black\" points=\"656.5,-55.5 656.5,-91.5 852.5,-91.5 852.5,-55.5 656.5,-55.5\"/>\n<text text-anchor=\"middle\" x=\"669.5\" y=\"-69.8\" font-family=\"Times,serif\" font-size=\"14.00\">d</text>\n<polyline fill=\"none\" stroke=\"black\" points=\"682.5,-55.5 682.5,-91.5 \"/>\n<text text-anchor=\"middle\" x=\"715.5\" y=\"-69.8\" font-family=\"Times,serif\" font-size=\"14.00\">4.0000</text>\n<polyline fill=\"none\" stroke=\"black\" points=\"748.5,-55.5 748.5,-91.5 \"/>\n<text text-anchor=\"middle\" x=\"800.5\" y=\"-69.8\" font-family=\"Times,serif\" font-size=\"14.00\">grad 0.0000</text>\n</g>\n<!-- 140386919932848&#45;&gt;140386919939856* -->\n<g id=\"edge5\" class=\"edge\">\n<title>140386919932848&#45;&gt;140386919939856*</title>\n<path fill=\"none\" stroke=\"black\" d=\"M852.88,-56.41C862.36,-54.74 871.5,-53.14 879.71,-51.7\"/>\n<polygon fill=\"black\" stroke=\"black\" points=\"880.33,-55.14 889.57,-49.96 879.12,-48.25 880.33,-55.14\"/>\n</g>\n<!-- 140386919932848+&#45;&gt;140386919932848 -->\n<g id=\"edge3\" class=\"edge\">\n<title>140386919932848+&#45;&gt;140386919932848</title>\n<path fill=\"none\" stroke=\"black\" d=\"M620.34,-73.5C627.88,-73.5 636.59,-73.5 645.88,-73.5\"/>\n<polygon fill=\"black\" stroke=\"black\" points=\"646.17,-77 656.17,-73.5 646.17,-70 646.17,-77\"/>\n</g>\n</g>\n</svg>\n",
      "text/plain": "<graphviz.graphs.Digraph at 0x7fae607e6590>"
     },
     "execution_count": 13,
     "metadata": {},
     "output_type": "execute_result"
    }
   ],
   "source": [
    "L.grad = 1\n",
    "draw_dot(L)"
   ],
   "metadata": {
    "collapsed": false
   }
  },
  {
   "cell_type": "code",
   "execution_count": 14,
   "outputs": [],
   "source": [
    "# L = d * f\n",
    "# we want to know\n",
    "# dL/dd = ?\n",
    "# dL/dd = f\n",
    "\n",
    "# (f(x+h) - f(x)) / h # limit of h goes to zero\n",
    "\n",
    "# ((d+h)*f - d*f)/h\n",
    "# (d*f + h*f - d*f)/h\n",
    "# (h*f)/h\n",
    "# f"
   ],
   "metadata": {
    "collapsed": false
   }
  },
  {
   "cell_type": "code",
   "execution_count": 15,
   "outputs": [],
   "source": [
    "f.grad = d.data"
   ],
   "metadata": {
    "collapsed": false
   }
  },
  {
   "cell_type": "code",
   "execution_count": 16,
   "outputs": [
    {
     "data": {
      "image/svg+xml": "<?xml version=\"1.0\" encoding=\"UTF-8\" standalone=\"no\"?>\n<!DOCTYPE svg PUBLIC \"-//W3C//DTD SVG 1.1//EN\"\n \"http://www.w3.org/Graphics/SVG/1.1/DTD/svg11.dtd\">\n<!-- Generated by graphviz version 2.43.0 (0)\n -->\n<!-- Title: %3 Pages: 1 -->\n<svg width=\"1188pt\" height=\"156pt\"\n viewBox=\"0.00 0.00 1188.00 156.00\" xmlns=\"http://www.w3.org/2000/svg\" xmlns:xlink=\"http://www.w3.org/1999/xlink\">\n<g id=\"graph0\" class=\"graph\" transform=\"scale(1 1) rotate(0) translate(4 152)\">\n<title>%3</title>\n<polygon fill=\"white\" stroke=\"transparent\" points=\"-4,4 -4,-152 1184,-152 1184,4 -4,4\"/>\n<!-- 140386919789760 -->\n<g id=\"node1\" class=\"node\">\n<title>140386919789760</title>\n<polygon fill=\"none\" stroke=\"black\" points=\"3,-111.5 3,-147.5 198,-147.5 198,-111.5 3,-111.5\"/>\n<text text-anchor=\"middle\" x=\"15.5\" y=\"-125.8\" font-family=\"Times,serif\" font-size=\"14.00\">a</text>\n<polyline fill=\"none\" stroke=\"black\" points=\"28,-111.5 28,-147.5 \"/>\n<text text-anchor=\"middle\" x=\"61\" y=\"-125.8\" font-family=\"Times,serif\" font-size=\"14.00\">2.0000</text>\n<polyline fill=\"none\" stroke=\"black\" points=\"94,-111.5 94,-147.5 \"/>\n<text text-anchor=\"middle\" x=\"146\" y=\"-125.8\" font-family=\"Times,serif\" font-size=\"14.00\">grad 0.0000</text>\n</g>\n<!-- 140386919932272* -->\n<g id=\"node7\" class=\"node\">\n<title>140386919932272*</title>\n<ellipse fill=\"none\" stroke=\"black\" cx=\"264\" cy=\"-101.5\" rx=\"27\" ry=\"18\"/>\n<text text-anchor=\"middle\" x=\"264\" y=\"-97.8\" font-family=\"Times,serif\" font-size=\"14.00\">*</text>\n</g>\n<!-- 140386919789760&#45;&gt;140386919932272* -->\n<g id=\"edge9\" class=\"edge\">\n<title>140386919789760&#45;&gt;140386919932272*</title>\n<path fill=\"none\" stroke=\"black\" d=\"M198.24,-112.73C208.67,-110.92 218.73,-109.18 227.68,-107.62\"/>\n<polygon fill=\"black\" stroke=\"black\" points=\"228.39,-111.05 237.64,-105.9 227.19,-104.16 228.39,-111.05\"/>\n</g>\n<!-- 140386919791824 -->\n<g id=\"node2\" class=\"node\">\n<title>140386919791824</title>\n<polygon fill=\"none\" stroke=\"black\" points=\"0,-56.5 0,-92.5 201,-92.5 201,-56.5 0,-56.5\"/>\n<text text-anchor=\"middle\" x=\"13\" y=\"-70.8\" font-family=\"Times,serif\" font-size=\"14.00\">b</text>\n<polyline fill=\"none\" stroke=\"black\" points=\"26,-56.5 26,-92.5 \"/>\n<text text-anchor=\"middle\" x=\"61.5\" y=\"-70.8\" font-family=\"Times,serif\" font-size=\"14.00\">&#45;3.0000</text>\n<polyline fill=\"none\" stroke=\"black\" points=\"97,-56.5 97,-92.5 \"/>\n<text text-anchor=\"middle\" x=\"149\" y=\"-70.8\" font-family=\"Times,serif\" font-size=\"14.00\">grad 0.0000</text>\n</g>\n<!-- 140386919791824&#45;&gt;140386919932272* -->\n<g id=\"edge6\" class=\"edge\">\n<title>140386919791824&#45;&gt;140386919932272*</title>\n<path fill=\"none\" stroke=\"black\" d=\"M201.02,-91.14C210.41,-92.71 219.44,-94.22 227.56,-95.58\"/>\n<polygon fill=\"black\" stroke=\"black\" points=\"227.24,-99.07 237.68,-97.27 228.39,-92.17 227.24,-99.07\"/>\n</g>\n<!-- 140386919932128 -->\n<g id=\"node3\" class=\"node\">\n<title>140386919932128</title>\n<polygon fill=\"none\" stroke=\"black\" points=\"656,-0.5 656,-36.5 853,-36.5 853,-0.5 656,-0.5\"/>\n<text text-anchor=\"middle\" x=\"667\" y=\"-14.8\" font-family=\"Times,serif\" font-size=\"14.00\">f</text>\n<polyline fill=\"none\" stroke=\"black\" points=\"678,-0.5 678,-36.5 \"/>\n<text text-anchor=\"middle\" x=\"713.5\" y=\"-14.8\" font-family=\"Times,serif\" font-size=\"14.00\">&#45;2.0000</text>\n<polyline fill=\"none\" stroke=\"black\" points=\"749,-0.5 749,-36.5 \"/>\n<text text-anchor=\"middle\" x=\"801\" y=\"-14.8\" font-family=\"Times,serif\" font-size=\"14.00\">grad 4.0000</text>\n</g>\n<!-- 140386919939856* -->\n<g id=\"node5\" class=\"node\">\n<title>140386919939856*</title>\n<ellipse fill=\"none\" stroke=\"black\" cx=\"916\" cy=\"-45.5\" rx=\"27\" ry=\"18\"/>\n<text text-anchor=\"middle\" x=\"916\" y=\"-41.8\" font-family=\"Times,serif\" font-size=\"14.00\">*</text>\n</g>\n<!-- 140386919932128&#45;&gt;140386919939856* -->\n<g id=\"edge4\" class=\"edge\">\n<title>140386919932128&#45;&gt;140386919939856*</title>\n<path fill=\"none\" stroke=\"black\" d=\"M853.33,-35.06C862.57,-36.62 871.46,-38.13 879.49,-39.49\"/>\n<polygon fill=\"black\" stroke=\"black\" points=\"879.04,-42.96 889.48,-41.18 880.21,-36.06 879.04,-42.96\"/>\n</g>\n<!-- 140386919939856 -->\n<g id=\"node4\" class=\"node\">\n<title>140386919939856</title>\n<polygon fill=\"none\" stroke=\"black\" points=\"979,-27.5 979,-63.5 1180,-63.5 1180,-27.5 979,-27.5\"/>\n<text text-anchor=\"middle\" x=\"992\" y=\"-41.8\" font-family=\"Times,serif\" font-size=\"14.00\">L</text>\n<polyline fill=\"none\" stroke=\"black\" points=\"1005,-27.5 1005,-63.5 \"/>\n<text text-anchor=\"middle\" x=\"1040.5\" y=\"-41.8\" font-family=\"Times,serif\" font-size=\"14.00\">&#45;8.0000</text>\n<polyline fill=\"none\" stroke=\"black\" points=\"1076,-27.5 1076,-63.5 \"/>\n<text text-anchor=\"middle\" x=\"1128\" y=\"-41.8\" font-family=\"Times,serif\" font-size=\"14.00\">grad 1.0000</text>\n</g>\n<!-- 140386919939856*&#45;&gt;140386919939856 -->\n<g id=\"edge1\" class=\"edge\">\n<title>140386919939856*&#45;&gt;140386919939856</title>\n<path fill=\"none\" stroke=\"black\" d=\"M943.31,-45.5C950.79,-45.5 959.44,-45.5 968.68,-45.5\"/>\n<polygon fill=\"black\" stroke=\"black\" points=\"968.9,-49 978.9,-45.5 968.9,-42 968.9,-49\"/>\n</g>\n<!-- 140386919932272 -->\n<g id=\"node6\" class=\"node\">\n<title>140386919932272</title>\n<polygon fill=\"none\" stroke=\"black\" points=\"328.5,-83.5 328.5,-119.5 528.5,-119.5 528.5,-83.5 328.5,-83.5\"/>\n<text text-anchor=\"middle\" x=\"341\" y=\"-97.8\" font-family=\"Times,serif\" font-size=\"14.00\">e</text>\n<polyline fill=\"none\" stroke=\"black\" points=\"353.5,-83.5 353.5,-119.5 \"/>\n<text text-anchor=\"middle\" x=\"389\" y=\"-97.8\" font-family=\"Times,serif\" font-size=\"14.00\">&#45;6.0000</text>\n<polyline fill=\"none\" stroke=\"black\" points=\"424.5,-83.5 424.5,-119.5 \"/>\n<text text-anchor=\"middle\" x=\"476.5\" y=\"-97.8\" font-family=\"Times,serif\" font-size=\"14.00\">grad 0.0000</text>\n</g>\n<!-- 140386919932848+ -->\n<g id=\"node10\" class=\"node\">\n<title>140386919932848+</title>\n<ellipse fill=\"none\" stroke=\"black\" cx=\"593\" cy=\"-73.5\" rx=\"27\" ry=\"18\"/>\n<text text-anchor=\"middle\" x=\"593\" y=\"-69.8\" font-family=\"Times,serif\" font-size=\"14.00\">+</text>\n</g>\n<!-- 140386919932272&#45;&gt;140386919932848+ -->\n<g id=\"edge8\" class=\"edge\">\n<title>140386919932272&#45;&gt;140386919932848+</title>\n<path fill=\"none\" stroke=\"black\" d=\"M528.71,-84.41C538.67,-82.69 548.25,-81.04 556.81,-79.56\"/>\n<polygon fill=\"black\" stroke=\"black\" points=\"557.44,-83.01 566.7,-77.86 556.26,-76.11 557.44,-83.01\"/>\n</g>\n<!-- 140386919932272*&#45;&gt;140386919932272 -->\n<g id=\"edge2\" class=\"edge\">\n<title>140386919932272*&#45;&gt;140386919932272</title>\n<path fill=\"none\" stroke=\"black\" d=\"M291.11,-101.5C299.05,-101.5 308.32,-101.5 318.22,-101.5\"/>\n<polygon fill=\"black\" stroke=\"black\" points=\"318.31,-105 328.31,-101.5 318.31,-98 318.31,-105\"/>\n</g>\n<!-- 140386919931264 -->\n<g id=\"node8\" class=\"node\">\n<title>140386919931264</title>\n<polygon fill=\"none\" stroke=\"black\" points=\"327,-28.5 327,-64.5 530,-64.5 530,-28.5 327,-28.5\"/>\n<text text-anchor=\"middle\" x=\"339\" y=\"-42.8\" font-family=\"Times,serif\" font-size=\"14.00\">c</text>\n<polyline fill=\"none\" stroke=\"black\" points=\"351,-28.5 351,-64.5 \"/>\n<text text-anchor=\"middle\" x=\"388.5\" y=\"-42.8\" font-family=\"Times,serif\" font-size=\"14.00\">10.0000</text>\n<polyline fill=\"none\" stroke=\"black\" points=\"426,-28.5 426,-64.5 \"/>\n<text text-anchor=\"middle\" x=\"478\" y=\"-42.8\" font-family=\"Times,serif\" font-size=\"14.00\">grad 0.0000</text>\n</g>\n<!-- 140386919931264&#45;&gt;140386919932848+ -->\n<g id=\"edge7\" class=\"edge\">\n<title>140386919931264&#45;&gt;140386919932848+</title>\n<path fill=\"none\" stroke=\"black\" d=\"M530.1,-63.22C539.49,-64.78 548.52,-66.28 556.63,-67.62\"/>\n<polygon fill=\"black\" stroke=\"black\" points=\"556.29,-71.12 566.73,-69.3 557.44,-64.21 556.29,-71.12\"/>\n</g>\n<!-- 140386919932848 -->\n<g id=\"node9\" class=\"node\">\n<title>140386919932848</title>\n<polygon fill=\"none\" stroke=\"black\" points=\"656.5,-55.5 656.5,-91.5 852.5,-91.5 852.5,-55.5 656.5,-55.5\"/>\n<text text-anchor=\"middle\" x=\"669.5\" y=\"-69.8\" font-family=\"Times,serif\" font-size=\"14.00\">d</text>\n<polyline fill=\"none\" stroke=\"black\" points=\"682.5,-55.5 682.5,-91.5 \"/>\n<text text-anchor=\"middle\" x=\"715.5\" y=\"-69.8\" font-family=\"Times,serif\" font-size=\"14.00\">4.0000</text>\n<polyline fill=\"none\" stroke=\"black\" points=\"748.5,-55.5 748.5,-91.5 \"/>\n<text text-anchor=\"middle\" x=\"800.5\" y=\"-69.8\" font-family=\"Times,serif\" font-size=\"14.00\">grad 0.0000</text>\n</g>\n<!-- 140386919932848&#45;&gt;140386919939856* -->\n<g id=\"edge5\" class=\"edge\">\n<title>140386919932848&#45;&gt;140386919939856*</title>\n<path fill=\"none\" stroke=\"black\" d=\"M852.88,-56.41C862.36,-54.74 871.5,-53.14 879.71,-51.7\"/>\n<polygon fill=\"black\" stroke=\"black\" points=\"880.33,-55.14 889.57,-49.96 879.12,-48.25 880.33,-55.14\"/>\n</g>\n<!-- 140386919932848+&#45;&gt;140386919932848 -->\n<g id=\"edge3\" class=\"edge\">\n<title>140386919932848+&#45;&gt;140386919932848</title>\n<path fill=\"none\" stroke=\"black\" d=\"M620.34,-73.5C627.88,-73.5 636.59,-73.5 645.88,-73.5\"/>\n<polygon fill=\"black\" stroke=\"black\" points=\"646.17,-77 656.17,-73.5 646.17,-70 646.17,-77\"/>\n</g>\n</g>\n</svg>\n",
      "text/plain": "<graphviz.graphs.Digraph at 0x7fae607e47f0>"
     },
     "execution_count": 16,
     "metadata": {},
     "output_type": "execute_result"
    }
   ],
   "source": [
    "draw_dot(L)"
   ],
   "metadata": {
    "collapsed": false
   }
  },
  {
   "cell_type": "code",
   "execution_count": 17,
   "outputs": [],
   "source": [
    "d.grad = f.data"
   ],
   "metadata": {
    "collapsed": false
   }
  },
  {
   "cell_type": "code",
   "execution_count": 18,
   "outputs": [
    {
     "data": {
      "image/svg+xml": "<?xml version=\"1.0\" encoding=\"UTF-8\" standalone=\"no\"?>\n<!DOCTYPE svg PUBLIC \"-//W3C//DTD SVG 1.1//EN\"\n \"http://www.w3.org/Graphics/SVG/1.1/DTD/svg11.dtd\">\n<!-- Generated by graphviz version 2.43.0 (0)\n -->\n<!-- Title: %3 Pages: 1 -->\n<svg width=\"1191pt\" height=\"156pt\"\n viewBox=\"0.00 0.00 1191.00 156.00\" xmlns=\"http://www.w3.org/2000/svg\" xmlns:xlink=\"http://www.w3.org/1999/xlink\">\n<g id=\"graph0\" class=\"graph\" transform=\"scale(1 1) rotate(0) translate(4 152)\">\n<title>%3</title>\n<polygon fill=\"white\" stroke=\"transparent\" points=\"-4,4 -4,-152 1187,-152 1187,4 -4,4\"/>\n<!-- 140386919789760 -->\n<g id=\"node1\" class=\"node\">\n<title>140386919789760</title>\n<polygon fill=\"none\" stroke=\"black\" points=\"3,-111.5 3,-147.5 198,-147.5 198,-111.5 3,-111.5\"/>\n<text text-anchor=\"middle\" x=\"15.5\" y=\"-125.8\" font-family=\"Times,serif\" font-size=\"14.00\">a</text>\n<polyline fill=\"none\" stroke=\"black\" points=\"28,-111.5 28,-147.5 \"/>\n<text text-anchor=\"middle\" x=\"61\" y=\"-125.8\" font-family=\"Times,serif\" font-size=\"14.00\">2.0000</text>\n<polyline fill=\"none\" stroke=\"black\" points=\"94,-111.5 94,-147.5 \"/>\n<text text-anchor=\"middle\" x=\"146\" y=\"-125.8\" font-family=\"Times,serif\" font-size=\"14.00\">grad 0.0000</text>\n</g>\n<!-- 140386919932272* -->\n<g id=\"node7\" class=\"node\">\n<title>140386919932272*</title>\n<ellipse fill=\"none\" stroke=\"black\" cx=\"264\" cy=\"-101.5\" rx=\"27\" ry=\"18\"/>\n<text text-anchor=\"middle\" x=\"264\" y=\"-97.8\" font-family=\"Times,serif\" font-size=\"14.00\">*</text>\n</g>\n<!-- 140386919789760&#45;&gt;140386919932272* -->\n<g id=\"edge9\" class=\"edge\">\n<title>140386919789760&#45;&gt;140386919932272*</title>\n<path fill=\"none\" stroke=\"black\" d=\"M198.24,-112.73C208.67,-110.92 218.73,-109.18 227.68,-107.62\"/>\n<polygon fill=\"black\" stroke=\"black\" points=\"228.39,-111.05 237.64,-105.9 227.19,-104.16 228.39,-111.05\"/>\n</g>\n<!-- 140386919791824 -->\n<g id=\"node2\" class=\"node\">\n<title>140386919791824</title>\n<polygon fill=\"none\" stroke=\"black\" points=\"0,-56.5 0,-92.5 201,-92.5 201,-56.5 0,-56.5\"/>\n<text text-anchor=\"middle\" x=\"13\" y=\"-70.8\" font-family=\"Times,serif\" font-size=\"14.00\">b</text>\n<polyline fill=\"none\" stroke=\"black\" points=\"26,-56.5 26,-92.5 \"/>\n<text text-anchor=\"middle\" x=\"61.5\" y=\"-70.8\" font-family=\"Times,serif\" font-size=\"14.00\">&#45;3.0000</text>\n<polyline fill=\"none\" stroke=\"black\" points=\"97,-56.5 97,-92.5 \"/>\n<text text-anchor=\"middle\" x=\"149\" y=\"-70.8\" font-family=\"Times,serif\" font-size=\"14.00\">grad 0.0000</text>\n</g>\n<!-- 140386919791824&#45;&gt;140386919932272* -->\n<g id=\"edge6\" class=\"edge\">\n<title>140386919791824&#45;&gt;140386919932272*</title>\n<path fill=\"none\" stroke=\"black\" d=\"M201.02,-91.14C210.41,-92.71 219.44,-94.22 227.56,-95.58\"/>\n<polygon fill=\"black\" stroke=\"black\" points=\"227.24,-99.07 237.68,-97.27 228.39,-92.17 227.24,-99.07\"/>\n</g>\n<!-- 140386919932128 -->\n<g id=\"node3\" class=\"node\">\n<title>140386919932128</title>\n<polygon fill=\"none\" stroke=\"black\" points=\"657.5,-0.5 657.5,-36.5 854.5,-36.5 854.5,-0.5 657.5,-0.5\"/>\n<text text-anchor=\"middle\" x=\"668.5\" y=\"-14.8\" font-family=\"Times,serif\" font-size=\"14.00\">f</text>\n<polyline fill=\"none\" stroke=\"black\" points=\"679.5,-0.5 679.5,-36.5 \"/>\n<text text-anchor=\"middle\" x=\"715\" y=\"-14.8\" font-family=\"Times,serif\" font-size=\"14.00\">&#45;2.0000</text>\n<polyline fill=\"none\" stroke=\"black\" points=\"750.5,-0.5 750.5,-36.5 \"/>\n<text text-anchor=\"middle\" x=\"802.5\" y=\"-14.8\" font-family=\"Times,serif\" font-size=\"14.00\">grad 4.0000</text>\n</g>\n<!-- 140386919939856* -->\n<g id=\"node5\" class=\"node\">\n<title>140386919939856*</title>\n<ellipse fill=\"none\" stroke=\"black\" cx=\"919\" cy=\"-45.5\" rx=\"27\" ry=\"18\"/>\n<text text-anchor=\"middle\" x=\"919\" y=\"-41.8\" font-family=\"Times,serif\" font-size=\"14.00\">*</text>\n</g>\n<!-- 140386919932128&#45;&gt;140386919939856* -->\n<g id=\"edge4\" class=\"edge\">\n<title>140386919932128&#45;&gt;140386919939856*</title>\n<path fill=\"none\" stroke=\"black\" d=\"M854.83,-34.91C864.75,-36.57 874.31,-38.17 882.85,-39.61\"/>\n<polygon fill=\"black\" stroke=\"black\" points=\"882.29,-43.06 892.73,-41.26 883.45,-36.16 882.29,-43.06\"/>\n</g>\n<!-- 140386919939856 -->\n<g id=\"node4\" class=\"node\">\n<title>140386919939856</title>\n<polygon fill=\"none\" stroke=\"black\" points=\"982,-27.5 982,-63.5 1183,-63.5 1183,-27.5 982,-27.5\"/>\n<text text-anchor=\"middle\" x=\"995\" y=\"-41.8\" font-family=\"Times,serif\" font-size=\"14.00\">L</text>\n<polyline fill=\"none\" stroke=\"black\" points=\"1008,-27.5 1008,-63.5 \"/>\n<text text-anchor=\"middle\" x=\"1043.5\" y=\"-41.8\" font-family=\"Times,serif\" font-size=\"14.00\">&#45;8.0000</text>\n<polyline fill=\"none\" stroke=\"black\" points=\"1079,-27.5 1079,-63.5 \"/>\n<text text-anchor=\"middle\" x=\"1131\" y=\"-41.8\" font-family=\"Times,serif\" font-size=\"14.00\">grad 1.0000</text>\n</g>\n<!-- 140386919939856*&#45;&gt;140386919939856 -->\n<g id=\"edge1\" class=\"edge\">\n<title>140386919939856*&#45;&gt;140386919939856</title>\n<path fill=\"none\" stroke=\"black\" d=\"M946.31,-45.5C953.79,-45.5 962.44,-45.5 971.68,-45.5\"/>\n<polygon fill=\"black\" stroke=\"black\" points=\"971.9,-49 981.9,-45.5 971.9,-42 971.9,-49\"/>\n</g>\n<!-- 140386919932272 -->\n<g id=\"node6\" class=\"node\">\n<title>140386919932272</title>\n<polygon fill=\"none\" stroke=\"black\" points=\"328.5,-83.5 328.5,-119.5 528.5,-119.5 528.5,-83.5 328.5,-83.5\"/>\n<text text-anchor=\"middle\" x=\"341\" y=\"-97.8\" font-family=\"Times,serif\" font-size=\"14.00\">e</text>\n<polyline fill=\"none\" stroke=\"black\" points=\"353.5,-83.5 353.5,-119.5 \"/>\n<text text-anchor=\"middle\" x=\"389\" y=\"-97.8\" font-family=\"Times,serif\" font-size=\"14.00\">&#45;6.0000</text>\n<polyline fill=\"none\" stroke=\"black\" points=\"424.5,-83.5 424.5,-119.5 \"/>\n<text text-anchor=\"middle\" x=\"476.5\" y=\"-97.8\" font-family=\"Times,serif\" font-size=\"14.00\">grad 0.0000</text>\n</g>\n<!-- 140386919932848+ -->\n<g id=\"node10\" class=\"node\">\n<title>140386919932848+</title>\n<ellipse fill=\"none\" stroke=\"black\" cx=\"593\" cy=\"-73.5\" rx=\"27\" ry=\"18\"/>\n<text text-anchor=\"middle\" x=\"593\" y=\"-69.8\" font-family=\"Times,serif\" font-size=\"14.00\">+</text>\n</g>\n<!-- 140386919932272&#45;&gt;140386919932848+ -->\n<g id=\"edge8\" class=\"edge\">\n<title>140386919932272&#45;&gt;140386919932848+</title>\n<path fill=\"none\" stroke=\"black\" d=\"M528.71,-84.41C538.67,-82.69 548.25,-81.04 556.81,-79.56\"/>\n<polygon fill=\"black\" stroke=\"black\" points=\"557.44,-83.01 566.7,-77.86 556.26,-76.11 557.44,-83.01\"/>\n</g>\n<!-- 140386919932272*&#45;&gt;140386919932272 -->\n<g id=\"edge2\" class=\"edge\">\n<title>140386919932272*&#45;&gt;140386919932272</title>\n<path fill=\"none\" stroke=\"black\" d=\"M291.11,-101.5C299.05,-101.5 308.32,-101.5 318.22,-101.5\"/>\n<polygon fill=\"black\" stroke=\"black\" points=\"318.31,-105 328.31,-101.5 318.31,-98 318.31,-105\"/>\n</g>\n<!-- 140386919931264 -->\n<g id=\"node8\" class=\"node\">\n<title>140386919931264</title>\n<polygon fill=\"none\" stroke=\"black\" points=\"327,-28.5 327,-64.5 530,-64.5 530,-28.5 327,-28.5\"/>\n<text text-anchor=\"middle\" x=\"339\" y=\"-42.8\" font-family=\"Times,serif\" font-size=\"14.00\">c</text>\n<polyline fill=\"none\" stroke=\"black\" points=\"351,-28.5 351,-64.5 \"/>\n<text text-anchor=\"middle\" x=\"388.5\" y=\"-42.8\" font-family=\"Times,serif\" font-size=\"14.00\">10.0000</text>\n<polyline fill=\"none\" stroke=\"black\" points=\"426,-28.5 426,-64.5 \"/>\n<text text-anchor=\"middle\" x=\"478\" y=\"-42.8\" font-family=\"Times,serif\" font-size=\"14.00\">grad 0.0000</text>\n</g>\n<!-- 140386919931264&#45;&gt;140386919932848+ -->\n<g id=\"edge7\" class=\"edge\">\n<title>140386919931264&#45;&gt;140386919932848+</title>\n<path fill=\"none\" stroke=\"black\" d=\"M530.1,-63.22C539.49,-64.78 548.52,-66.28 556.63,-67.62\"/>\n<polygon fill=\"black\" stroke=\"black\" points=\"556.29,-71.12 566.73,-69.3 557.44,-64.21 556.29,-71.12\"/>\n</g>\n<!-- 140386919932848 -->\n<g id=\"node9\" class=\"node\">\n<title>140386919932848</title>\n<polygon fill=\"none\" stroke=\"black\" points=\"656,-55.5 656,-91.5 856,-91.5 856,-55.5 656,-55.5\"/>\n<text text-anchor=\"middle\" x=\"669\" y=\"-69.8\" font-family=\"Times,serif\" font-size=\"14.00\">d</text>\n<polyline fill=\"none\" stroke=\"black\" points=\"682,-55.5 682,-91.5 \"/>\n<text text-anchor=\"middle\" x=\"715\" y=\"-69.8\" font-family=\"Times,serif\" font-size=\"14.00\">4.0000</text>\n<polyline fill=\"none\" stroke=\"black\" points=\"748,-55.5 748,-91.5 \"/>\n<text text-anchor=\"middle\" x=\"802\" y=\"-69.8\" font-family=\"Times,serif\" font-size=\"14.00\">grad &#45;2.0000</text>\n</g>\n<!-- 140386919932848&#45;&gt;140386919939856* -->\n<g id=\"edge5\" class=\"edge\">\n<title>140386919932848&#45;&gt;140386919939856*</title>\n<path fill=\"none\" stroke=\"black\" d=\"M856.21,-56.25C865.57,-54.62 874.57,-53.05 882.67,-51.64\"/>\n<polygon fill=\"black\" stroke=\"black\" points=\"883.5,-55.05 892.76,-49.89 882.3,-48.16 883.5,-55.05\"/>\n</g>\n<!-- 140386919932848+&#45;&gt;140386919932848 -->\n<g id=\"edge3\" class=\"edge\">\n<title>140386919932848+&#45;&gt;140386919932848</title>\n<path fill=\"none\" stroke=\"black\" d=\"M620.23,-73.5C627.69,-73.5 636.31,-73.5 645.52,-73.5\"/>\n<polygon fill=\"black\" stroke=\"black\" points=\"645.71,-77 655.71,-73.5 645.71,-70 645.71,-77\"/>\n</g>\n</g>\n</svg>\n",
      "text/plain": "<graphviz.graphs.Digraph at 0x7fae607e40a0>"
     },
     "execution_count": 18,
     "metadata": {},
     "output_type": "execute_result"
    }
   ],
   "source": [
    "draw_dot(L)"
   ],
   "metadata": {
    "collapsed": false
   }
  },
  {
   "cell_type": "code",
   "execution_count": 19,
   "outputs": [
    {
     "data": {
      "text/plain": "3.9999999999995595"
     },
     "execution_count": 19,
     "metadata": {},
     "output_type": "execute_result"
    }
   ],
   "source": [
    "# derivative with respect to f\n",
    "def tmp():\n",
    "    h = 0.001\n",
    "\n",
    "    a = Value(2., label='a')\n",
    "    b = Value(-3., label='b')\n",
    "    c = Value(10., label='c')\n",
    "    e = Value(a * b, label='e')\n",
    "    d = Value(e + c, label='d')\n",
    "    f = Value(-2., label='f')\n",
    "    L = Value(d * f, label='L')\n",
    "    L1 = L.data\n",
    "\n",
    "    a = Value(2., label='a')\n",
    "    b = Value(-3., label='b')\n",
    "    c = Value(10., label='c')\n",
    "    e = Value(a * b, label='e')\n",
    "    d = Value(e + c, label='d')\n",
    "    f = Value(-2. + h , label='f')\n",
    "    L = Value(d * f, label='L')\n",
    "    L2 = L.data\n",
    "\n",
    "    return (L2 - L1) / h\n",
    "\n",
    "tmp()"
   ],
   "metadata": {
    "collapsed": false
   }
  },
  {
   "cell_type": "code",
   "execution_count": 20,
   "outputs": [
    {
     "data": {
      "text/plain": "-2.000000000000668"
     },
     "execution_count": 20,
     "metadata": {},
     "output_type": "execute_result"
    }
   ],
   "source": [
    "# derivative with respect to d\n",
    "def tmp():\n",
    "    h = 0.001\n",
    "\n",
    "    a = Value(2., label='a')\n",
    "    b = Value(-3., label='b')\n",
    "    c = Value(10., label='c')\n",
    "    e = Value(a * b, label='e')\n",
    "    d = Value(e + c, label='d')\n",
    "    f = Value(-2., label='f')\n",
    "    L = Value(d * f, label='L')\n",
    "    L1 = L.data\n",
    "\n",
    "    a = Value(2., label='a')\n",
    "    b = Value(-3., label='b')\n",
    "    c = Value(10., label='c')\n",
    "    e = Value(a * b, label='e')\n",
    "    d = Value(e + c, label='d')\n",
    "    d.data += h\n",
    "    f = Value(-2., label='f')\n",
    "    L = Value(d * f, label='L')\n",
    "    L2 = L.data\n",
    "\n",
    "    return (L2 - L1) / h\n",
    "\n",
    "tmp()"
   ],
   "metadata": {
    "collapsed": false
   }
  },
  {
   "cell_type": "code",
   "execution_count": 21,
   "outputs": [],
   "source": [
    "# dL/dc -> derivative of L with respect to c"
   ],
   "metadata": {
    "collapsed": false
   }
  },
  {
   "cell_type": "code",
   "execution_count": 22,
   "outputs": [],
   "source": [
    "# dd/dc -> what is dd by dc?\n",
    "# d = c + e -> 1\n",
    "# ((c + h + e) - (c + e))/h\n",
    "# (c + h + e - c - e)/h\n",
    "# (h + e - e)/h\n",
    "# h/h\n",
    "# 1"
   ],
   "metadata": {
    "collapsed": false
   }
  },
  {
   "cell_type": "code",
   "execution_count": 23,
   "outputs": [],
   "source": [
    "# dd/de -> e (local derivative)\n",
    "# e = a * b\n",
    "# ((a + h * b) - (a * b))/h\n",
    "# (a + h * b - a * -b)/h\n",
    "# (h * b - b)/h\n",
    "# h/h\n",
    "# 1"
   ],
   "metadata": {
    "collapsed": false
   }
  },
  {
   "cell_type": "code",
   "execution_count": 23,
   "outputs": [],
   "source": [
    "# WANT:\n",
    "# dL/dc = (dL/dd) * (dd/dc)\n",
    "\n",
    "# KNOW:\n",
    "# dL/dd\n",
    "# dd/dc"
   ],
   "metadata": {
    "collapsed": false
   }
  },
  {
   "cell_type": "code",
   "execution_count": 24,
   "outputs": [
    {
     "data": {
      "text/plain": "-2.0"
     },
     "execution_count": 24,
     "metadata": {},
     "output_type": "execute_result"
    }
   ],
   "source": [
    "c.grad = d.grad * 1\n",
    "c.grad"
   ],
   "metadata": {
    "collapsed": false
   }
  },
  {
   "cell_type": "code",
   "execution_count": 25,
   "outputs": [
    {
     "data": {
      "text/plain": "-2.0"
     },
     "execution_count": 25,
     "metadata": {},
     "output_type": "execute_result"
    }
   ],
   "source": [
    "e.grad = d.grad * 1\n",
    "e.grad"
   ],
   "metadata": {
    "collapsed": false
   }
  },
  {
   "cell_type": "code",
   "execution_count": 26,
   "outputs": [
    {
     "data": {
      "image/svg+xml": "<?xml version=\"1.0\" encoding=\"UTF-8\" standalone=\"no\"?>\n<!DOCTYPE svg PUBLIC \"-//W3C//DTD SVG 1.1//EN\"\n \"http://www.w3.org/Graphics/SVG/1.1/DTD/svg11.dtd\">\n<!-- Generated by graphviz version 2.43.0 (0)\n -->\n<!-- Title: %3 Pages: 1 -->\n<svg width=\"1195pt\" height=\"156pt\"\n viewBox=\"0.00 0.00 1195.00 156.00\" xmlns=\"http://www.w3.org/2000/svg\" xmlns:xlink=\"http://www.w3.org/1999/xlink\">\n<g id=\"graph0\" class=\"graph\" transform=\"scale(1 1) rotate(0) translate(4 152)\">\n<title>%3</title>\n<polygon fill=\"white\" stroke=\"transparent\" points=\"-4,4 -4,-152 1191,-152 1191,4 -4,4\"/>\n<!-- 140386919789760 -->\n<g id=\"node1\" class=\"node\">\n<title>140386919789760</title>\n<polygon fill=\"none\" stroke=\"black\" points=\"3,-111.5 3,-147.5 198,-147.5 198,-111.5 3,-111.5\"/>\n<text text-anchor=\"middle\" x=\"15.5\" y=\"-125.8\" font-family=\"Times,serif\" font-size=\"14.00\">a</text>\n<polyline fill=\"none\" stroke=\"black\" points=\"28,-111.5 28,-147.5 \"/>\n<text text-anchor=\"middle\" x=\"61\" y=\"-125.8\" font-family=\"Times,serif\" font-size=\"14.00\">2.0000</text>\n<polyline fill=\"none\" stroke=\"black\" points=\"94,-111.5 94,-147.5 \"/>\n<text text-anchor=\"middle\" x=\"146\" y=\"-125.8\" font-family=\"Times,serif\" font-size=\"14.00\">grad 0.0000</text>\n</g>\n<!-- 140386919932272* -->\n<g id=\"node7\" class=\"node\">\n<title>140386919932272*</title>\n<ellipse fill=\"none\" stroke=\"black\" cx=\"264\" cy=\"-101.5\" rx=\"27\" ry=\"18\"/>\n<text text-anchor=\"middle\" x=\"264\" y=\"-97.8\" font-family=\"Times,serif\" font-size=\"14.00\">*</text>\n</g>\n<!-- 140386919789760&#45;&gt;140386919932272* -->\n<g id=\"edge9\" class=\"edge\">\n<title>140386919789760&#45;&gt;140386919932272*</title>\n<path fill=\"none\" stroke=\"black\" d=\"M198.24,-112.73C208.67,-110.92 218.73,-109.18 227.68,-107.62\"/>\n<polygon fill=\"black\" stroke=\"black\" points=\"228.39,-111.05 237.64,-105.9 227.19,-104.16 228.39,-111.05\"/>\n</g>\n<!-- 140386919791824 -->\n<g id=\"node2\" class=\"node\">\n<title>140386919791824</title>\n<polygon fill=\"none\" stroke=\"black\" points=\"0,-56.5 0,-92.5 201,-92.5 201,-56.5 0,-56.5\"/>\n<text text-anchor=\"middle\" x=\"13\" y=\"-70.8\" font-family=\"Times,serif\" font-size=\"14.00\">b</text>\n<polyline fill=\"none\" stroke=\"black\" points=\"26,-56.5 26,-92.5 \"/>\n<text text-anchor=\"middle\" x=\"61.5\" y=\"-70.8\" font-family=\"Times,serif\" font-size=\"14.00\">&#45;3.0000</text>\n<polyline fill=\"none\" stroke=\"black\" points=\"97,-56.5 97,-92.5 \"/>\n<text text-anchor=\"middle\" x=\"149\" y=\"-70.8\" font-family=\"Times,serif\" font-size=\"14.00\">grad 0.0000</text>\n</g>\n<!-- 140386919791824&#45;&gt;140386919932272* -->\n<g id=\"edge6\" class=\"edge\">\n<title>140386919791824&#45;&gt;140386919932272*</title>\n<path fill=\"none\" stroke=\"black\" d=\"M201.02,-91.14C210.41,-92.71 219.44,-94.22 227.56,-95.58\"/>\n<polygon fill=\"black\" stroke=\"black\" points=\"227.24,-99.07 237.68,-97.27 228.39,-92.17 227.24,-99.07\"/>\n</g>\n<!-- 140386919932128 -->\n<g id=\"node3\" class=\"node\">\n<title>140386919932128</title>\n<polygon fill=\"none\" stroke=\"black\" points=\"661.5,-0.5 661.5,-36.5 858.5,-36.5 858.5,-0.5 661.5,-0.5\"/>\n<text text-anchor=\"middle\" x=\"672.5\" y=\"-14.8\" font-family=\"Times,serif\" font-size=\"14.00\">f</text>\n<polyline fill=\"none\" stroke=\"black\" points=\"683.5,-0.5 683.5,-36.5 \"/>\n<text text-anchor=\"middle\" x=\"719\" y=\"-14.8\" font-family=\"Times,serif\" font-size=\"14.00\">&#45;2.0000</text>\n<polyline fill=\"none\" stroke=\"black\" points=\"754.5,-0.5 754.5,-36.5 \"/>\n<text text-anchor=\"middle\" x=\"806.5\" y=\"-14.8\" font-family=\"Times,serif\" font-size=\"14.00\">grad 4.0000</text>\n</g>\n<!-- 140386919939856* -->\n<g id=\"node5\" class=\"node\">\n<title>140386919939856*</title>\n<ellipse fill=\"none\" stroke=\"black\" cx=\"923\" cy=\"-45.5\" rx=\"27\" ry=\"18\"/>\n<text text-anchor=\"middle\" x=\"923\" y=\"-41.8\" font-family=\"Times,serif\" font-size=\"14.00\">*</text>\n</g>\n<!-- 140386919932128&#45;&gt;140386919939856* -->\n<g id=\"edge4\" class=\"edge\">\n<title>140386919932128&#45;&gt;140386919939856*</title>\n<path fill=\"none\" stroke=\"black\" d=\"M858.83,-34.91C868.75,-36.57 878.31,-38.17 886.85,-39.61\"/>\n<polygon fill=\"black\" stroke=\"black\" points=\"886.29,-43.06 896.73,-41.26 887.45,-36.16 886.29,-43.06\"/>\n</g>\n<!-- 140386919939856 -->\n<g id=\"node4\" class=\"node\">\n<title>140386919939856</title>\n<polygon fill=\"none\" stroke=\"black\" points=\"986,-27.5 986,-63.5 1187,-63.5 1187,-27.5 986,-27.5\"/>\n<text text-anchor=\"middle\" x=\"999\" y=\"-41.8\" font-family=\"Times,serif\" font-size=\"14.00\">L</text>\n<polyline fill=\"none\" stroke=\"black\" points=\"1012,-27.5 1012,-63.5 \"/>\n<text text-anchor=\"middle\" x=\"1047.5\" y=\"-41.8\" font-family=\"Times,serif\" font-size=\"14.00\">&#45;8.0000</text>\n<polyline fill=\"none\" stroke=\"black\" points=\"1083,-27.5 1083,-63.5 \"/>\n<text text-anchor=\"middle\" x=\"1135\" y=\"-41.8\" font-family=\"Times,serif\" font-size=\"14.00\">grad 1.0000</text>\n</g>\n<!-- 140386919939856*&#45;&gt;140386919939856 -->\n<g id=\"edge1\" class=\"edge\">\n<title>140386919939856*&#45;&gt;140386919939856</title>\n<path fill=\"none\" stroke=\"black\" d=\"M950.31,-45.5C957.79,-45.5 966.44,-45.5 975.68,-45.5\"/>\n<polygon fill=\"black\" stroke=\"black\" points=\"975.9,-49 985.9,-45.5 975.9,-42 975.9,-49\"/>\n</g>\n<!-- 140386919932272 -->\n<g id=\"node6\" class=\"node\">\n<title>140386919932272</title>\n<polygon fill=\"none\" stroke=\"black\" points=\"328.5,-83.5 328.5,-119.5 532.5,-119.5 532.5,-83.5 328.5,-83.5\"/>\n<text text-anchor=\"middle\" x=\"341\" y=\"-97.8\" font-family=\"Times,serif\" font-size=\"14.00\">e</text>\n<polyline fill=\"none\" stroke=\"black\" points=\"353.5,-83.5 353.5,-119.5 \"/>\n<text text-anchor=\"middle\" x=\"389\" y=\"-97.8\" font-family=\"Times,serif\" font-size=\"14.00\">&#45;6.0000</text>\n<polyline fill=\"none\" stroke=\"black\" points=\"424.5,-83.5 424.5,-119.5 \"/>\n<text text-anchor=\"middle\" x=\"478.5\" y=\"-97.8\" font-family=\"Times,serif\" font-size=\"14.00\">grad &#45;2.0000</text>\n</g>\n<!-- 140386919932848+ -->\n<g id=\"node10\" class=\"node\">\n<title>140386919932848+</title>\n<ellipse fill=\"none\" stroke=\"black\" cx=\"597\" cy=\"-73.5\" rx=\"27\" ry=\"18\"/>\n<text text-anchor=\"middle\" x=\"597\" y=\"-69.8\" font-family=\"Times,serif\" font-size=\"14.00\">+</text>\n</g>\n<!-- 140386919932272&#45;&gt;140386919932848+ -->\n<g id=\"edge8\" class=\"edge\">\n<title>140386919932272&#45;&gt;140386919932848+</title>\n<path fill=\"none\" stroke=\"black\" d=\"M532.87,-84.25C542.63,-82.58 552.02,-80.99 560.42,-79.56\"/>\n<polygon fill=\"black\" stroke=\"black\" points=\"561.24,-82.97 570.51,-77.84 560.07,-76.07 561.24,-82.97\"/>\n</g>\n<!-- 140386919932272*&#45;&gt;140386919932272 -->\n<g id=\"edge2\" class=\"edge\">\n<title>140386919932272*&#45;&gt;140386919932272</title>\n<path fill=\"none\" stroke=\"black\" d=\"M291.07,-101.5C299.02,-101.5 308.31,-101.5 318.25,-101.5\"/>\n<polygon fill=\"black\" stroke=\"black\" points=\"318.37,-105 328.37,-101.5 318.37,-98 318.37,-105\"/>\n</g>\n<!-- 140386919931264 -->\n<g id=\"node8\" class=\"node\">\n<title>140386919931264</title>\n<polygon fill=\"none\" stroke=\"black\" points=\"327,-28.5 327,-64.5 534,-64.5 534,-28.5 327,-28.5\"/>\n<text text-anchor=\"middle\" x=\"339\" y=\"-42.8\" font-family=\"Times,serif\" font-size=\"14.00\">c</text>\n<polyline fill=\"none\" stroke=\"black\" points=\"351,-28.5 351,-64.5 \"/>\n<text text-anchor=\"middle\" x=\"388.5\" y=\"-42.8\" font-family=\"Times,serif\" font-size=\"14.00\">10.0000</text>\n<polyline fill=\"none\" stroke=\"black\" points=\"426,-28.5 426,-64.5 \"/>\n<text text-anchor=\"middle\" x=\"480\" y=\"-42.8\" font-family=\"Times,serif\" font-size=\"14.00\">grad &#45;2.0000</text>\n</g>\n<!-- 140386919931264&#45;&gt;140386919932848+ -->\n<g id=\"edge7\" class=\"edge\">\n<title>140386919931264&#45;&gt;140386919932848+</title>\n<path fill=\"none\" stroke=\"black\" d=\"M534.28,-63.37C543.58,-64.9 552.51,-66.36 560.54,-67.68\"/>\n<polygon fill=\"black\" stroke=\"black\" points=\"560.11,-71.16 570.55,-69.32 561.25,-64.25 560.11,-71.16\"/>\n</g>\n<!-- 140386919932848 -->\n<g id=\"node9\" class=\"node\">\n<title>140386919932848</title>\n<polygon fill=\"none\" stroke=\"black\" points=\"660,-55.5 660,-91.5 860,-91.5 860,-55.5 660,-55.5\"/>\n<text text-anchor=\"middle\" x=\"673\" y=\"-69.8\" font-family=\"Times,serif\" font-size=\"14.00\">d</text>\n<polyline fill=\"none\" stroke=\"black\" points=\"686,-55.5 686,-91.5 \"/>\n<text text-anchor=\"middle\" x=\"719\" y=\"-69.8\" font-family=\"Times,serif\" font-size=\"14.00\">4.0000</text>\n<polyline fill=\"none\" stroke=\"black\" points=\"752,-55.5 752,-91.5 \"/>\n<text text-anchor=\"middle\" x=\"806\" y=\"-69.8\" font-family=\"Times,serif\" font-size=\"14.00\">grad &#45;2.0000</text>\n</g>\n<!-- 140386919932848&#45;&gt;140386919939856* -->\n<g id=\"edge5\" class=\"edge\">\n<title>140386919932848&#45;&gt;140386919939856*</title>\n<path fill=\"none\" stroke=\"black\" d=\"M860.21,-56.25C869.57,-54.62 878.57,-53.05 886.67,-51.64\"/>\n<polygon fill=\"black\" stroke=\"black\" points=\"887.5,-55.05 896.76,-49.89 886.3,-48.16 887.5,-55.05\"/>\n</g>\n<!-- 140386919932848+&#45;&gt;140386919932848 -->\n<g id=\"edge3\" class=\"edge\">\n<title>140386919932848+&#45;&gt;140386919932848</title>\n<path fill=\"none\" stroke=\"black\" d=\"M624.23,-73.5C631.69,-73.5 640.31,-73.5 649.52,-73.5\"/>\n<polygon fill=\"black\" stroke=\"black\" points=\"649.71,-77 659.71,-73.5 649.71,-70 649.71,-77\"/>\n</g>\n</g>\n</svg>\n",
      "text/plain": "<graphviz.graphs.Digraph at 0x7fae607fde40>"
     },
     "execution_count": 26,
     "metadata": {},
     "output_type": "execute_result"
    }
   ],
   "source": [
    "draw_dot(L)"
   ],
   "metadata": {
    "collapsed": false
   }
  },
  {
   "cell_type": "code",
   "execution_count": 27,
   "outputs": [
    {
     "data": {
      "text/plain": "-1.9999999999988916"
     },
     "execution_count": 27,
     "metadata": {},
     "output_type": "execute_result"
    }
   ],
   "source": [
    "# derivative with respect to c\n",
    "def tmp():\n",
    "    h = 0.001\n",
    "\n",
    "    a = Value(2., label='a')\n",
    "    b = Value(-3., label='b')\n",
    "    c = Value(10., label='c')\n",
    "    e = Value(a * b, label='e')\n",
    "    d = Value(e + c, label='d')\n",
    "    f = Value(-2., label='f')\n",
    "    L = Value(d * f, label='L')\n",
    "    L1 = L.data\n",
    "\n",
    "    a = Value(2., label='a')\n",
    "    b = Value(-3., label='b')\n",
    "    c = Value(10., label='c')\n",
    "    c.data += h\n",
    "    e = Value(a * b, label='e')\n",
    "    d = Value(e + c, label='d')\n",
    "    f = Value(-2., label='f')\n",
    "    L = Value(d * f, label='L')\n",
    "    L2 = L.data\n",
    "\n",
    "    return (L2 - L1) / h\n",
    "\n",
    "tmp()"
   ],
   "metadata": {
    "collapsed": false
   }
  },
  {
   "cell_type": "code",
   "execution_count": 28,
   "outputs": [
    {
     "data": {
      "text/plain": "-2.000000000000668"
     },
     "execution_count": 28,
     "metadata": {},
     "output_type": "execute_result"
    }
   ],
   "source": [
    "# derivative with respect to e\n",
    "def tmp():\n",
    "    h = 0.001\n",
    "\n",
    "    a = Value(2., label='a')\n",
    "    b = Value(-3., label='b')\n",
    "    c = Value(10., label='c')\n",
    "    e = Value(a * b, label='e')\n",
    "    d = Value(e + c, label='d')\n",
    "    f = Value(-2., label='f')\n",
    "    L = Value(d * f, label='L')\n",
    "    L1 = L.data\n",
    "\n",
    "    a = Value(2., label='a')\n",
    "    b = Value(-3., label='b')\n",
    "    c = Value(10., label='c')\n",
    "    e = Value(a * b, label='e')\n",
    "    e.data += h\n",
    "    d = Value(e + c, label='d')\n",
    "    f = Value(-2., label='f')\n",
    "    L = Value(d * f, label='L')\n",
    "    L2 = L.data\n",
    "\n",
    "    return (L2 - L1) / h\n",
    "\n",
    "tmp()"
   ],
   "metadata": {
    "collapsed": false
   }
  },
  {
   "cell_type": "code",
   "execution_count": null,
   "outputs": [],
   "source": [
    "# WANT:\n",
    "# dL/da = (dL/dd) * (de/da)\n",
    "# de/da is the local gradient\n",
    "# de/da is the value of b\n",
    "\n",
    "# KNOW:\n",
    "# dL/dd = -2\n",
    "# dL/dc = -2"
   ],
   "metadata": {
    "collapsed": false
   }
  },
  {
   "cell_type": "code",
   "execution_count": 30,
   "outputs": [
    {
     "data": {
      "text/plain": "6.0"
     },
     "execution_count": 30,
     "metadata": {},
     "output_type": "execute_result"
    }
   ],
   "source": [
    "a.grad = e.grad * b.data\n",
    "a.grad"
   ],
   "metadata": {
    "collapsed": false
   }
  },
  {
   "cell_type": "code",
   "execution_count": 31,
   "outputs": [
    {
     "data": {
      "text/plain": "-4.0"
     },
     "execution_count": 31,
     "metadata": {},
     "output_type": "execute_result"
    }
   ],
   "source": [
    "b.grad = e.grad * a.data\n",
    "b.grad"
   ],
   "metadata": {
    "collapsed": false
   }
  },
  {
   "cell_type": "code",
   "execution_count": 32,
   "outputs": [
    {
     "data": {
      "image/svg+xml": "<?xml version=\"1.0\" encoding=\"UTF-8\" standalone=\"no\"?>\n<!DOCTYPE svg PUBLIC \"-//W3C//DTD SVG 1.1//EN\"\n \"http://www.w3.org/Graphics/SVG/1.1/DTD/svg11.dtd\">\n<!-- Generated by graphviz version 2.43.0 (0)\n -->\n<!-- Title: %3 Pages: 1 -->\n<svg width=\"1199pt\" height=\"156pt\"\n viewBox=\"0.00 0.00 1199.00 156.00\" xmlns=\"http://www.w3.org/2000/svg\" xmlns:xlink=\"http://www.w3.org/1999/xlink\">\n<g id=\"graph0\" class=\"graph\" transform=\"scale(1 1) rotate(0) translate(4 152)\">\n<title>%3</title>\n<polygon fill=\"white\" stroke=\"transparent\" points=\"-4,4 -4,-152 1195,-152 1195,4 -4,4\"/>\n<!-- 140386919789760 -->\n<g id=\"node1\" class=\"node\">\n<title>140386919789760</title>\n<polygon fill=\"none\" stroke=\"black\" points=\"5,-111.5 5,-147.5 200,-147.5 200,-111.5 5,-111.5\"/>\n<text text-anchor=\"middle\" x=\"17.5\" y=\"-125.8\" font-family=\"Times,serif\" font-size=\"14.00\">a</text>\n<polyline fill=\"none\" stroke=\"black\" points=\"30,-111.5 30,-147.5 \"/>\n<text text-anchor=\"middle\" x=\"63\" y=\"-125.8\" font-family=\"Times,serif\" font-size=\"14.00\">2.0000</text>\n<polyline fill=\"none\" stroke=\"black\" points=\"96,-111.5 96,-147.5 \"/>\n<text text-anchor=\"middle\" x=\"148\" y=\"-125.8\" font-family=\"Times,serif\" font-size=\"14.00\">grad 6.0000</text>\n</g>\n<!-- 140386919932272* -->\n<g id=\"node7\" class=\"node\">\n<title>140386919932272*</title>\n<ellipse fill=\"none\" stroke=\"black\" cx=\"268\" cy=\"-101.5\" rx=\"27\" ry=\"18\"/>\n<text text-anchor=\"middle\" x=\"268\" y=\"-97.8\" font-family=\"Times,serif\" font-size=\"14.00\">*</text>\n</g>\n<!-- 140386919789760&#45;&gt;140386919932272* -->\n<g id=\"edge9\" class=\"edge\">\n<title>140386919789760&#45;&gt;140386919932272*</title>\n<path fill=\"none\" stroke=\"black\" d=\"M200.03,-112.97C211.3,-111.04 222.18,-109.18 231.78,-107.53\"/>\n<polygon fill=\"black\" stroke=\"black\" points=\"232.39,-110.98 241.65,-105.84 231.21,-104.08 232.39,-110.98\"/>\n</g>\n<!-- 140386919791824 -->\n<g id=\"node2\" class=\"node\">\n<title>140386919791824</title>\n<polygon fill=\"none\" stroke=\"black\" points=\"0,-56.5 0,-92.5 205,-92.5 205,-56.5 0,-56.5\"/>\n<text text-anchor=\"middle\" x=\"13\" y=\"-70.8\" font-family=\"Times,serif\" font-size=\"14.00\">b</text>\n<polyline fill=\"none\" stroke=\"black\" points=\"26,-56.5 26,-92.5 \"/>\n<text text-anchor=\"middle\" x=\"61.5\" y=\"-70.8\" font-family=\"Times,serif\" font-size=\"14.00\">&#45;3.0000</text>\n<polyline fill=\"none\" stroke=\"black\" points=\"97,-56.5 97,-92.5 \"/>\n<text text-anchor=\"middle\" x=\"151\" y=\"-70.8\" font-family=\"Times,serif\" font-size=\"14.00\">grad &#45;4.0000</text>\n</g>\n<!-- 140386919791824&#45;&gt;140386919932272* -->\n<g id=\"edge6\" class=\"edge\">\n<title>140386919791824&#45;&gt;140386919932272*</title>\n<path fill=\"none\" stroke=\"black\" d=\"M205.19,-91.29C214.49,-92.83 223.42,-94.3 231.47,-95.63\"/>\n<polygon fill=\"black\" stroke=\"black\" points=\"231.05,-99.11 241.49,-97.29 232.19,-92.2 231.05,-99.11\"/>\n</g>\n<!-- 140386919932128 -->\n<g id=\"node3\" class=\"node\">\n<title>140386919932128</title>\n<polygon fill=\"none\" stroke=\"black\" points=\"665.5,-0.5 665.5,-36.5 862.5,-36.5 862.5,-0.5 665.5,-0.5\"/>\n<text text-anchor=\"middle\" x=\"676.5\" y=\"-14.8\" font-family=\"Times,serif\" font-size=\"14.00\">f</text>\n<polyline fill=\"none\" stroke=\"black\" points=\"687.5,-0.5 687.5,-36.5 \"/>\n<text text-anchor=\"middle\" x=\"723\" y=\"-14.8\" font-family=\"Times,serif\" font-size=\"14.00\">&#45;2.0000</text>\n<polyline fill=\"none\" stroke=\"black\" points=\"758.5,-0.5 758.5,-36.5 \"/>\n<text text-anchor=\"middle\" x=\"810.5\" y=\"-14.8\" font-family=\"Times,serif\" font-size=\"14.00\">grad 4.0000</text>\n</g>\n<!-- 140386919939856* -->\n<g id=\"node5\" class=\"node\">\n<title>140386919939856*</title>\n<ellipse fill=\"none\" stroke=\"black\" cx=\"927\" cy=\"-45.5\" rx=\"27\" ry=\"18\"/>\n<text text-anchor=\"middle\" x=\"927\" y=\"-41.8\" font-family=\"Times,serif\" font-size=\"14.00\">*</text>\n</g>\n<!-- 140386919932128&#45;&gt;140386919939856* -->\n<g id=\"edge4\" class=\"edge\">\n<title>140386919932128&#45;&gt;140386919939856*</title>\n<path fill=\"none\" stroke=\"black\" d=\"M862.83,-34.91C872.75,-36.57 882.31,-38.17 890.85,-39.61\"/>\n<polygon fill=\"black\" stroke=\"black\" points=\"890.29,-43.06 900.73,-41.26 891.45,-36.16 890.29,-43.06\"/>\n</g>\n<!-- 140386919939856 -->\n<g id=\"node4\" class=\"node\">\n<title>140386919939856</title>\n<polygon fill=\"none\" stroke=\"black\" points=\"990,-27.5 990,-63.5 1191,-63.5 1191,-27.5 990,-27.5\"/>\n<text text-anchor=\"middle\" x=\"1003\" y=\"-41.8\" font-family=\"Times,serif\" font-size=\"14.00\">L</text>\n<polyline fill=\"none\" stroke=\"black\" points=\"1016,-27.5 1016,-63.5 \"/>\n<text text-anchor=\"middle\" x=\"1051.5\" y=\"-41.8\" font-family=\"Times,serif\" font-size=\"14.00\">&#45;8.0000</text>\n<polyline fill=\"none\" stroke=\"black\" points=\"1087,-27.5 1087,-63.5 \"/>\n<text text-anchor=\"middle\" x=\"1139\" y=\"-41.8\" font-family=\"Times,serif\" font-size=\"14.00\">grad 1.0000</text>\n</g>\n<!-- 140386919939856*&#45;&gt;140386919939856 -->\n<g id=\"edge1\" class=\"edge\">\n<title>140386919939856*&#45;&gt;140386919939856</title>\n<path fill=\"none\" stroke=\"black\" d=\"M954.31,-45.5C961.79,-45.5 970.44,-45.5 979.68,-45.5\"/>\n<polygon fill=\"black\" stroke=\"black\" points=\"979.9,-49 989.9,-45.5 979.9,-42 979.9,-49\"/>\n</g>\n<!-- 140386919932272 -->\n<g id=\"node6\" class=\"node\">\n<title>140386919932272</title>\n<polygon fill=\"none\" stroke=\"black\" points=\"332.5,-83.5 332.5,-119.5 536.5,-119.5 536.5,-83.5 332.5,-83.5\"/>\n<text text-anchor=\"middle\" x=\"345\" y=\"-97.8\" font-family=\"Times,serif\" font-size=\"14.00\">e</text>\n<polyline fill=\"none\" stroke=\"black\" points=\"357.5,-83.5 357.5,-119.5 \"/>\n<text text-anchor=\"middle\" x=\"393\" y=\"-97.8\" font-family=\"Times,serif\" font-size=\"14.00\">&#45;6.0000</text>\n<polyline fill=\"none\" stroke=\"black\" points=\"428.5,-83.5 428.5,-119.5 \"/>\n<text text-anchor=\"middle\" x=\"482.5\" y=\"-97.8\" font-family=\"Times,serif\" font-size=\"14.00\">grad &#45;2.0000</text>\n</g>\n<!-- 140386919932848+ -->\n<g id=\"node10\" class=\"node\">\n<title>140386919932848+</title>\n<ellipse fill=\"none\" stroke=\"black\" cx=\"601\" cy=\"-73.5\" rx=\"27\" ry=\"18\"/>\n<text text-anchor=\"middle\" x=\"601\" y=\"-69.8\" font-family=\"Times,serif\" font-size=\"14.00\">+</text>\n</g>\n<!-- 140386919932272&#45;&gt;140386919932848+ -->\n<g id=\"edge8\" class=\"edge\">\n<title>140386919932272&#45;&gt;140386919932848+</title>\n<path fill=\"none\" stroke=\"black\" d=\"M536.87,-84.25C546.63,-82.58 556.02,-80.99 564.42,-79.56\"/>\n<polygon fill=\"black\" stroke=\"black\" points=\"565.24,-82.97 574.51,-77.84 564.07,-76.07 565.24,-82.97\"/>\n</g>\n<!-- 140386919932272*&#45;&gt;140386919932272 -->\n<g id=\"edge2\" class=\"edge\">\n<title>140386919932272*&#45;&gt;140386919932272</title>\n<path fill=\"none\" stroke=\"black\" d=\"M295.07,-101.5C303.02,-101.5 312.31,-101.5 322.25,-101.5\"/>\n<polygon fill=\"black\" stroke=\"black\" points=\"322.37,-105 332.37,-101.5 322.37,-98 322.37,-105\"/>\n</g>\n<!-- 140386919931264 -->\n<g id=\"node8\" class=\"node\">\n<title>140386919931264</title>\n<polygon fill=\"none\" stroke=\"black\" points=\"331,-28.5 331,-64.5 538,-64.5 538,-28.5 331,-28.5\"/>\n<text text-anchor=\"middle\" x=\"343\" y=\"-42.8\" font-family=\"Times,serif\" font-size=\"14.00\">c</text>\n<polyline fill=\"none\" stroke=\"black\" points=\"355,-28.5 355,-64.5 \"/>\n<text text-anchor=\"middle\" x=\"392.5\" y=\"-42.8\" font-family=\"Times,serif\" font-size=\"14.00\">10.0000</text>\n<polyline fill=\"none\" stroke=\"black\" points=\"430,-28.5 430,-64.5 \"/>\n<text text-anchor=\"middle\" x=\"484\" y=\"-42.8\" font-family=\"Times,serif\" font-size=\"14.00\">grad &#45;2.0000</text>\n</g>\n<!-- 140386919931264&#45;&gt;140386919932848+ -->\n<g id=\"edge7\" class=\"edge\">\n<title>140386919931264&#45;&gt;140386919932848+</title>\n<path fill=\"none\" stroke=\"black\" d=\"M538.28,-63.37C547.58,-64.9 556.51,-66.36 564.54,-67.68\"/>\n<polygon fill=\"black\" stroke=\"black\" points=\"564.11,-71.16 574.55,-69.32 565.25,-64.25 564.11,-71.16\"/>\n</g>\n<!-- 140386919932848 -->\n<g id=\"node9\" class=\"node\">\n<title>140386919932848</title>\n<polygon fill=\"none\" stroke=\"black\" points=\"664,-55.5 664,-91.5 864,-91.5 864,-55.5 664,-55.5\"/>\n<text text-anchor=\"middle\" x=\"677\" y=\"-69.8\" font-family=\"Times,serif\" font-size=\"14.00\">d</text>\n<polyline fill=\"none\" stroke=\"black\" points=\"690,-55.5 690,-91.5 \"/>\n<text text-anchor=\"middle\" x=\"723\" y=\"-69.8\" font-family=\"Times,serif\" font-size=\"14.00\">4.0000</text>\n<polyline fill=\"none\" stroke=\"black\" points=\"756,-55.5 756,-91.5 \"/>\n<text text-anchor=\"middle\" x=\"810\" y=\"-69.8\" font-family=\"Times,serif\" font-size=\"14.00\">grad &#45;2.0000</text>\n</g>\n<!-- 140386919932848&#45;&gt;140386919939856* -->\n<g id=\"edge5\" class=\"edge\">\n<title>140386919932848&#45;&gt;140386919939856*</title>\n<path fill=\"none\" stroke=\"black\" d=\"M864.21,-56.25C873.57,-54.62 882.57,-53.05 890.67,-51.64\"/>\n<polygon fill=\"black\" stroke=\"black\" points=\"891.5,-55.05 900.76,-49.89 890.3,-48.16 891.5,-55.05\"/>\n</g>\n<!-- 140386919932848+&#45;&gt;140386919932848 -->\n<g id=\"edge3\" class=\"edge\">\n<title>140386919932848+&#45;&gt;140386919932848</title>\n<path fill=\"none\" stroke=\"black\" d=\"M628.23,-73.5C635.69,-73.5 644.31,-73.5 653.52,-73.5\"/>\n<polygon fill=\"black\" stroke=\"black\" points=\"653.71,-77 663.71,-73.5 653.71,-70 653.71,-77\"/>\n</g>\n</g>\n</svg>\n",
      "text/plain": "<graphviz.graphs.Digraph at 0x7fae607fd3f0>"
     },
     "execution_count": 32,
     "metadata": {},
     "output_type": "execute_result"
    }
   ],
   "source": [
    "draw_dot(L)"
   ],
   "metadata": {
    "collapsed": false
   }
  }
 ],
 "metadata": {
  "kernelspec": {
   "display_name": "Python 3",
   "language": "python",
   "name": "python3"
  },
  "language_info": {
   "codemirror_mode": {
    "name": "ipython",
    "version": 2
   },
   "file_extension": ".py",
   "mimetype": "text/x-python",
   "name": "python",
   "nbconvert_exporter": "python",
   "pygments_lexer": "ipython2",
   "version": "2.7.6"
  }
 },
 "nbformat": 4,
 "nbformat_minor": 0
}

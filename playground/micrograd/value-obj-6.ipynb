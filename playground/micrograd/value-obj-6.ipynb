{
 "cells": [
  {
   "cell_type": "code",
   "execution_count": 119,
   "outputs": [],
   "source": [
    "from graphviz import Digraph\n",
    "import math\n",
    "import numpy as np\n",
    "import matplotlib.pyplot as plt\n",
    "%matplotlib inline"
   ],
   "metadata": {
    "collapsed": false
   }
  },
  {
   "cell_type": "code",
   "execution_count": 120,
   "outputs": [],
   "source": [
    "def with_label(value, label):\n",
    "    value._label = label\n",
    "    return value\n",
    "\n",
    "class Value:\n",
    "    def __init__(self, value, prev=(), op='', label=''):\n",
    "        self._label = label\n",
    "        self.data = value\n",
    "        self._prev = set(prev)\n",
    "        self._op = op\n",
    "        self._grad = 0\n",
    "        self._backward = lambda: None\n",
    "\n",
    "    def __repr__(self):\n",
    "        return f\"Value(data={self.data}, label={self.label})\"\n",
    "\n",
    "    def __add__(self, other):\n",
    "        other = Value.get_value(other)\n",
    "        out = Value(self.data + other.data, (self, other), '+')\n",
    "\n",
    "        def backward():\n",
    "            self._grad += 1. * out.grad\n",
    "            other._grad += 1. * out.grad\n",
    "        out._backward = backward\n",
    "\n",
    "        return out\n",
    "\n",
    "    def __neg__(self):\n",
    "        return self * -1\n",
    "\n",
    "    def __sub__(self, other):\n",
    "        return self + (-other)\n",
    "\n",
    "    def __mul__(self, other):\n",
    "        other = Value.get_value(other)\n",
    "        out = Value(self.data * other.data, (self, other), '*')\n",
    "\n",
    "        def backward():\n",
    "            self._grad += other.data * out.grad\n",
    "            other._grad += self.data * out.grad\n",
    "        out._backward = backward\n",
    "\n",
    "        return out\n",
    "\n",
    "    def __rmul__(self, other):\n",
    "        return self * other\n",
    "\n",
    "    def exp(self):\n",
    "        x = self.data\n",
    "        out = Value(math.exp(x), (self,), 'exp')\n",
    "\n",
    "        def _backward():\n",
    "            self._grad += out.data * out.grad\n",
    "        out._backward = _backward\n",
    "\n",
    "        return out\n",
    "\n",
    "    def __pow__(self, other):\n",
    "        assert isinstance(other, (int, float)), \"only int/float are supported on pow\"\n",
    "        out = Value(self.data ** other, (self,), f'**{other}')\n",
    "\n",
    "        def _backward():\n",
    "            self._grad += other * (self.data ** (other - 1)) * out.grad\n",
    "        out._backward = _backward\n",
    "\n",
    "        return out\n",
    "\n",
    "    def __truediv__(self, other):\n",
    "        return self * other**-1\n",
    "\n",
    "    def tanh(self):\n",
    "        x = self.data\n",
    "        t = (math.exp(2*x) - 1) / (math.exp(2*x) + 1)\n",
    "        out = Value(t, (self,), 'tanh')\n",
    "\n",
    "        def backward():\n",
    "            self._grad += (1 - t**2) * out.grad\n",
    "        out._backward = backward\n",
    "\n",
    "        return out\n",
    "\n",
    "    def backward(self):\n",
    "        topo = []\n",
    "        visited = set()\n",
    "\n",
    "        def _build(v):\n",
    "            if v not in visited:\n",
    "                visited.add(v)\n",
    "                for child in v.prev:\n",
    "                    _build(child)\n",
    "                topo.append(v)\n",
    "\n",
    "        _build(self)\n",
    "\n",
    "        self._grad = 1\n",
    "        for node in reversed(topo):\n",
    "            node._backward()\n",
    "\n",
    "    @staticmethod\n",
    "    def get_value(x):\n",
    "        if isinstance(x, Value):\n",
    "            return x\n",
    "        return Value(x, label=f'scalar({x})')\n",
    "\n",
    "    @property\n",
    "    def label(self):\n",
    "        if not self._label and self._prev:\n",
    "            return f\"({[_n.label for _n in self._prev]})\"\n",
    "        return self._label\n",
    "\n",
    "    @property\n",
    "    def prev(self):\n",
    "        return self._prev\n",
    "\n",
    "    @property\n",
    "    def op(self):\n",
    "        return self._op\n",
    "\n",
    "    @property\n",
    "    def grad(self):\n",
    "        return self._grad"
   ],
   "metadata": {
    "collapsed": false
   }
  },
  {
   "cell_type": "code",
   "execution_count": 121,
   "outputs": [
    {
     "data": {
      "text/plain": "Value(data=3.0, label=(['scalar(1)', 'a']))"
     },
     "execution_count": 121,
     "metadata": {},
     "output_type": "execute_result"
    }
   ],
   "source": [
    "a = Value(2., label='a')\n",
    "a + 1"
   ],
   "metadata": {
    "collapsed": false
   }
  },
  {
   "cell_type": "code",
   "execution_count": 122,
   "outputs": [
    {
     "data": {
      "text/plain": "Value(data=4.0, label=(['a', 'scalar(2)']))"
     },
     "execution_count": 122,
     "metadata": {},
     "output_type": "execute_result"
    }
   ],
   "source": [
    "2 * a"
   ],
   "metadata": {
    "collapsed": false
   }
  },
  {
   "cell_type": "code",
   "execution_count": 123,
   "outputs": [
    {
     "data": {
      "text/plain": "Value(data=7.38905609893065, label=(['a']))"
     },
     "execution_count": 123,
     "metadata": {},
     "output_type": "execute_result"
    }
   ],
   "source": [
    "a.exp()"
   ],
   "metadata": {
    "collapsed": false
   }
  },
  {
   "cell_type": "code",
   "execution_count": 124,
   "outputs": [
    {
     "data": {
      "text/plain": "Value(data=0.5, label=(['scalar(0.25)', 'a']))"
     },
     "execution_count": 124,
     "metadata": {},
     "output_type": "execute_result"
    }
   ],
   "source": [
    "a / 4"
   ],
   "metadata": {
    "collapsed": false
   }
  },
  {
   "cell_type": "code",
   "execution_count": 125,
   "outputs": [
    {
     "data": {
      "text/plain": "Value(data=1.0, label=(['scalar(-1)', 'a']))"
     },
     "execution_count": 125,
     "metadata": {},
     "output_type": "execute_result"
    }
   ],
   "source": [
    "a - 1"
   ],
   "metadata": {
    "collapsed": false
   }
  },
  {
   "cell_type": "code",
   "execution_count": 126,
   "outputs": [],
   "source": [
    "def trace(root):\n",
    "    nodes, edges = set(), set()\n",
    "    def build(v):\n",
    "        if v not in nodes:\n",
    "            nodes.add(v)\n",
    "            for child in v.prev:\n",
    "                edges.add((child, v))\n",
    "                build(child)\n",
    "    build(root)\n",
    "    return nodes, edges\n",
    "\n",
    "def draw_dot(root):\n",
    "    dot = Digraph(format='svg', graph_attr={'rankdir': 'LR'}) # LR = left to right\n",
    "    nodes, edges = trace(root)\n",
    "    for _n in nodes:\n",
    "        uid = str(id(_n))\n",
    "        dot.node(name = uid, label = \"{ %s | %.4f | grad %.4f }\" % (_n.label, _n.data, _n.grad), shape='record')\n",
    "        if _n.op:\n",
    "            dot.node(name = uid + _n.op, label = _n.op)\n",
    "            dot.edge(uid + _n.op, uid)\n",
    "\n",
    "    for n1, n2 in edges:\n",
    "        dot.edge(str(id(n1)), str(id(n2)) + n2.op)\n",
    "\n",
    "    return dot"
   ],
   "metadata": {
    "collapsed": false
   }
  },
  {
   "cell_type": "code",
   "execution_count": 127,
   "outputs": [
    {
     "data": {
      "image/svg+xml": "<?xml version=\"1.0\" encoding=\"UTF-8\" standalone=\"no\"?>\n<!DOCTYPE svg PUBLIC \"-//W3C//DTD SVG 1.1//EN\"\n \"http://www.w3.org/Graphics/SVG/1.1/DTD/svg11.dtd\">\n<!-- Generated by graphviz version 2.43.0 (0)\n -->\n<!-- Title: %3 Pages: 1 -->\n<svg width=\"1666pt\" height=\"210pt\"\n viewBox=\"0.00 0.00 1665.69 210.00\" xmlns=\"http://www.w3.org/2000/svg\" xmlns:xlink=\"http://www.w3.org/1999/xlink\">\n<g id=\"graph0\" class=\"graph\" transform=\"scale(1 1) rotate(0) translate(4 206)\">\n<title>%3</title>\n<polygon fill=\"white\" stroke=\"transparent\" points=\"-4,4 -4,-206 1661.69,-206 1661.69,4 -4,4\"/>\n<!-- 140284813210624 -->\n<g id=\"node1\" class=\"node\">\n<title>140284813210624</title>\n<polygon fill=\"none\" stroke=\"black\" points=\"1462.69,-54.5 1462.69,-90.5 1657.69,-90.5 1657.69,-54.5 1462.69,-54.5\"/>\n<text text-anchor=\"middle\" x=\"1475.19\" y=\"-68.8\" font-family=\"Times,serif\" font-size=\"14.00\">o</text>\n<polyline fill=\"none\" stroke=\"black\" points=\"1487.69,-54.5 1487.69,-90.5 \"/>\n<text text-anchor=\"middle\" x=\"1520.69\" y=\"-68.8\" font-family=\"Times,serif\" font-size=\"14.00\">0.7071</text>\n<polyline fill=\"none\" stroke=\"black\" points=\"1553.69,-54.5 1553.69,-90.5 \"/>\n<text text-anchor=\"middle\" x=\"1605.69\" y=\"-68.8\" font-family=\"Times,serif\" font-size=\"14.00\">grad 1.0000</text>\n</g>\n<!-- 140284813210624tanh -->\n<g id=\"node2\" class=\"node\">\n<title>140284813210624tanh</title>\n<ellipse fill=\"none\" stroke=\"black\" cx=\"1394.85\" cy=\"-72.5\" rx=\"31.7\" ry=\"18\"/>\n<text text-anchor=\"middle\" x=\"1394.85\" y=\"-68.8\" font-family=\"Times,serif\" font-size=\"14.00\">tanh</text>\n</g>\n<!-- 140284813210624tanh&#45;&gt;140284813210624 -->\n<g id=\"edge1\" class=\"edge\">\n<title>140284813210624tanh&#45;&gt;140284813210624</title>\n<path fill=\"none\" stroke=\"black\" d=\"M1426.96,-72.5C1434.64,-72.5 1443.3,-72.5 1452.43,-72.5\"/>\n<polygon fill=\"black\" stroke=\"black\" points=\"1452.49,-76 1462.49,-72.5 1452.49,-69 1452.49,-76\"/>\n</g>\n<!-- 140284811293792 -->\n<g id=\"node3\" class=\"node\">\n<title>140284811293792</title>\n<polygon fill=\"none\" stroke=\"black\" points=\"4.5,-55.5 4.5,-91.5 208.5,-91.5 208.5,-55.5 4.5,-55.5\"/>\n<text text-anchor=\"middle\" x=\"21.5\" y=\"-69.8\" font-family=\"Times,serif\" font-size=\"14.00\">x2</text>\n<polyline fill=\"none\" stroke=\"black\" points=\"38.5,-55.5 38.5,-91.5 \"/>\n<text text-anchor=\"middle\" x=\"71.5\" y=\"-69.8\" font-family=\"Times,serif\" font-size=\"14.00\">0.0000</text>\n<polyline fill=\"none\" stroke=\"black\" points=\"104.5,-55.5 104.5,-91.5 \"/>\n<text text-anchor=\"middle\" x=\"156.5\" y=\"-69.8\" font-family=\"Times,serif\" font-size=\"14.00\">grad 0.5000</text>\n</g>\n<!-- 140284813210912* -->\n<g id=\"node9\" class=\"node\">\n<title>140284813210912*</title>\n<ellipse fill=\"none\" stroke=\"black\" cx=\"276\" cy=\"-73.5\" rx=\"27\" ry=\"18\"/>\n<text text-anchor=\"middle\" x=\"276\" y=\"-69.8\" font-family=\"Times,serif\" font-size=\"14.00\">*</text>\n</g>\n<!-- 140284811293792&#45;&gt;140284813210912* -->\n<g id=\"edge6\" class=\"edge\">\n<title>140284811293792&#45;&gt;140284813210912*</title>\n<path fill=\"none\" stroke=\"black\" d=\"M208.8,-73.5C219.4,-73.5 229.6,-73.5 238.69,-73.5\"/>\n<polygon fill=\"black\" stroke=\"black\" points=\"238.81,-77 248.81,-73.5 238.81,-70 238.81,-77\"/>\n</g>\n<!-- 140284811290480 -->\n<g id=\"node4\" class=\"node\">\n<title>140284811290480</title>\n<polygon fill=\"none\" stroke=\"black\" points=\"0,-165.5 0,-201.5 213,-201.5 213,-165.5 0,-165.5\"/>\n<text text-anchor=\"middle\" x=\"19\" y=\"-179.8\" font-family=\"Times,serif\" font-size=\"14.00\">w1</text>\n<polyline fill=\"none\" stroke=\"black\" points=\"38,-165.5 38,-201.5 \"/>\n<text text-anchor=\"middle\" x=\"73.5\" y=\"-179.8\" font-family=\"Times,serif\" font-size=\"14.00\">&#45;3.0000</text>\n<polyline fill=\"none\" stroke=\"black\" points=\"109,-165.5 109,-201.5 \"/>\n<text text-anchor=\"middle\" x=\"161\" y=\"-179.8\" font-family=\"Times,serif\" font-size=\"14.00\">grad 1.0000</text>\n</g>\n<!-- 140284813212304* -->\n<g id=\"node6\" class=\"node\">\n<title>140284813212304*</title>\n<ellipse fill=\"none\" stroke=\"black\" cx=\"276\" cy=\"-128.5\" rx=\"27\" ry=\"18\"/>\n<text text-anchor=\"middle\" x=\"276\" y=\"-124.8\" font-family=\"Times,serif\" font-size=\"14.00\">*</text>\n</g>\n<!-- 140284811290480&#45;&gt;140284813212304* -->\n<g id=\"edge7\" class=\"edge\">\n<title>140284811290480&#45;&gt;140284813212304*</title>\n<path fill=\"none\" stroke=\"black\" d=\"M184.6,-165.43C194.24,-162.68 203.9,-159.69 213,-156.5 223.56,-152.8 234.79,-148 244.75,-143.43\"/>\n<polygon fill=\"black\" stroke=\"black\" points=\"246.29,-146.57 253.85,-139.15 243.31,-140.24 246.29,-146.57\"/>\n</g>\n<!-- 140284813212304 -->\n<g id=\"node5\" class=\"node\">\n<title>140284813212304</title>\n<polygon fill=\"none\" stroke=\"black\" points=\"339,-110.5 339,-146.5 576,-146.5 576,-110.5 339,-110.5\"/>\n<text text-anchor=\"middle\" x=\"370\" y=\"-124.8\" font-family=\"Times,serif\" font-size=\"14.00\">x1*w1</text>\n<polyline fill=\"none\" stroke=\"black\" points=\"401,-110.5 401,-146.5 \"/>\n<text text-anchor=\"middle\" x=\"436.5\" y=\"-124.8\" font-family=\"Times,serif\" font-size=\"14.00\">&#45;6.0000</text>\n<polyline fill=\"none\" stroke=\"black\" points=\"472,-110.5 472,-146.5 \"/>\n<text text-anchor=\"middle\" x=\"524\" y=\"-124.8\" font-family=\"Times,serif\" font-size=\"14.00\">grad 0.5000</text>\n</g>\n<!-- 140284813204336+ -->\n<g id=\"node11\" class=\"node\">\n<title>140284813204336+</title>\n<ellipse fill=\"none\" stroke=\"black\" cx=\"639\" cy=\"-100.5\" rx=\"27\" ry=\"18\"/>\n<text text-anchor=\"middle\" x=\"639\" y=\"-96.8\" font-family=\"Times,serif\" font-size=\"14.00\">+</text>\n</g>\n<!-- 140284813212304&#45;&gt;140284813204336+ -->\n<g id=\"edge11\" class=\"edge\">\n<title>140284813212304&#45;&gt;140284813204336+</title>\n<path fill=\"none\" stroke=\"black\" d=\"M573.96,-110.49C584.12,-108.91 593.8,-107.4 602.41,-106.05\"/>\n<polygon fill=\"black\" stroke=\"black\" points=\"603.02,-109.5 612.36,-104.5 601.94,-102.58 603.02,-109.5\"/>\n</g>\n<!-- 140284813212304*&#45;&gt;140284813212304 -->\n<g id=\"edge2\" class=\"edge\">\n<title>140284813212304*&#45;&gt;140284813212304</title>\n<path fill=\"none\" stroke=\"black\" d=\"M303.1,-128.5C310.61,-128.5 319.33,-128.5 328.75,-128.5\"/>\n<polygon fill=\"black\" stroke=\"black\" points=\"328.78,-132 338.78,-128.5 328.78,-125 328.78,-132\"/>\n</g>\n<!-- 140284811292832 -->\n<g id=\"node7\" class=\"node\">\n<title>140284811292832</title>\n<polygon fill=\"none\" stroke=\"black\" points=\"2.5,-110.5 2.5,-146.5 210.5,-146.5 210.5,-110.5 2.5,-110.5\"/>\n<text text-anchor=\"middle\" x=\"19.5\" y=\"-124.8\" font-family=\"Times,serif\" font-size=\"14.00\">x1</text>\n<polyline fill=\"none\" stroke=\"black\" points=\"36.5,-110.5 36.5,-146.5 \"/>\n<text text-anchor=\"middle\" x=\"69.5\" y=\"-124.8\" font-family=\"Times,serif\" font-size=\"14.00\">2.0000</text>\n<polyline fill=\"none\" stroke=\"black\" points=\"102.5,-110.5 102.5,-146.5 \"/>\n<text text-anchor=\"middle\" x=\"156.5\" y=\"-124.8\" font-family=\"Times,serif\" font-size=\"14.00\">grad &#45;1.5000</text>\n</g>\n<!-- 140284811292832&#45;&gt;140284813212304* -->\n<g id=\"edge14\" class=\"edge\">\n<title>140284811292832&#45;&gt;140284813212304*</title>\n<path fill=\"none\" stroke=\"black\" d=\"M210.72,-128.5C220.57,-128.5 230.03,-128.5 238.53,-128.5\"/>\n<polygon fill=\"black\" stroke=\"black\" points=\"238.74,-132 248.74,-128.5 238.74,-125 238.74,-132\"/>\n</g>\n<!-- 140284813210912 -->\n<g id=\"node8\" class=\"node\">\n<title>140284813210912</title>\n<polygon fill=\"none\" stroke=\"black\" points=\"341.5,-55.5 341.5,-91.5 573.5,-91.5 573.5,-55.5 341.5,-55.5\"/>\n<text text-anchor=\"middle\" x=\"372.5\" y=\"-69.8\" font-family=\"Times,serif\" font-size=\"14.00\">x2*w2</text>\n<polyline fill=\"none\" stroke=\"black\" points=\"403.5,-55.5 403.5,-91.5 \"/>\n<text text-anchor=\"middle\" x=\"436.5\" y=\"-69.8\" font-family=\"Times,serif\" font-size=\"14.00\">0.0000</text>\n<polyline fill=\"none\" stroke=\"black\" points=\"469.5,-55.5 469.5,-91.5 \"/>\n<text text-anchor=\"middle\" x=\"521.5\" y=\"-69.8\" font-family=\"Times,serif\" font-size=\"14.00\">grad 0.5000</text>\n</g>\n<!-- 140284813210912&#45;&gt;140284813204336+ -->\n<g id=\"edge12\" class=\"edge\">\n<title>140284813210912&#45;&gt;140284813204336+</title>\n<path fill=\"none\" stroke=\"black\" d=\"M573.7,-90.83C583.99,-92.38 593.8,-93.85 602.51,-95.16\"/>\n<polygon fill=\"black\" stroke=\"black\" points=\"602.14,-98.65 612.55,-96.67 603.18,-91.72 602.14,-98.65\"/>\n</g>\n<!-- 140284813210912*&#45;&gt;140284813210912 -->\n<g id=\"edge3\" class=\"edge\">\n<title>140284813210912*&#45;&gt;140284813210912</title>\n<path fill=\"none\" stroke=\"black\" d=\"M303.1,-73.5C311.28,-73.5 320.91,-73.5 331.3,-73.5\"/>\n<polygon fill=\"black\" stroke=\"black\" points=\"331.47,-77 341.47,-73.5 331.47,-70 331.47,-77\"/>\n</g>\n<!-- 140284813204336 -->\n<g id=\"node10\" class=\"node\">\n<title>140284813204336</title>\n<polygon fill=\"none\" stroke=\"black\" points=\"702,-82.5 702,-118.5 1005,-118.5 1005,-82.5 702,-82.5\"/>\n<text text-anchor=\"middle\" x=\"766\" y=\"-96.8\" font-family=\"Times,serif\" font-size=\"14.00\">x1*w1 + x2*w2</text>\n<polyline fill=\"none\" stroke=\"black\" points=\"830,-82.5 830,-118.5 \"/>\n<text text-anchor=\"middle\" x=\"865.5\" y=\"-96.8\" font-family=\"Times,serif\" font-size=\"14.00\">&#45;6.0000</text>\n<polyline fill=\"none\" stroke=\"black\" points=\"901,-82.5 901,-118.5 \"/>\n<text text-anchor=\"middle\" x=\"953\" y=\"-96.8\" font-family=\"Times,serif\" font-size=\"14.00\">grad 0.5000</text>\n</g>\n<!-- 140284813199248+ -->\n<g id=\"node14\" class=\"node\">\n<title>140284813199248+</title>\n<ellipse fill=\"none\" stroke=\"black\" cx=\"1068\" cy=\"-72.5\" rx=\"27\" ry=\"18\"/>\n<text text-anchor=\"middle\" x=\"1068\" y=\"-68.8\" font-family=\"Times,serif\" font-size=\"14.00\">+</text>\n</g>\n<!-- 140284813204336&#45;&gt;140284813199248+ -->\n<g id=\"edge8\" class=\"edge\">\n<title>140284813204336&#45;&gt;140284813199248+</title>\n<path fill=\"none\" stroke=\"black\" d=\"M991.18,-82.49C1005.74,-80.57 1019.47,-78.76 1031.13,-77.23\"/>\n<polygon fill=\"black\" stroke=\"black\" points=\"1031.78,-80.67 1041.23,-75.9 1030.86,-73.73 1031.78,-80.67\"/>\n</g>\n<!-- 140284813204336+&#45;&gt;140284813204336 -->\n<g id=\"edge4\" class=\"edge\">\n<title>140284813204336+&#45;&gt;140284813204336</title>\n<path fill=\"none\" stroke=\"black\" d=\"M666.06,-100.5C673.46,-100.5 682.1,-100.5 691.54,-100.5\"/>\n<polygon fill=\"black\" stroke=\"black\" points=\"691.64,-104 701.64,-100.5 691.64,-97 691.64,-104\"/>\n</g>\n<!-- 140284813198720 -->\n<g id=\"node12\" class=\"node\">\n<title>140284813198720</title>\n<polygon fill=\"none\" stroke=\"black\" points=\"2.5,-0.5 2.5,-36.5 210.5,-36.5 210.5,-0.5 2.5,-0.5\"/>\n<text text-anchor=\"middle\" x=\"21.5\" y=\"-14.8\" font-family=\"Times,serif\" font-size=\"14.00\">w2</text>\n<polyline fill=\"none\" stroke=\"black\" points=\"40.5,-0.5 40.5,-36.5 \"/>\n<text text-anchor=\"middle\" x=\"73.5\" y=\"-14.8\" font-family=\"Times,serif\" font-size=\"14.00\">1.0000</text>\n<polyline fill=\"none\" stroke=\"black\" points=\"106.5,-0.5 106.5,-36.5 \"/>\n<text text-anchor=\"middle\" x=\"158.5\" y=\"-14.8\" font-family=\"Times,serif\" font-size=\"14.00\">grad 0.0000</text>\n</g>\n<!-- 140284813198720&#45;&gt;140284813210912* -->\n<g id=\"edge13\" class=\"edge\">\n<title>140284813198720&#45;&gt;140284813210912*</title>\n<path fill=\"none\" stroke=\"black\" d=\"M184.6,-36.57C194.24,-39.32 203.9,-42.31 213,-45.5 223.56,-49.2 234.79,-54 244.75,-58.57\"/>\n<polygon fill=\"black\" stroke=\"black\" points=\"243.31,-61.76 253.85,-62.85 246.29,-55.43 243.31,-61.76\"/>\n</g>\n<!-- 140284813199248 -->\n<g id=\"node13\" class=\"node\">\n<title>140284813199248</title>\n<polygon fill=\"none\" stroke=\"black\" points=\"1131,-54.5 1131,-90.5 1327,-90.5 1327,-54.5 1131,-54.5\"/>\n<text text-anchor=\"middle\" x=\"1144\" y=\"-68.8\" font-family=\"Times,serif\" font-size=\"14.00\">n</text>\n<polyline fill=\"none\" stroke=\"black\" points=\"1157,-54.5 1157,-90.5 \"/>\n<text text-anchor=\"middle\" x=\"1190\" y=\"-68.8\" font-family=\"Times,serif\" font-size=\"14.00\">0.8814</text>\n<polyline fill=\"none\" stroke=\"black\" points=\"1223,-54.5 1223,-90.5 \"/>\n<text text-anchor=\"middle\" x=\"1275\" y=\"-68.8\" font-family=\"Times,serif\" font-size=\"14.00\">grad 0.5000</text>\n</g>\n<!-- 140284813199248&#45;&gt;140284813210624tanh -->\n<g id=\"edge9\" class=\"edge\">\n<title>140284813199248&#45;&gt;140284813210624tanh</title>\n<path fill=\"none\" stroke=\"black\" d=\"M1327.2,-72.5C1336.12,-72.5 1344.78,-72.5 1352.75,-72.5\"/>\n<polygon fill=\"black\" stroke=\"black\" points=\"1352.79,-76 1362.79,-72.5 1352.79,-69 1352.79,-76\"/>\n</g>\n<!-- 140284813199248+&#45;&gt;140284813199248 -->\n<g id=\"edge5\" class=\"edge\">\n<title>140284813199248+&#45;&gt;140284813199248</title>\n<path fill=\"none\" stroke=\"black\" d=\"M1095.26,-72.5C1102.77,-72.5 1111.46,-72.5 1120.72,-72.5\"/>\n<polygon fill=\"black\" stroke=\"black\" points=\"1120.97,-76 1130.97,-72.5 1120.97,-69 1120.97,-76\"/>\n</g>\n<!-- 140284813201840 -->\n<g id=\"node15\" class=\"node\">\n<title>140284813201840</title>\n<polygon fill=\"none\" stroke=\"black\" points=\"755.5,-27.5 755.5,-63.5 951.5,-63.5 951.5,-27.5 755.5,-27.5\"/>\n<text text-anchor=\"middle\" x=\"768.5\" y=\"-41.8\" font-family=\"Times,serif\" font-size=\"14.00\">b</text>\n<polyline fill=\"none\" stroke=\"black\" points=\"781.5,-27.5 781.5,-63.5 \"/>\n<text text-anchor=\"middle\" x=\"814.5\" y=\"-41.8\" font-family=\"Times,serif\" font-size=\"14.00\">6.8814</text>\n<polyline fill=\"none\" stroke=\"black\" points=\"847.5,-27.5 847.5,-63.5 \"/>\n<text text-anchor=\"middle\" x=\"899.5\" y=\"-41.8\" font-family=\"Times,serif\" font-size=\"14.00\">grad 0.5000</text>\n</g>\n<!-- 140284813201840&#45;&gt;140284813199248+ -->\n<g id=\"edge10\" class=\"edge\">\n<title>140284813201840&#45;&gt;140284813199248+</title>\n<path fill=\"none\" stroke=\"black\" d=\"M951.73,-57.85C980.1,-61.46 1009.32,-65.17 1031.25,-67.96\"/>\n<polygon fill=\"black\" stroke=\"black\" points=\"1031.03,-71.46 1041.39,-69.25 1031.91,-64.51 1031.03,-71.46\"/>\n</g>\n</g>\n</svg>\n",
      "text/plain": "<graphviz.graphs.Digraph at 0x7f969a756f20>"
     },
     "execution_count": 127,
     "metadata": {},
     "output_type": "execute_result"
    }
   ],
   "source": [
    "x1 = Value(2., label='x1') # input\n",
    "x2 = Value(0., label='x2') # input\n",
    "w1 = Value(-3., label='w1') # weight\n",
    "w2 = Value(1., label='w2') # weight\n",
    "b = Value(6.881373, label='b') # bias\n",
    "x1w1 = with_label(x1 * w1, label='x1*w1')\n",
    "x2w2 = with_label(x2 * w2, label='x2*w2')\n",
    "x1w1x2w2 = with_label(x1w1 + x2w2, label='x1*w1 + x2*w2')\n",
    "n = with_label(x1w1x2w2 + b, label='n')\n",
    "o = with_label(n.tanh(), label='o')\n",
    "o.backward()\n",
    "draw_dot(o)"
   ],
   "metadata": {
    "collapsed": false
   }
  },
  {
   "cell_type": "code",
   "execution_count": 128,
   "outputs": [
    {
     "data": {
      "image/svg+xml": "<?xml version=\"1.0\" encoding=\"UTF-8\" standalone=\"no\"?>\n<!DOCTYPE svg PUBLIC \"-//W3C//DTD SVG 1.1//EN\"\n \"http://www.w3.org/Graphics/SVG/1.1/DTD/svg11.dtd\">\n<!-- Generated by graphviz version 2.43.0 (0)\n -->\n<!-- Title: %3 Pages: 1 -->\n<svg width=\"4865pt\" height=\"210pt\"\n viewBox=\"0.00 0.00 4864.60 210.00\" xmlns=\"http://www.w3.org/2000/svg\" xmlns:xlink=\"http://www.w3.org/1999/xlink\">\n<g id=\"graph0\" class=\"graph\" transform=\"scale(1 1) rotate(0) translate(4 206)\">\n<title>%3</title>\n<polygon fill=\"white\" stroke=\"transparent\" points=\"-4,4 -4,-206 4860.6,-206 4860.6,4 -4,4\"/>\n<!-- 140284805800976 -->\n<g id=\"node1\" class=\"node\">\n<title>140284805800976</title>\n<polygon fill=\"none\" stroke=\"black\" points=\"755.5,-137.5 755.5,-173.5 951.5,-173.5 951.5,-137.5 755.5,-137.5\"/>\n<text text-anchor=\"middle\" x=\"768.5\" y=\"-151.8\" font-family=\"Times,serif\" font-size=\"14.00\">b</text>\n<polyline fill=\"none\" stroke=\"black\" points=\"781.5,-137.5 781.5,-173.5 \"/>\n<text text-anchor=\"middle\" x=\"814.5\" y=\"-151.8\" font-family=\"Times,serif\" font-size=\"14.00\">6.8814</text>\n<polyline fill=\"none\" stroke=\"black\" points=\"847.5,-137.5 847.5,-173.5 \"/>\n<text text-anchor=\"middle\" x=\"899.5\" y=\"-151.8\" font-family=\"Times,serif\" font-size=\"14.00\">grad 0.5000</text>\n</g>\n<!-- 140284813212544+ -->\n<g id=\"node24\" class=\"node\">\n<title>140284813212544+</title>\n<ellipse fill=\"none\" stroke=\"black\" cx=\"1068\" cy=\"-127.5\" rx=\"27\" ry=\"18\"/>\n<text text-anchor=\"middle\" x=\"1068\" y=\"-123.8\" font-family=\"Times,serif\" font-size=\"14.00\">+</text>\n</g>\n<!-- 140284805800976&#45;&gt;140284813212544+ -->\n<g id=\"edge23\" class=\"edge\">\n<title>140284805800976&#45;&gt;140284813212544+</title>\n<path fill=\"none\" stroke=\"black\" d=\"M951.73,-142.69C980.1,-138.95 1009.32,-135.1 1031.25,-132.21\"/>\n<polygon fill=\"black\" stroke=\"black\" points=\"1031.93,-135.65 1041.39,-130.87 1031.02,-128.71 1031.93,-135.65\"/>\n</g>\n<!-- 140284813208608 -->\n<g id=\"node2\" class=\"node\">\n<title>140284813208608</title>\n<polygon fill=\"none\" stroke=\"black\" points=\"1506,-81.5 1506,-117.5 1809,-117.5 1809,-81.5 1506,-81.5\"/>\n<text text-anchor=\"middle\" x=\"1572.5\" y=\"-95.8\" font-family=\"Times,serif\" font-size=\"14.00\">([&#39;n&#39;, &#39;scalar(2)&#39;])</text>\n<polyline fill=\"none\" stroke=\"black\" points=\"1639,-81.5 1639,-117.5 \"/>\n<text text-anchor=\"middle\" x=\"1672\" y=\"-95.8\" font-family=\"Times,serif\" font-size=\"14.00\">1.7627</text>\n<polyline fill=\"none\" stroke=\"black\" points=\"1705,-81.5 1705,-117.5 \"/>\n<text text-anchor=\"middle\" x=\"1757\" y=\"-95.8\" font-family=\"Times,serif\" font-size=\"14.00\">grad 0.2500</text>\n</g>\n<!-- 140284813158208exp -->\n<g id=\"node21\" class=\"node\">\n<title>140284813158208exp</title>\n<ellipse fill=\"none\" stroke=\"black\" cx=\"1872.3\" cy=\"-99.5\" rx=\"27.1\" ry=\"18\"/>\n<text text-anchor=\"middle\" x=\"1872.3\" y=\"-95.8\" font-family=\"Times,serif\" font-size=\"14.00\">exp</text>\n</g>\n<!-- 140284813208608&#45;&gt;140284813158208exp -->\n<g id=\"edge25\" class=\"edge\">\n<title>140284813208608&#45;&gt;140284813158208exp</title>\n<path fill=\"none\" stroke=\"black\" d=\"M1809.18,-99.5C1818.37,-99.5 1827.03,-99.5 1834.8,-99.5\"/>\n<polygon fill=\"black\" stroke=\"black\" points=\"1834.8,-103 1844.8,-99.5 1834.8,-96 1834.8,-103\"/>\n</g>\n<!-- 140284813208608* -->\n<g id=\"node3\" class=\"node\">\n<title>140284813208608*</title>\n<ellipse fill=\"none\" stroke=\"black\" cx=\"1443\" cy=\"-99.5\" rx=\"27\" ry=\"18\"/>\n<text text-anchor=\"middle\" x=\"1443\" y=\"-95.8\" font-family=\"Times,serif\" font-size=\"14.00\">*</text>\n</g>\n<!-- 140284813208608*&#45;&gt;140284813208608 -->\n<g id=\"edge1\" class=\"edge\">\n<title>140284813208608*&#45;&gt;140284813208608</title>\n<path fill=\"none\" stroke=\"black\" d=\"M1470.06,-99.5C1477.46,-99.5 1486.1,-99.5 1495.54,-99.5\"/>\n<polygon fill=\"black\" stroke=\"black\" points=\"1495.64,-103 1505.64,-99.5 1495.64,-96 1495.64,-103\"/>\n</g>\n<!-- 140284813150240 -->\n<g id=\"node4\" class=\"node\">\n<title>140284813150240</title>\n<polygon fill=\"none\" stroke=\"black\" points=\"3985.6,-80.5 3985.6,-116.5 4856.6,-116.5 4856.6,-80.5 3985.6,-80.5\"/>\n<text text-anchor=\"middle\" x=\"4336.1\" y=\"-94.8\" font-family=\"Times,serif\" font-size=\"14.00\">([&#39;([&#39;([\\&#39;([&quot;([\\\\\\&#39;n\\\\\\&#39;, \\\\\\&#39;scalar(2)\\\\\\&#39;])&quot;])\\&#39;, \\&#39;scalar(1)\\&#39;])&#39;])&#39;, &#39;([&#39;([&quot;([\\&#39;n\\&#39;, \\&#39;scalar(2)\\&#39;])&quot;])&#39;, &#39;scalar(&#45;1)&#39;])&#39;])</text>\n<polyline fill=\"none\" stroke=\"black\" points=\"4686.6,-80.5 4686.6,-116.5 \"/>\n<text text-anchor=\"middle\" x=\"4719.6\" y=\"-94.8\" font-family=\"Times,serif\" font-size=\"14.00\">0.7071</text>\n<polyline fill=\"none\" stroke=\"black\" points=\"4752.6,-80.5 4752.6,-116.5 \"/>\n<text text-anchor=\"middle\" x=\"4804.6\" y=\"-94.8\" font-family=\"Times,serif\" font-size=\"14.00\">grad 1.0000</text>\n</g>\n<!-- 140284813150240* -->\n<g id=\"node5\" class=\"node\">\n<title>140284813150240*</title>\n<ellipse fill=\"none\" stroke=\"black\" cx=\"3922.6\" cy=\"-98.5\" rx=\"27\" ry=\"18\"/>\n<text text-anchor=\"middle\" x=\"3922.6\" y=\"-94.8\" font-family=\"Times,serif\" font-size=\"14.00\">*</text>\n</g>\n<!-- 140284813150240*&#45;&gt;140284813150240 -->\n<g id=\"edge2\" class=\"edge\">\n<title>140284813150240*&#45;&gt;140284813150240</title>\n<path fill=\"none\" stroke=\"black\" d=\"M3949.94,-98.5C3957.08,-98.5 3965.5,-98.5 3975,-98.5\"/>\n<polygon fill=\"black\" stroke=\"black\" points=\"3975.27,-102 3985.27,-98.5 3975.27,-95 3975.27,-102\"/>\n</g>\n<!-- 140284805797904 -->\n<g id=\"node6\" class=\"node\">\n<title>140284805797904</title>\n<polygon fill=\"none\" stroke=\"black\" points=\"4.5,-165.5 4.5,-201.5 208.5,-201.5 208.5,-165.5 4.5,-165.5\"/>\n<text text-anchor=\"middle\" x=\"21.5\" y=\"-179.8\" font-family=\"Times,serif\" font-size=\"14.00\">x2</text>\n<polyline fill=\"none\" stroke=\"black\" points=\"38.5,-165.5 38.5,-201.5 \"/>\n<text text-anchor=\"middle\" x=\"71.5\" y=\"-179.8\" font-family=\"Times,serif\" font-size=\"14.00\">0.0000</text>\n<polyline fill=\"none\" stroke=\"black\" points=\"104.5,-165.5 104.5,-201.5 \"/>\n<text text-anchor=\"middle\" x=\"156.5\" y=\"-179.8\" font-family=\"Times,serif\" font-size=\"14.00\">grad 0.5000</text>\n</g>\n<!-- 140284813206688* -->\n<g id=\"node12\" class=\"node\">\n<title>140284813206688*</title>\n<ellipse fill=\"none\" stroke=\"black\" cx=\"276\" cy=\"-128.5\" rx=\"27\" ry=\"18\"/>\n<text text-anchor=\"middle\" x=\"276\" y=\"-124.8\" font-family=\"Times,serif\" font-size=\"14.00\">*</text>\n</g>\n<!-- 140284805797904&#45;&gt;140284813206688* -->\n<g id=\"edge28\" class=\"edge\">\n<title>140284805797904&#45;&gt;140284813206688*</title>\n<path fill=\"none\" stroke=\"black\" d=\"M184.6,-165.43C194.24,-162.68 203.9,-159.69 213,-156.5 223.56,-152.8 234.79,-148 244.75,-143.43\"/>\n<polygon fill=\"black\" stroke=\"black\" points=\"246.29,-146.57 253.85,-139.15 243.31,-140.24 246.29,-146.57\"/>\n</g>\n<!-- 140284813162576 -->\n<g id=\"node7\" class=\"node\">\n<title>140284813162576</title>\n<polygon fill=\"none\" stroke=\"black\" points=\"2398.6,-108.5 2398.6,-144.5 2847.6,-144.5 2847.6,-108.5 2398.6,-108.5\"/>\n<text text-anchor=\"middle\" x=\"2536.1\" y=\"-122.8\" font-family=\"Times,serif\" font-size=\"14.00\">([&#39;([&quot;([&#39;n&#39;, &#39;scalar(2)&#39;])&quot;])&#39;, &#39;scalar(1)&#39;])</text>\n<polyline fill=\"none\" stroke=\"black\" points=\"2673.6,-108.5 2673.6,-144.5 \"/>\n<text text-anchor=\"middle\" x=\"2706.6\" y=\"-122.8\" font-family=\"Times,serif\" font-size=\"14.00\">6.8284</text>\n<polyline fill=\"none\" stroke=\"black\" points=\"2739.6,-108.5 2739.6,-144.5 \"/>\n<text text-anchor=\"middle\" x=\"2793.6\" y=\"-122.8\" font-family=\"Times,serif\" font-size=\"14.00\">grad &#45;0.1036</text>\n</g>\n<!-- 140284813162192**&#45;1 -->\n<g id=\"node15\" class=\"node\">\n<title>140284813162192**&#45;1</title>\n<ellipse fill=\"none\" stroke=\"black\" cx=\"3108.1\" cy=\"-126.5\" rx=\"28.7\" ry=\"18\"/>\n<text text-anchor=\"middle\" x=\"3108.1\" y=\"-122.8\" font-family=\"Times,serif\" font-size=\"14.00\">**&#45;1</text>\n</g>\n<!-- 140284813162576&#45;&gt;140284813162192**&#45;1 -->\n<g id=\"edge12\" class=\"edge\">\n<title>140284813162576&#45;&gt;140284813162192**&#45;1</title>\n<path fill=\"none\" stroke=\"black\" d=\"M2847.92,-126.5C2932.98,-126.5 3020.98,-126.5 3069.41,-126.5\"/>\n<polygon fill=\"black\" stroke=\"black\" points=\"3069.42,-130 3079.42,-126.5 3069.42,-123 3069.42,-130\"/>\n</g>\n<!-- 140284813162576+ -->\n<g id=\"node8\" class=\"node\">\n<title>140284813162576+</title>\n<ellipse fill=\"none\" stroke=\"black\" cx=\"2335.6\" cy=\"-126.5\" rx=\"27\" ry=\"18\"/>\n<text text-anchor=\"middle\" x=\"2335.6\" y=\"-122.8\" font-family=\"Times,serif\" font-size=\"14.00\">+</text>\n</g>\n<!-- 140284813162576+&#45;&gt;140284813162576 -->\n<g id=\"edge3\" class=\"edge\">\n<title>140284813162576+&#45;&gt;140284813162576</title>\n<path fill=\"none\" stroke=\"black\" d=\"M2362.69,-126.5C2370.12,-126.5 2378.87,-126.5 2388.58,-126.5\"/>\n<polygon fill=\"black\" stroke=\"black\" points=\"2388.59,-130 2398.59,-126.5 2388.59,-123 2388.59,-130\"/>\n</g>\n<!-- 140284813210720 -->\n<g id=\"node9\" class=\"node\">\n<title>140284813210720</title>\n<polygon fill=\"none\" stroke=\"black\" points=\"1131,-54.5 1131,-90.5 1380,-90.5 1380,-54.5 1131,-54.5\"/>\n<text text-anchor=\"middle\" x=\"1170.5\" y=\"-68.8\" font-family=\"Times,serif\" font-size=\"14.00\">scalar(2)</text>\n<polyline fill=\"none\" stroke=\"black\" points=\"1210,-54.5 1210,-90.5 \"/>\n<text text-anchor=\"middle\" x=\"1243\" y=\"-68.8\" font-family=\"Times,serif\" font-size=\"14.00\">2.0000</text>\n<polyline fill=\"none\" stroke=\"black\" points=\"1276,-54.5 1276,-90.5 \"/>\n<text text-anchor=\"middle\" x=\"1328\" y=\"-68.8\" font-family=\"Times,serif\" font-size=\"14.00\">grad 0.2203</text>\n</g>\n<!-- 140284813210720&#45;&gt;140284813208608* -->\n<g id=\"edge27\" class=\"edge\">\n<title>140284813210720&#45;&gt;140284813208608*</title>\n<path fill=\"none\" stroke=\"black\" d=\"M1380.23,-90.51C1389.66,-91.88 1398.6,-93.18 1406.61,-94.35\"/>\n<polygon fill=\"black\" stroke=\"black\" points=\"1406.15,-97.82 1416.55,-95.8 1407.16,-90.89 1406.15,-97.82\"/>\n</g>\n<!-- 140284813162096 -->\n<g id=\"node10\" class=\"node\">\n<title>140284813162096</title>\n<polygon fill=\"none\" stroke=\"black\" points=\"1975.1,-26.5 1975.1,-62.5 2233.1,-62.5 2233.1,-26.5 1975.1,-26.5\"/>\n<text text-anchor=\"middle\" x=\"2016.6\" y=\"-40.8\" font-family=\"Times,serif\" font-size=\"14.00\">scalar(&#45;1)</text>\n<polyline fill=\"none\" stroke=\"black\" points=\"2058.1,-26.5 2058.1,-62.5 \"/>\n<text text-anchor=\"middle\" x=\"2093.6\" y=\"-40.8\" font-family=\"Times,serif\" font-size=\"14.00\">&#45;1.0000</text>\n<polyline fill=\"none\" stroke=\"black\" points=\"2129.1,-26.5 2129.1,-62.5 \"/>\n<text text-anchor=\"middle\" x=\"2181.1\" y=\"-40.8\" font-family=\"Times,serif\" font-size=\"14.00\">grad 0.1464</text>\n</g>\n<!-- 140284813162864+ -->\n<g id=\"node17\" class=\"node\">\n<title>140284813162864+</title>\n<ellipse fill=\"none\" stroke=\"black\" cx=\"2335.6\" cy=\"-71.5\" rx=\"27\" ry=\"18\"/>\n<text text-anchor=\"middle\" x=\"2335.6\" y=\"-67.8\" font-family=\"Times,serif\" font-size=\"14.00\">+</text>\n</g>\n<!-- 140284813162096&#45;&gt;140284813162864+ -->\n<g id=\"edge18\" class=\"edge\">\n<title>140284813162096&#45;&gt;140284813162864+</title>\n<path fill=\"none\" stroke=\"black\" d=\"M2233.27,-59.58C2257.3,-62.41 2280.53,-65.14 2298.68,-67.27\"/>\n<polygon fill=\"black\" stroke=\"black\" points=\"2298.4,-70.77 2308.74,-68.46 2299.22,-63.81 2298.4,-70.77\"/>\n</g>\n<!-- 140284813206688 -->\n<g id=\"node11\" class=\"node\">\n<title>140284813206688</title>\n<polygon fill=\"none\" stroke=\"black\" points=\"341.5,-110.5 341.5,-146.5 573.5,-146.5 573.5,-110.5 341.5,-110.5\"/>\n<text text-anchor=\"middle\" x=\"372.5\" y=\"-124.8\" font-family=\"Times,serif\" font-size=\"14.00\">x2*w2</text>\n<polyline fill=\"none\" stroke=\"black\" points=\"403.5,-110.5 403.5,-146.5 \"/>\n<text text-anchor=\"middle\" x=\"436.5\" y=\"-124.8\" font-family=\"Times,serif\" font-size=\"14.00\">0.0000</text>\n<polyline fill=\"none\" stroke=\"black\" points=\"469.5,-110.5 469.5,-146.5 \"/>\n<text text-anchor=\"middle\" x=\"521.5\" y=\"-124.8\" font-family=\"Times,serif\" font-size=\"14.00\">grad 0.5000</text>\n</g>\n<!-- 140284813213168+ -->\n<g id=\"node28\" class=\"node\">\n<title>140284813213168+</title>\n<ellipse fill=\"none\" stroke=\"black\" cx=\"639\" cy=\"-100.5\" rx=\"27\" ry=\"18\"/>\n<text text-anchor=\"middle\" x=\"639\" y=\"-96.8\" font-family=\"Times,serif\" font-size=\"14.00\">+</text>\n</g>\n<!-- 140284813206688&#45;&gt;140284813213168+ -->\n<g id=\"edge20\" class=\"edge\">\n<title>140284813206688&#45;&gt;140284813213168+</title>\n<path fill=\"none\" stroke=\"black\" d=\"M573.7,-110.53C583.99,-108.92 593.8,-107.4 602.51,-106.04\"/>\n<polygon fill=\"black\" stroke=\"black\" points=\"603.21,-109.47 612.55,-104.47 602.13,-102.55 603.21,-109.47\"/>\n</g>\n<!-- 140284813206688*&#45;&gt;140284813206688 -->\n<g id=\"edge4\" class=\"edge\">\n<title>140284813206688*&#45;&gt;140284813206688</title>\n<path fill=\"none\" stroke=\"black\" d=\"M303.1,-128.5C311.28,-128.5 320.91,-128.5 331.3,-128.5\"/>\n<polygon fill=\"black\" stroke=\"black\" points=\"331.47,-132 341.47,-128.5 331.47,-125 331.47,-132\"/>\n</g>\n<!-- 140284813161664 -->\n<g id=\"node13\" class=\"node\">\n<title>140284813161664</title>\n<polygon fill=\"none\" stroke=\"black\" points=\"1977.6,-136.5 1977.6,-172.5 2230.6,-172.5 2230.6,-136.5 1977.6,-136.5\"/>\n<text text-anchor=\"middle\" x=\"2017.1\" y=\"-150.8\" font-family=\"Times,serif\" font-size=\"14.00\">scalar(1)</text>\n<polyline fill=\"none\" stroke=\"black\" points=\"2056.6,-136.5 2056.6,-172.5 \"/>\n<text text-anchor=\"middle\" x=\"2089.6\" y=\"-150.8\" font-family=\"Times,serif\" font-size=\"14.00\">1.0000</text>\n<polyline fill=\"none\" stroke=\"black\" points=\"2122.6,-136.5 2122.6,-172.5 \"/>\n<text text-anchor=\"middle\" x=\"2176.6\" y=\"-150.8\" font-family=\"Times,serif\" font-size=\"14.00\">grad &#45;0.1036</text>\n</g>\n<!-- 140284813161664&#45;&gt;140284813162576+ -->\n<g id=\"edge24\" class=\"edge\">\n<title>140284813161664&#45;&gt;140284813162576+</title>\n<path fill=\"none\" stroke=\"black\" d=\"M2230.92,-139.15C2255.83,-136.11 2280.02,-133.16 2298.77,-130.87\"/>\n<polygon fill=\"black\" stroke=\"black\" points=\"2299.37,-134.32 2308.87,-129.64 2298.52,-127.38 2299.37,-134.32\"/>\n</g>\n<!-- 140284813162192 -->\n<g id=\"node14\" class=\"node\">\n<title>140284813162192</title>\n<polygon fill=\"none\" stroke=\"black\" points=\"3368.6,-106.5 3368.6,-142.5 3859.6,-142.5 3859.6,-106.5 3368.6,-106.5\"/>\n<text text-anchor=\"middle\" x=\"3529.1\" y=\"-120.8\" font-family=\"Times,serif\" font-size=\"14.00\">([&#39;([&#39;([&quot;([\\&#39;n\\&#39;, \\&#39;scalar(2)\\&#39;])&quot;])&#39;, &#39;scalar(1)&#39;])&#39;])</text>\n<polyline fill=\"none\" stroke=\"black\" points=\"3689.6,-106.5 3689.6,-142.5 \"/>\n<text text-anchor=\"middle\" x=\"3722.6\" y=\"-120.8\" font-family=\"Times,serif\" font-size=\"14.00\">0.1464</text>\n<polyline fill=\"none\" stroke=\"black\" points=\"3755.6,-106.5 3755.6,-142.5 \"/>\n<text text-anchor=\"middle\" x=\"3807.6\" y=\"-120.8\" font-family=\"Times,serif\" font-size=\"14.00\">grad 4.8284</text>\n</g>\n<!-- 140284813162192&#45;&gt;140284813150240* -->\n<g id=\"edge16\" class=\"edge\">\n<title>140284813162192&#45;&gt;140284813150240*</title>\n<path fill=\"none\" stroke=\"black\" d=\"M3827.55,-106.48C3849.38,-104.63 3869.31,-102.93 3885.15,-101.59\"/>\n<polygon fill=\"black\" stroke=\"black\" points=\"3885.77,-105.05 3895.44,-100.72 3885.18,-98.08 3885.77,-105.05\"/>\n</g>\n<!-- 140284813162192**&#45;1&#45;&gt;140284813162192 -->\n<g id=\"edge5\" class=\"edge\">\n<title>140284813162192**&#45;1&#45;&gt;140284813162192</title>\n<path fill=\"none\" stroke=\"black\" d=\"M3136.91,-126.39C3180.52,-126.22 3269.25,-125.86 3358.43,-125.51\"/>\n<polygon fill=\"black\" stroke=\"black\" points=\"3358.48,-129.01 3368.46,-125.47 3358.45,-122.01 3358.48,-129.01\"/>\n</g>\n<!-- 140284813162864 -->\n<g id=\"node16\" class=\"node\">\n<title>140284813162864</title>\n<polygon fill=\"none\" stroke=\"black\" points=\"2883.6,-53.5 2883.6,-89.5 3332.6,-89.5 3332.6,-53.5 2883.6,-53.5\"/>\n<text text-anchor=\"middle\" x=\"3023.1\" y=\"-67.8\" font-family=\"Times,serif\" font-size=\"14.00\">([&#39;([&quot;([&#39;n&#39;, &#39;scalar(2)&#39;])&quot;])&#39;, &#39;scalar(&#45;1)&#39;])</text>\n<polyline fill=\"none\" stroke=\"black\" points=\"3162.6,-53.5 3162.6,-89.5 \"/>\n<text text-anchor=\"middle\" x=\"3195.6\" y=\"-67.8\" font-family=\"Times,serif\" font-size=\"14.00\">4.8284</text>\n<polyline fill=\"none\" stroke=\"black\" points=\"3228.6,-53.5 3228.6,-89.5 \"/>\n<text text-anchor=\"middle\" x=\"3280.6\" y=\"-67.8\" font-family=\"Times,serif\" font-size=\"14.00\">grad 0.1464</text>\n</g>\n<!-- 140284813162864&#45;&gt;140284813150240* -->\n<g id=\"edge15\" class=\"edge\">\n<title>140284813162864&#45;&gt;140284813150240*</title>\n<path fill=\"none\" stroke=\"black\" d=\"M3332.73,-78.93C3526.32,-85.36 3789.78,-94.12 3885.21,-97.29\"/>\n<polygon fill=\"black\" stroke=\"black\" points=\"3885.37,-100.8 3895.48,-97.63 3885.6,-93.8 3885.37,-100.8\"/>\n</g>\n<!-- 140284813162864+&#45;&gt;140284813162864 -->\n<g id=\"edge6\" class=\"edge\">\n<title>140284813162864+&#45;&gt;140284813162864</title>\n<path fill=\"none\" stroke=\"black\" d=\"M2362.67,-71.5C2441.92,-71.5 2685.91,-71.5 2873.17,-71.5\"/>\n<polygon fill=\"black\" stroke=\"black\" points=\"2873.45,-75 2883.45,-71.5 2873.45,-68 2873.45,-75\"/>\n</g>\n<!-- 140284813199344 -->\n<g id=\"node18\" class=\"node\">\n<title>140284813199344</title>\n<polygon fill=\"none\" stroke=\"black\" points=\"339,-55.5 339,-91.5 576,-91.5 576,-55.5 339,-55.5\"/>\n<text text-anchor=\"middle\" x=\"370\" y=\"-69.8\" font-family=\"Times,serif\" font-size=\"14.00\">x1*w1</text>\n<polyline fill=\"none\" stroke=\"black\" points=\"401,-55.5 401,-91.5 \"/>\n<text text-anchor=\"middle\" x=\"436.5\" y=\"-69.8\" font-family=\"Times,serif\" font-size=\"14.00\">&#45;6.0000</text>\n<polyline fill=\"none\" stroke=\"black\" points=\"472,-55.5 472,-91.5 \"/>\n<text text-anchor=\"middle\" x=\"524\" y=\"-69.8\" font-family=\"Times,serif\" font-size=\"14.00\">grad 0.5000</text>\n</g>\n<!-- 140284813199344&#45;&gt;140284813213168+ -->\n<g id=\"edge13\" class=\"edge\">\n<title>140284813199344&#45;&gt;140284813213168+</title>\n<path fill=\"none\" stroke=\"black\" d=\"M576.23,-91.21C585.6,-92.62 594.52,-93.96 602.52,-95.16\"/>\n<polygon fill=\"black\" stroke=\"black\" points=\"602.06,-98.63 612.47,-96.66 603.1,-91.71 602.06,-98.63\"/>\n</g>\n<!-- 140284813199344* -->\n<g id=\"node19\" class=\"node\">\n<title>140284813199344*</title>\n<ellipse fill=\"none\" stroke=\"black\" cx=\"276\" cy=\"-73.5\" rx=\"27\" ry=\"18\"/>\n<text text-anchor=\"middle\" x=\"276\" y=\"-69.8\" font-family=\"Times,serif\" font-size=\"14.00\">*</text>\n</g>\n<!-- 140284813199344*&#45;&gt;140284813199344 -->\n<g id=\"edge7\" class=\"edge\">\n<title>140284813199344*&#45;&gt;140284813199344</title>\n<path fill=\"none\" stroke=\"black\" d=\"M303.1,-73.5C310.61,-73.5 319.33,-73.5 328.75,-73.5\"/>\n<polygon fill=\"black\" stroke=\"black\" points=\"328.78,-77 338.78,-73.5 328.78,-70 328.78,-77\"/>\n</g>\n<!-- 140284813158208 -->\n<g id=\"node20\" class=\"node\">\n<title>140284813158208</title>\n<polygon fill=\"none\" stroke=\"black\" points=\"1935.6,-81.5 1935.6,-117.5 2272.6,-117.5 2272.6,-81.5 1935.6,-81.5\"/>\n<text text-anchor=\"middle\" x=\"2019.1\" y=\"-95.8\" font-family=\"Times,serif\" font-size=\"14.00\">([&quot;([&#39;n&#39;, &#39;scalar(2)&#39;])&quot;])</text>\n<polyline fill=\"none\" stroke=\"black\" points=\"2102.6,-81.5 2102.6,-117.5 \"/>\n<text text-anchor=\"middle\" x=\"2135.6\" y=\"-95.8\" font-family=\"Times,serif\" font-size=\"14.00\">5.8284</text>\n<polyline fill=\"none\" stroke=\"black\" points=\"2168.6,-81.5 2168.6,-117.5 \"/>\n<text text-anchor=\"middle\" x=\"2220.6\" y=\"-95.8\" font-family=\"Times,serif\" font-size=\"14.00\">grad 0.0429</text>\n</g>\n<!-- 140284813158208&#45;&gt;140284813162576+ -->\n<g id=\"edge19\" class=\"edge\">\n<title>140284813158208&#45;&gt;140284813162576+</title>\n<path fill=\"none\" stroke=\"black\" d=\"M2258.17,-117.51C2273.03,-119.26 2286.92,-120.89 2298.67,-122.27\"/>\n<polygon fill=\"black\" stroke=\"black\" points=\"2298.49,-125.78 2308.83,-123.47 2299.31,-118.82 2298.49,-125.78\"/>\n</g>\n<!-- 140284813158208&#45;&gt;140284813162864+ -->\n<g id=\"edge26\" class=\"edge\">\n<title>140284813158208&#45;&gt;140284813162864+</title>\n<path fill=\"none\" stroke=\"black\" d=\"M2252.71,-81.49C2269.74,-79.41 2285.71,-77.46 2298.95,-75.85\"/>\n<polygon fill=\"black\" stroke=\"black\" points=\"2299.44,-79.31 2308.95,-74.63 2298.6,-72.37 2299.44,-79.31\"/>\n</g>\n<!-- 140284813158208exp&#45;&gt;140284813158208 -->\n<g id=\"edge8\" class=\"edge\">\n<title>140284813158208exp&#45;&gt;140284813158208</title>\n<path fill=\"none\" stroke=\"black\" d=\"M1899.66,-99.5C1907.1,-99.5 1915.79,-99.5 1925.32,-99.5\"/>\n<polygon fill=\"black\" stroke=\"black\" points=\"1925.53,-103 1935.53,-99.5 1925.53,-96 1925.53,-103\"/>\n</g>\n<!-- 140284805806064 -->\n<g id=\"node22\" class=\"node\">\n<title>140284805806064</title>\n<polygon fill=\"none\" stroke=\"black\" points=\"0,-55.5 0,-91.5 213,-91.5 213,-55.5 0,-55.5\"/>\n<text text-anchor=\"middle\" x=\"19\" y=\"-69.8\" font-family=\"Times,serif\" font-size=\"14.00\">w1</text>\n<polyline fill=\"none\" stroke=\"black\" points=\"38,-55.5 38,-91.5 \"/>\n<text text-anchor=\"middle\" x=\"73.5\" y=\"-69.8\" font-family=\"Times,serif\" font-size=\"14.00\">&#45;3.0000</text>\n<polyline fill=\"none\" stroke=\"black\" points=\"109,-55.5 109,-91.5 \"/>\n<text text-anchor=\"middle\" x=\"161\" y=\"-69.8\" font-family=\"Times,serif\" font-size=\"14.00\">grad 1.0000</text>\n</g>\n<!-- 140284805806064&#45;&gt;140284813199344* -->\n<g id=\"edge14\" class=\"edge\">\n<title>140284805806064&#45;&gt;140284813199344*</title>\n<path fill=\"none\" stroke=\"black\" d=\"M213.11,-73.5C222.18,-73.5 230.88,-73.5 238.75,-73.5\"/>\n<polygon fill=\"black\" stroke=\"black\" points=\"238.92,-77 248.92,-73.5 238.92,-70 238.92,-77\"/>\n</g>\n<!-- 140284813212544 -->\n<g id=\"node23\" class=\"node\">\n<title>140284813212544</title>\n<polygon fill=\"none\" stroke=\"black\" points=\"1157.5,-109.5 1157.5,-145.5 1353.5,-145.5 1353.5,-109.5 1157.5,-109.5\"/>\n<text text-anchor=\"middle\" x=\"1170.5\" y=\"-123.8\" font-family=\"Times,serif\" font-size=\"14.00\">n</text>\n<polyline fill=\"none\" stroke=\"black\" points=\"1183.5,-109.5 1183.5,-145.5 \"/>\n<text text-anchor=\"middle\" x=\"1216.5\" y=\"-123.8\" font-family=\"Times,serif\" font-size=\"14.00\">0.8814</text>\n<polyline fill=\"none\" stroke=\"black\" points=\"1249.5,-109.5 1249.5,-145.5 \"/>\n<text text-anchor=\"middle\" x=\"1301.5\" y=\"-123.8\" font-family=\"Times,serif\" font-size=\"14.00\">grad 0.5000</text>\n</g>\n<!-- 140284813212544&#45;&gt;140284813208608* -->\n<g id=\"edge22\" class=\"edge\">\n<title>140284813212544&#45;&gt;140284813208608*</title>\n<path fill=\"none\" stroke=\"black\" d=\"M1353.6,-112.84C1372.54,-109.98 1391.24,-107.16 1406.53,-104.85\"/>\n<polygon fill=\"black\" stroke=\"black\" points=\"1407.17,-108.3 1416.54,-103.34 1406.12,-101.38 1407.17,-108.3\"/>\n</g>\n<!-- 140284813212544+&#45;&gt;140284813212544 -->\n<g id=\"edge9\" class=\"edge\">\n<title>140284813212544+&#45;&gt;140284813212544</title>\n<path fill=\"none\" stroke=\"black\" d=\"M1095.18,-127.5C1109.3,-127.5 1127.77,-127.5 1147.11,-127.5\"/>\n<polygon fill=\"black\" stroke=\"black\" points=\"1147.28,-131 1157.28,-127.5 1147.28,-124 1147.28,-131\"/>\n</g>\n<!-- 140284805793152 -->\n<g id=\"node25\" class=\"node\">\n<title>140284805793152</title>\n<polygon fill=\"none\" stroke=\"black\" points=\"2.5,-0.5 2.5,-36.5 210.5,-36.5 210.5,-0.5 2.5,-0.5\"/>\n<text text-anchor=\"middle\" x=\"19.5\" y=\"-14.8\" font-family=\"Times,serif\" font-size=\"14.00\">x1</text>\n<polyline fill=\"none\" stroke=\"black\" points=\"36.5,-0.5 36.5,-36.5 \"/>\n<text text-anchor=\"middle\" x=\"69.5\" y=\"-14.8\" font-family=\"Times,serif\" font-size=\"14.00\">2.0000</text>\n<polyline fill=\"none\" stroke=\"black\" points=\"102.5,-0.5 102.5,-36.5 \"/>\n<text text-anchor=\"middle\" x=\"156.5\" y=\"-14.8\" font-family=\"Times,serif\" font-size=\"14.00\">grad &#45;1.5000</text>\n</g>\n<!-- 140284805793152&#45;&gt;140284813199344* -->\n<g id=\"edge11\" class=\"edge\">\n<title>140284805793152&#45;&gt;140284813199344*</title>\n<path fill=\"none\" stroke=\"black\" d=\"M184.6,-36.57C194.24,-39.32 203.9,-42.31 213,-45.5 223.56,-49.2 234.79,-54 244.75,-58.57\"/>\n<polygon fill=\"black\" stroke=\"black\" points=\"243.31,-61.76 253.85,-62.85 246.29,-55.43 243.31,-61.76\"/>\n</g>\n<!-- 140284805801936 -->\n<g id=\"node26\" class=\"node\">\n<title>140284805801936</title>\n<polygon fill=\"none\" stroke=\"black\" points=\"2.5,-110.5 2.5,-146.5 210.5,-146.5 210.5,-110.5 2.5,-110.5\"/>\n<text text-anchor=\"middle\" x=\"21.5\" y=\"-124.8\" font-family=\"Times,serif\" font-size=\"14.00\">w2</text>\n<polyline fill=\"none\" stroke=\"black\" points=\"40.5,-110.5 40.5,-146.5 \"/>\n<text text-anchor=\"middle\" x=\"73.5\" y=\"-124.8\" font-family=\"Times,serif\" font-size=\"14.00\">1.0000</text>\n<polyline fill=\"none\" stroke=\"black\" points=\"106.5,-110.5 106.5,-146.5 \"/>\n<text text-anchor=\"middle\" x=\"158.5\" y=\"-124.8\" font-family=\"Times,serif\" font-size=\"14.00\">grad 0.0000</text>\n</g>\n<!-- 140284805801936&#45;&gt;140284813206688* -->\n<g id=\"edge17\" class=\"edge\">\n<title>140284805801936&#45;&gt;140284813206688*</title>\n<path fill=\"none\" stroke=\"black\" d=\"M210.72,-128.5C220.57,-128.5 230.03,-128.5 238.53,-128.5\"/>\n<polygon fill=\"black\" stroke=\"black\" points=\"238.74,-132 248.74,-128.5 238.74,-125 238.74,-132\"/>\n</g>\n<!-- 140284813213168 -->\n<g id=\"node27\" class=\"node\">\n<title>140284813213168</title>\n<polygon fill=\"none\" stroke=\"black\" points=\"702,-82.5 702,-118.5 1005,-118.5 1005,-82.5 702,-82.5\"/>\n<text text-anchor=\"middle\" x=\"766\" y=\"-96.8\" font-family=\"Times,serif\" font-size=\"14.00\">x1*w1 + x2*w2</text>\n<polyline fill=\"none\" stroke=\"black\" points=\"830,-82.5 830,-118.5 \"/>\n<text text-anchor=\"middle\" x=\"865.5\" y=\"-96.8\" font-family=\"Times,serif\" font-size=\"14.00\">&#45;6.0000</text>\n<polyline fill=\"none\" stroke=\"black\" points=\"901,-82.5 901,-118.5 \"/>\n<text text-anchor=\"middle\" x=\"953\" y=\"-96.8\" font-family=\"Times,serif\" font-size=\"14.00\">grad 0.5000</text>\n</g>\n<!-- 140284813213168&#45;&gt;140284813212544+ -->\n<g id=\"edge21\" class=\"edge\">\n<title>140284813213168&#45;&gt;140284813212544+</title>\n<path fill=\"none\" stroke=\"black\" d=\"M996.24,-118.51C1008.9,-120.12 1020.8,-121.63 1031.09,-122.94\"/>\n<polygon fill=\"black\" stroke=\"black\" points=\"1030.85,-126.43 1041.21,-124.22 1031.73,-119.49 1030.85,-126.43\"/>\n</g>\n<!-- 140284813213168+&#45;&gt;140284813213168 -->\n<g id=\"edge10\" class=\"edge\">\n<title>140284813213168+&#45;&gt;140284813213168</title>\n<path fill=\"none\" stroke=\"black\" d=\"M666.06,-100.5C673.46,-100.5 682.1,-100.5 691.54,-100.5\"/>\n<polygon fill=\"black\" stroke=\"black\" points=\"691.64,-104 701.64,-100.5 691.64,-97 691.64,-104\"/>\n</g>\n</g>\n</svg>\n",
      "text/plain": "<graphviz.graphs.Digraph at 0x7f969a748940>"
     },
     "execution_count": 128,
     "metadata": {},
     "output_type": "execute_result"
    }
   ],
   "source": [
    "x1 = Value(2., label='x1') # input\n",
    "x2 = Value(0., label='x2') # input\n",
    "w1 = Value(-3., label='w1') # weight\n",
    "w2 = Value(1., label='w2') # weight\n",
    "b = Value(6.881373, label='b') # bias\n",
    "x1w1 = with_label(x1 * w1, label='x1*w1')\n",
    "x2w2 = with_label(x2 * w2, label='x2*w2')\n",
    "x1w1x2w2 = with_label(x1w1 + x2w2, label='x1*w1 + x2*w2')\n",
    "n = with_label(x1w1x2w2 + b, label='n')\n",
    "e = (2*n).exp()\n",
    "o = (e - 1) / (e + 1)\n",
    "o.backward()\n",
    "draw_dot(o)"
   ],
   "metadata": {
    "collapsed": false
   }
  }
 ],
 "metadata": {
  "kernelspec": {
   "display_name": "Python 3",
   "language": "python",
   "name": "python3"
  },
  "language_info": {
   "codemirror_mode": {
    "name": "ipython",
    "version": 2
   },
   "file_extension": ".py",
   "mimetype": "text/x-python",
   "name": "python",
   "nbconvert_exporter": "python",
   "pygments_lexer": "ipython2",
   "version": "2.7.6"
  }
 },
 "nbformat": 4,
 "nbformat_minor": 0
}

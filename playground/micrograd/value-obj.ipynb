{
 "cells": [
  {
   "cell_type": "code",
   "execution_count": 108,
   "outputs": [],
   "source": [
    "from graphviz import Digraph"
   ],
   "metadata": {
    "collapsed": false
   }
  },
  {
   "cell_type": "code",
   "execution_count": 109,
   "outputs": [],
   "source": [
    "class Value:\n",
    "    def __init__(self, data, prev=(), op='', label=''):\n",
    "        self.grad = 0\n",
    "\n",
    "        if hasattr(data, 'data'):\n",
    "            self.data = data.data\n",
    "            self._prev = data.prev\n",
    "            self._op = data.op\n",
    "        else:\n",
    "            self.data = data\n",
    "            self._prev = set(prev)\n",
    "            self._op = op\n",
    "\n",
    "        self._label = label\n",
    "\n",
    "    def __repr__(self):\n",
    "        return f\"Value(data={self.data}, label={self.label})\"\n",
    "\n",
    "    def __add__(self, other):\n",
    "        return Value(self.data + other.data, (self, other), '+')\n",
    "\n",
    "    def __mul__(self, other):\n",
    "        return Value(self.data * other.data, (self, other), '*')\n",
    "\n",
    "    @property\n",
    "    def label(self):\n",
    "        if not self._label and self._prev:\n",
    "            return f\"({[n.label for n in self._prev]})\"\n",
    "        return self._label\n",
    "\n",
    "    @property\n",
    "    def prev(self):\n",
    "        return self._prev\n",
    "\n",
    "    @property\n",
    "    def op(self):\n",
    "        return self._op\n"
   ],
   "metadata": {
    "collapsed": false
   }
  },
  {
   "cell_type": "code",
   "execution_count": 110,
   "outputs": [
    {
     "data": {
      "text/plain": "Value(data=-1.0, label=(['b', 'a']))"
     },
     "execution_count": 110,
     "metadata": {},
     "output_type": "execute_result"
    }
   ],
   "source": [
    "a = Value(2., label='a')\n",
    "b = Value(-3., label='b')\n",
    "a + b"
   ],
   "metadata": {
    "collapsed": false
   }
  },
  {
   "cell_type": "code",
   "execution_count": 111,
   "outputs": [
    {
     "data": {
      "text/plain": "Value(data=-1.0, label=(['b', 'a']))"
     },
     "execution_count": 111,
     "metadata": {},
     "output_type": "execute_result"
    }
   ],
   "source": [
    "a.__add__(b)"
   ],
   "metadata": {
    "collapsed": false
   }
  },
  {
   "cell_type": "code",
   "execution_count": 112,
   "outputs": [
    {
     "data": {
      "text/plain": "Value(data=-6.0, label=(['b', 'a']))"
     },
     "execution_count": 112,
     "metadata": {},
     "output_type": "execute_result"
    }
   ],
   "source": [
    "a * b"
   ],
   "metadata": {
    "collapsed": false
   }
  },
  {
   "cell_type": "code",
   "execution_count": 113,
   "outputs": [
    {
     "data": {
      "text/plain": "Value(data=4.0, label=d)"
     },
     "execution_count": 113,
     "metadata": {},
     "output_type": "execute_result"
    }
   ],
   "source": [
    "c = Value(10, label='c')\n",
    "e = Value(a*b, label='e')\n",
    "d = Value(e + c, label='d')\n",
    "d"
   ],
   "metadata": {
    "collapsed": false
   }
  },
  {
   "cell_type": "code",
   "execution_count": 114,
   "outputs": [
    {
     "data": {
      "text/plain": "{Value(data=-6.0, label=e), Value(data=10, label=c)}"
     },
     "execution_count": 114,
     "metadata": {},
     "output_type": "execute_result"
    }
   ],
   "source": [
    "# (a*b), (c)\n",
    "d.prev"
   ],
   "metadata": {
    "collapsed": false
   }
  },
  {
   "cell_type": "code",
   "execution_count": 115,
   "outputs": [
    {
     "data": {
      "text/plain": "'+'"
     },
     "execution_count": 115,
     "metadata": {},
     "output_type": "execute_result"
    }
   ],
   "source": [
    "d.op"
   ],
   "metadata": {
    "collapsed": false
   }
  },
  {
   "cell_type": "code",
   "execution_count": 116,
   "outputs": [],
   "source": [
    "def trace(root):\n",
    "    nodes, edges = set(), set()\n",
    "    def build(v):\n",
    "        if v not in nodes:\n",
    "            nodes.add(v)\n",
    "            for child in v.prev:\n",
    "                edges.add((child, v))\n",
    "                build(child)\n",
    "    build(root)\n",
    "    return nodes, edges\n",
    "\n",
    "def draw_dot(root):\n",
    "    dot = Digraph(format='svg', graph_attr={'rankdir': 'LR'}) # LR = left to right\n",
    "    nodes, edges = trace(root)\n",
    "    for n in nodes:\n",
    "        uid = str(id(n))\n",
    "        dot.node(name = uid, label = \"{ %s | %.4f | grad %.4f }\" % (n.label, n.data, n.grad), shape='record')\n",
    "        if n.op:\n",
    "            dot.node(name = uid + n.op, label = n.op)\n",
    "            dot.edge(uid + n.op, uid)\n",
    "\n",
    "    for n1, n2 in edges:\n",
    "        dot.edge(str(id(n1)), str(id(n2)) + n2.op)\n",
    "\n",
    "    return dot"
   ],
   "metadata": {
    "collapsed": false
   }
  },
  {
   "cell_type": "code",
   "execution_count": 117,
   "outputs": [
    {
     "data": {
      "image/svg+xml": "<?xml version=\"1.0\" encoding=\"UTF-8\" standalone=\"no\"?>\n<!DOCTYPE svg PUBLIC \"-//W3C//DTD SVG 1.1//EN\"\n \"http://www.w3.org/Graphics/SVG/1.1/DTD/svg11.dtd\">\n<!-- Generated by graphviz version 2.43.0 (0)\n -->\n<!-- Title: %3 Pages: 1 -->\n<svg width=\"860pt\" height=\"127pt\"\n viewBox=\"0.00 0.00 860.00 127.00\" xmlns=\"http://www.w3.org/2000/svg\" xmlns:xlink=\"http://www.w3.org/1999/xlink\">\n<g id=\"graph0\" class=\"graph\" transform=\"scale(1 1) rotate(0) translate(4 123)\">\n<title>%3</title>\n<polygon fill=\"white\" stroke=\"transparent\" points=\"-4,4 -4,-123 856,-123 856,4 -4,4\"/>\n<!-- 139682785381008 -->\n<g id=\"node1\" class=\"node\">\n<title>139682785381008</title>\n<polygon fill=\"none\" stroke=\"black\" points=\"328.5,-27.5 328.5,-63.5 528.5,-63.5 528.5,-27.5 328.5,-27.5\"/>\n<text text-anchor=\"middle\" x=\"341\" y=\"-41.8\" font-family=\"Times,serif\" font-size=\"14.00\">e</text>\n<polyline fill=\"none\" stroke=\"black\" points=\"353.5,-27.5 353.5,-63.5 \"/>\n<text text-anchor=\"middle\" x=\"389\" y=\"-41.8\" font-family=\"Times,serif\" font-size=\"14.00\">&#45;6.0000</text>\n<polyline fill=\"none\" stroke=\"black\" points=\"424.5,-27.5 424.5,-63.5 \"/>\n<text text-anchor=\"middle\" x=\"476.5\" y=\"-41.8\" font-family=\"Times,serif\" font-size=\"14.00\">grad 0.0000</text>\n</g>\n<!-- 139682785386768+ -->\n<g id=\"node6\" class=\"node\">\n<title>139682785386768+</title>\n<ellipse fill=\"none\" stroke=\"black\" cx=\"593\" cy=\"-72.5\" rx=\"27\" ry=\"18\"/>\n<text text-anchor=\"middle\" x=\"593\" y=\"-68.8\" font-family=\"Times,serif\" font-size=\"14.00\">+</text>\n</g>\n<!-- 139682785381008&#45;&gt;139682785386768+ -->\n<g id=\"edge6\" class=\"edge\">\n<title>139682785381008&#45;&gt;139682785386768+</title>\n<path fill=\"none\" stroke=\"black\" d=\"M528.71,-61.98C538.67,-63.64 548.25,-65.23 556.81,-66.65\"/>\n<polygon fill=\"black\" stroke=\"black\" points=\"556.27,-70.11 566.7,-68.3 557.41,-63.21 556.27,-70.11\"/>\n</g>\n<!-- 139682785381008* -->\n<g id=\"node2\" class=\"node\">\n<title>139682785381008*</title>\n<ellipse fill=\"none\" stroke=\"black\" cx=\"264\" cy=\"-45.5\" rx=\"27\" ry=\"18\"/>\n<text text-anchor=\"middle\" x=\"264\" y=\"-41.8\" font-family=\"Times,serif\" font-size=\"14.00\">*</text>\n</g>\n<!-- 139682785381008*&#45;&gt;139682785381008 -->\n<g id=\"edge1\" class=\"edge\">\n<title>139682785381008*&#45;&gt;139682785381008</title>\n<path fill=\"none\" stroke=\"black\" d=\"M291.11,-45.5C299.05,-45.5 308.32,-45.5 318.22,-45.5\"/>\n<polygon fill=\"black\" stroke=\"black\" points=\"318.31,-49 328.31,-45.5 318.31,-42 318.31,-49\"/>\n</g>\n<!-- 139682785379568 -->\n<g id=\"node3\" class=\"node\">\n<title>139682785379568</title>\n<polygon fill=\"none\" stroke=\"black\" points=\"3,-55.5 3,-91.5 198,-91.5 198,-55.5 3,-55.5\"/>\n<text text-anchor=\"middle\" x=\"15.5\" y=\"-69.8\" font-family=\"Times,serif\" font-size=\"14.00\">a</text>\n<polyline fill=\"none\" stroke=\"black\" points=\"28,-55.5 28,-91.5 \"/>\n<text text-anchor=\"middle\" x=\"61\" y=\"-69.8\" font-family=\"Times,serif\" font-size=\"14.00\">2.0000</text>\n<polyline fill=\"none\" stroke=\"black\" points=\"94,-55.5 94,-91.5 \"/>\n<text text-anchor=\"middle\" x=\"146\" y=\"-69.8\" font-family=\"Times,serif\" font-size=\"14.00\">grad 0.0000</text>\n</g>\n<!-- 139682785379568&#45;&gt;139682785381008* -->\n<g id=\"edge5\" class=\"edge\">\n<title>139682785379568&#45;&gt;139682785381008*</title>\n<path fill=\"none\" stroke=\"black\" d=\"M198.24,-56.73C208.67,-54.92 218.73,-53.18 227.68,-51.62\"/>\n<polygon fill=\"black\" stroke=\"black\" points=\"228.39,-55.05 237.64,-49.9 227.19,-48.16 228.39,-55.05\"/>\n</g>\n<!-- 139682776739568 -->\n<g id=\"node4\" class=\"node\">\n<title>139682776739568</title>\n<polygon fill=\"none\" stroke=\"black\" points=\"0,-0.5 0,-36.5 201,-36.5 201,-0.5 0,-0.5\"/>\n<text text-anchor=\"middle\" x=\"13\" y=\"-14.8\" font-family=\"Times,serif\" font-size=\"14.00\">b</text>\n<polyline fill=\"none\" stroke=\"black\" points=\"26,-0.5 26,-36.5 \"/>\n<text text-anchor=\"middle\" x=\"61.5\" y=\"-14.8\" font-family=\"Times,serif\" font-size=\"14.00\">&#45;3.0000</text>\n<polyline fill=\"none\" stroke=\"black\" points=\"97,-0.5 97,-36.5 \"/>\n<text text-anchor=\"middle\" x=\"149\" y=\"-14.8\" font-family=\"Times,serif\" font-size=\"14.00\">grad 0.0000</text>\n</g>\n<!-- 139682776739568&#45;&gt;139682785381008* -->\n<g id=\"edge4\" class=\"edge\">\n<title>139682776739568&#45;&gt;139682785381008*</title>\n<path fill=\"none\" stroke=\"black\" d=\"M201.02,-35.14C210.41,-36.71 219.44,-38.22 227.56,-39.58\"/>\n<polygon fill=\"black\" stroke=\"black\" points=\"227.24,-43.07 237.68,-41.27 228.39,-36.17 227.24,-43.07\"/>\n</g>\n<!-- 139682785386768 -->\n<g id=\"node5\" class=\"node\">\n<title>139682785386768</title>\n<polygon fill=\"none\" stroke=\"black\" points=\"656,-54.5 656,-90.5 852,-90.5 852,-54.5 656,-54.5\"/>\n<text text-anchor=\"middle\" x=\"669\" y=\"-68.8\" font-family=\"Times,serif\" font-size=\"14.00\">d</text>\n<polyline fill=\"none\" stroke=\"black\" points=\"682,-54.5 682,-90.5 \"/>\n<text text-anchor=\"middle\" x=\"715\" y=\"-68.8\" font-family=\"Times,serif\" font-size=\"14.00\">4.0000</text>\n<polyline fill=\"none\" stroke=\"black\" points=\"748,-54.5 748,-90.5 \"/>\n<text text-anchor=\"middle\" x=\"800\" y=\"-68.8\" font-family=\"Times,serif\" font-size=\"14.00\">grad 0.0000</text>\n</g>\n<!-- 139682785386768+&#45;&gt;139682785386768 -->\n<g id=\"edge2\" class=\"edge\">\n<title>139682785386768+&#45;&gt;139682785386768</title>\n<path fill=\"none\" stroke=\"black\" d=\"M620.26,-72.5C627.77,-72.5 636.46,-72.5 645.72,-72.5\"/>\n<polygon fill=\"black\" stroke=\"black\" points=\"645.97,-76 655.97,-72.5 645.97,-69 645.97,-76\"/>\n</g>\n<!-- 139682785385808 -->\n<g id=\"node7\" class=\"node\">\n<title>139682785385808</title>\n<polygon fill=\"none\" stroke=\"black\" points=\"327,-82.5 327,-118.5 530,-118.5 530,-82.5 327,-82.5\"/>\n<text text-anchor=\"middle\" x=\"339\" y=\"-96.8\" font-family=\"Times,serif\" font-size=\"14.00\">c</text>\n<polyline fill=\"none\" stroke=\"black\" points=\"351,-82.5 351,-118.5 \"/>\n<text text-anchor=\"middle\" x=\"388.5\" y=\"-96.8\" font-family=\"Times,serif\" font-size=\"14.00\">10.0000</text>\n<polyline fill=\"none\" stroke=\"black\" points=\"426,-82.5 426,-118.5 \"/>\n<text text-anchor=\"middle\" x=\"478\" y=\"-96.8\" font-family=\"Times,serif\" font-size=\"14.00\">grad 0.0000</text>\n</g>\n<!-- 139682785385808&#45;&gt;139682785386768+ -->\n<g id=\"edge3\" class=\"edge\">\n<title>139682785385808&#45;&gt;139682785386768+</title>\n<path fill=\"none\" stroke=\"black\" d=\"M530.1,-83.17C539.49,-81.55 548.52,-79.99 556.63,-78.59\"/>\n<polygon fill=\"black\" stroke=\"black\" points=\"557.47,-82 566.73,-76.85 556.28,-75.1 557.47,-82\"/>\n</g>\n</g>\n</svg>\n",
      "text/plain": "<graphviz.graphs.Digraph at 0x7f0a6e515150>"
     },
     "execution_count": 117,
     "metadata": {},
     "output_type": "execute_result"
    }
   ],
   "source": [
    "draw_dot(d)"
   ],
   "metadata": {
    "collapsed": false
   }
  },
  {
   "cell_type": "code",
   "execution_count": 118,
   "outputs": [
    {
     "data": {
      "image/svg+xml": "<?xml version=\"1.0\" encoding=\"UTF-8\" standalone=\"no\"?>\n<!DOCTYPE svg PUBLIC \"-//W3C//DTD SVG 1.1//EN\"\n \"http://www.w3.org/Graphics/SVG/1.1/DTD/svg11.dtd\">\n<!-- Generated by graphviz version 2.43.0 (0)\n -->\n<!-- Title: %3 Pages: 1 -->\n<svg width=\"1188pt\" height=\"154pt\"\n viewBox=\"0.00 0.00 1188.00 154.00\" xmlns=\"http://www.w3.org/2000/svg\" xmlns:xlink=\"http://www.w3.org/1999/xlink\">\n<g id=\"graph0\" class=\"graph\" transform=\"scale(1 1) rotate(0) translate(4 150)\">\n<title>%3</title>\n<polygon fill=\"white\" stroke=\"transparent\" points=\"-4,4 -4,-150 1184,-150 1184,4 -4,4\"/>\n<!-- 139682785381008 -->\n<g id=\"node1\" class=\"node\">\n<title>139682785381008</title>\n<polygon fill=\"none\" stroke=\"black\" points=\"328.5,-27.5 328.5,-63.5 528.5,-63.5 528.5,-27.5 328.5,-27.5\"/>\n<text text-anchor=\"middle\" x=\"341\" y=\"-41.8\" font-family=\"Times,serif\" font-size=\"14.00\">e</text>\n<polyline fill=\"none\" stroke=\"black\" points=\"353.5,-27.5 353.5,-63.5 \"/>\n<text text-anchor=\"middle\" x=\"389\" y=\"-41.8\" font-family=\"Times,serif\" font-size=\"14.00\">&#45;6.0000</text>\n<polyline fill=\"none\" stroke=\"black\" points=\"424.5,-27.5 424.5,-63.5 \"/>\n<text text-anchor=\"middle\" x=\"476.5\" y=\"-41.8\" font-family=\"Times,serif\" font-size=\"14.00\">grad 0.0000</text>\n</g>\n<!-- 139682785386768+ -->\n<g id=\"node6\" class=\"node\">\n<title>139682785386768+</title>\n<ellipse fill=\"none\" stroke=\"black\" cx=\"593\" cy=\"-72.5\" rx=\"27\" ry=\"18\"/>\n<text text-anchor=\"middle\" x=\"593\" y=\"-68.8\" font-family=\"Times,serif\" font-size=\"14.00\">+</text>\n</g>\n<!-- 139682785381008&#45;&gt;139682785386768+ -->\n<g id=\"edge6\" class=\"edge\">\n<title>139682785381008&#45;&gt;139682785386768+</title>\n<path fill=\"none\" stroke=\"black\" d=\"M528.71,-61.98C538.67,-63.64 548.25,-65.23 556.81,-66.65\"/>\n<polygon fill=\"black\" stroke=\"black\" points=\"556.27,-70.11 566.7,-68.3 557.41,-63.21 556.27,-70.11\"/>\n</g>\n<!-- 139682785381008* -->\n<g id=\"node2\" class=\"node\">\n<title>139682785381008*</title>\n<ellipse fill=\"none\" stroke=\"black\" cx=\"264\" cy=\"-45.5\" rx=\"27\" ry=\"18\"/>\n<text text-anchor=\"middle\" x=\"264\" y=\"-41.8\" font-family=\"Times,serif\" font-size=\"14.00\">*</text>\n</g>\n<!-- 139682785381008*&#45;&gt;139682785381008 -->\n<g id=\"edge1\" class=\"edge\">\n<title>139682785381008*&#45;&gt;139682785381008</title>\n<path fill=\"none\" stroke=\"black\" d=\"M291.11,-45.5C299.05,-45.5 308.32,-45.5 318.22,-45.5\"/>\n<polygon fill=\"black\" stroke=\"black\" points=\"318.31,-49 328.31,-45.5 318.31,-42 318.31,-49\"/>\n</g>\n<!-- 139682785379568 -->\n<g id=\"node3\" class=\"node\">\n<title>139682785379568</title>\n<polygon fill=\"none\" stroke=\"black\" points=\"3,-55.5 3,-91.5 198,-91.5 198,-55.5 3,-55.5\"/>\n<text text-anchor=\"middle\" x=\"15.5\" y=\"-69.8\" font-family=\"Times,serif\" font-size=\"14.00\">a</text>\n<polyline fill=\"none\" stroke=\"black\" points=\"28,-55.5 28,-91.5 \"/>\n<text text-anchor=\"middle\" x=\"61\" y=\"-69.8\" font-family=\"Times,serif\" font-size=\"14.00\">2.0000</text>\n<polyline fill=\"none\" stroke=\"black\" points=\"94,-55.5 94,-91.5 \"/>\n<text text-anchor=\"middle\" x=\"146\" y=\"-69.8\" font-family=\"Times,serif\" font-size=\"14.00\">grad 0.0000</text>\n</g>\n<!-- 139682785379568&#45;&gt;139682785381008* -->\n<g id=\"edge5\" class=\"edge\">\n<title>139682785379568&#45;&gt;139682785381008*</title>\n<path fill=\"none\" stroke=\"black\" d=\"M198.24,-56.73C208.67,-54.92 218.73,-53.18 227.68,-51.62\"/>\n<polygon fill=\"black\" stroke=\"black\" points=\"228.39,-55.05 237.64,-49.9 227.19,-48.16 228.39,-55.05\"/>\n</g>\n<!-- 139682776739568 -->\n<g id=\"node4\" class=\"node\">\n<title>139682776739568</title>\n<polygon fill=\"none\" stroke=\"black\" points=\"0,-0.5 0,-36.5 201,-36.5 201,-0.5 0,-0.5\"/>\n<text text-anchor=\"middle\" x=\"13\" y=\"-14.8\" font-family=\"Times,serif\" font-size=\"14.00\">b</text>\n<polyline fill=\"none\" stroke=\"black\" points=\"26,-0.5 26,-36.5 \"/>\n<text text-anchor=\"middle\" x=\"61.5\" y=\"-14.8\" font-family=\"Times,serif\" font-size=\"14.00\">&#45;3.0000</text>\n<polyline fill=\"none\" stroke=\"black\" points=\"97,-0.5 97,-36.5 \"/>\n<text text-anchor=\"middle\" x=\"149\" y=\"-14.8\" font-family=\"Times,serif\" font-size=\"14.00\">grad 0.0000</text>\n</g>\n<!-- 139682776739568&#45;&gt;139682785381008* -->\n<g id=\"edge4\" class=\"edge\">\n<title>139682776739568&#45;&gt;139682785381008*</title>\n<path fill=\"none\" stroke=\"black\" d=\"M201.02,-35.14C210.41,-36.71 219.44,-38.22 227.56,-39.58\"/>\n<polygon fill=\"black\" stroke=\"black\" points=\"227.24,-43.07 237.68,-41.27 228.39,-36.17 227.24,-43.07\"/>\n</g>\n<!-- 139682785386768 -->\n<g id=\"node5\" class=\"node\">\n<title>139682785386768</title>\n<polygon fill=\"none\" stroke=\"black\" points=\"656.5,-54.5 656.5,-90.5 852.5,-90.5 852.5,-54.5 656.5,-54.5\"/>\n<text text-anchor=\"middle\" x=\"669.5\" y=\"-68.8\" font-family=\"Times,serif\" font-size=\"14.00\">d</text>\n<polyline fill=\"none\" stroke=\"black\" points=\"682.5,-54.5 682.5,-90.5 \"/>\n<text text-anchor=\"middle\" x=\"715.5\" y=\"-68.8\" font-family=\"Times,serif\" font-size=\"14.00\">4.0000</text>\n<polyline fill=\"none\" stroke=\"black\" points=\"748.5,-54.5 748.5,-90.5 \"/>\n<text text-anchor=\"middle\" x=\"800.5\" y=\"-68.8\" font-family=\"Times,serif\" font-size=\"14.00\">grad 0.0000</text>\n</g>\n<!-- 139682783418144* -->\n<g id=\"node8\" class=\"node\">\n<title>139682783418144*</title>\n<ellipse fill=\"none\" stroke=\"black\" cx=\"916\" cy=\"-99.5\" rx=\"27\" ry=\"18\"/>\n<text text-anchor=\"middle\" x=\"916\" y=\"-95.8\" font-family=\"Times,serif\" font-size=\"14.00\">*</text>\n</g>\n<!-- 139682785386768&#45;&gt;139682783418144* -->\n<g id=\"edge8\" class=\"edge\">\n<title>139682785386768&#45;&gt;139682783418144*</title>\n<path fill=\"none\" stroke=\"black\" d=\"M852.88,-88.98C862.36,-90.59 871.5,-92.14 879.71,-93.53\"/>\n<polygon fill=\"black\" stroke=\"black\" points=\"879.13,-96.98 889.57,-95.2 880.3,-90.08 879.13,-96.98\"/>\n</g>\n<!-- 139682785386768+&#45;&gt;139682785386768 -->\n<g id=\"edge2\" class=\"edge\">\n<title>139682785386768+&#45;&gt;139682785386768</title>\n<path fill=\"none\" stroke=\"black\" d=\"M620.34,-72.5C627.88,-72.5 636.59,-72.5 645.88,-72.5\"/>\n<polygon fill=\"black\" stroke=\"black\" points=\"646.17,-76 656.17,-72.5 646.17,-69 646.17,-76\"/>\n</g>\n<!-- 139682783418144 -->\n<g id=\"node7\" class=\"node\">\n<title>139682783418144</title>\n<polygon fill=\"none\" stroke=\"black\" points=\"979,-81.5 979,-117.5 1180,-117.5 1180,-81.5 979,-81.5\"/>\n<text text-anchor=\"middle\" x=\"992\" y=\"-95.8\" font-family=\"Times,serif\" font-size=\"14.00\">L</text>\n<polyline fill=\"none\" stroke=\"black\" points=\"1005,-81.5 1005,-117.5 \"/>\n<text text-anchor=\"middle\" x=\"1040.5\" y=\"-95.8\" font-family=\"Times,serif\" font-size=\"14.00\">&#45;8.0000</text>\n<polyline fill=\"none\" stroke=\"black\" points=\"1076,-81.5 1076,-117.5 \"/>\n<text text-anchor=\"middle\" x=\"1128\" y=\"-95.8\" font-family=\"Times,serif\" font-size=\"14.00\">grad 0.0000</text>\n</g>\n<!-- 139682783418144*&#45;&gt;139682783418144 -->\n<g id=\"edge3\" class=\"edge\">\n<title>139682783418144*&#45;&gt;139682783418144</title>\n<path fill=\"none\" stroke=\"black\" d=\"M943.31,-99.5C950.79,-99.5 959.44,-99.5 968.68,-99.5\"/>\n<polygon fill=\"black\" stroke=\"black\" points=\"968.9,-103 978.9,-99.5 968.9,-96 968.9,-103\"/>\n</g>\n<!-- 139682783422752 -->\n<g id=\"node9\" class=\"node\">\n<title>139682783422752</title>\n<polygon fill=\"none\" stroke=\"black\" points=\"656,-109.5 656,-145.5 853,-145.5 853,-109.5 656,-109.5\"/>\n<text text-anchor=\"middle\" x=\"667\" y=\"-123.8\" font-family=\"Times,serif\" font-size=\"14.00\">f</text>\n<polyline fill=\"none\" stroke=\"black\" points=\"678,-109.5 678,-145.5 \"/>\n<text text-anchor=\"middle\" x=\"713.5\" y=\"-123.8\" font-family=\"Times,serif\" font-size=\"14.00\">&#45;2.0000</text>\n<polyline fill=\"none\" stroke=\"black\" points=\"749,-109.5 749,-145.5 \"/>\n<text text-anchor=\"middle\" x=\"801\" y=\"-123.8\" font-family=\"Times,serif\" font-size=\"14.00\">grad 0.0000</text>\n</g>\n<!-- 139682783422752&#45;&gt;139682783418144* -->\n<g id=\"edge7\" class=\"edge\">\n<title>139682783422752&#45;&gt;139682783418144*</title>\n<path fill=\"none\" stroke=\"black\" d=\"M853.33,-110.33C862.66,-108.69 871.64,-107.11 879.72,-105.69\"/>\n<polygon fill=\"black\" stroke=\"black\" points=\"880.54,-109.1 889.78,-103.93 879.33,-102.21 880.54,-109.1\"/>\n</g>\n<!-- 139682785385808 -->\n<g id=\"node10\" class=\"node\">\n<title>139682785385808</title>\n<polygon fill=\"none\" stroke=\"black\" points=\"327,-82.5 327,-118.5 530,-118.5 530,-82.5 327,-82.5\"/>\n<text text-anchor=\"middle\" x=\"339\" y=\"-96.8\" font-family=\"Times,serif\" font-size=\"14.00\">c</text>\n<polyline fill=\"none\" stroke=\"black\" points=\"351,-82.5 351,-118.5 \"/>\n<text text-anchor=\"middle\" x=\"388.5\" y=\"-96.8\" font-family=\"Times,serif\" font-size=\"14.00\">10.0000</text>\n<polyline fill=\"none\" stroke=\"black\" points=\"426,-82.5 426,-118.5 \"/>\n<text text-anchor=\"middle\" x=\"478\" y=\"-96.8\" font-family=\"Times,serif\" font-size=\"14.00\">grad 0.0000</text>\n</g>\n<!-- 139682785385808&#45;&gt;139682785386768+ -->\n<g id=\"edge9\" class=\"edge\">\n<title>139682785385808&#45;&gt;139682785386768+</title>\n<path fill=\"none\" stroke=\"black\" d=\"M530.1,-83.17C539.49,-81.55 548.52,-79.99 556.63,-78.59\"/>\n<polygon fill=\"black\" stroke=\"black\" points=\"557.47,-82 566.73,-76.85 556.28,-75.1 557.47,-82\"/>\n</g>\n</g>\n</svg>\n",
      "text/plain": "<graphviz.graphs.Digraph at 0x7f0a6eafd750>"
     },
     "execution_count": 118,
     "metadata": {},
     "output_type": "execute_result"
    }
   ],
   "source": [
    "f = Value(-2., label='f')\n",
    "L = Value(d * f, label='L') # Loss function\n",
    "draw_dot(L)"
   ],
   "metadata": {
    "collapsed": false
   }
  },
  {
   "cell_type": "code",
   "execution_count": 122,
   "outputs": [
    {
     "data": {
      "text/plain": "1.000000000000334"
     },
     "execution_count": 122,
     "metadata": {},
     "output_type": "execute_result"
    }
   ],
   "source": [
    "# the derivative of L in respect to L is 1\n",
    "def tmp():\n",
    "    h = 0.001\n",
    "\n",
    "    a = Value(2., label='a')\n",
    "    b = Value(-3., label='b')\n",
    "    c = Value(10., label='c')\n",
    "    e = Value(a * b, label='e')\n",
    "    d = Value(e + c, label='d')\n",
    "    f = Value(-2., label='f')\n",
    "    L = Value(d * f, label='L')\n",
    "    L1 = L.data\n",
    "\n",
    "    a = Value(2., label='a')\n",
    "    b = Value(-3., label='b')\n",
    "    c = Value(10., label='c')\n",
    "    e = Value(a * b, label='e')\n",
    "    d = Value(e + c, label='d')\n",
    "    f = Value(-2., label='f')\n",
    "    L = Value(d * f, label='L')\n",
    "    L2 = L.data + h\n",
    "\n",
    "    return (L2 - L1) / h\n",
    "\n",
    "tmp()"
   ],
   "metadata": {
    "collapsed": false
   }
  },
  {
   "cell_type": "code",
   "execution_count": 123,
   "outputs": [
    {
     "data": {
      "image/svg+xml": "<?xml version=\"1.0\" encoding=\"UTF-8\" standalone=\"no\"?>\n<!DOCTYPE svg PUBLIC \"-//W3C//DTD SVG 1.1//EN\"\n \"http://www.w3.org/Graphics/SVG/1.1/DTD/svg11.dtd\">\n<!-- Generated by graphviz version 2.43.0 (0)\n -->\n<!-- Title: %3 Pages: 1 -->\n<svg width=\"1188pt\" height=\"154pt\"\n viewBox=\"0.00 0.00 1188.00 154.00\" xmlns=\"http://www.w3.org/2000/svg\" xmlns:xlink=\"http://www.w3.org/1999/xlink\">\n<g id=\"graph0\" class=\"graph\" transform=\"scale(1 1) rotate(0) translate(4 150)\">\n<title>%3</title>\n<polygon fill=\"white\" stroke=\"transparent\" points=\"-4,4 -4,-150 1184,-150 1184,4 -4,4\"/>\n<!-- 139682785381008 -->\n<g id=\"node1\" class=\"node\">\n<title>139682785381008</title>\n<polygon fill=\"none\" stroke=\"black\" points=\"328.5,-27.5 328.5,-63.5 528.5,-63.5 528.5,-27.5 328.5,-27.5\"/>\n<text text-anchor=\"middle\" x=\"341\" y=\"-41.8\" font-family=\"Times,serif\" font-size=\"14.00\">e</text>\n<polyline fill=\"none\" stroke=\"black\" points=\"353.5,-27.5 353.5,-63.5 \"/>\n<text text-anchor=\"middle\" x=\"389\" y=\"-41.8\" font-family=\"Times,serif\" font-size=\"14.00\">&#45;6.0000</text>\n<polyline fill=\"none\" stroke=\"black\" points=\"424.5,-27.5 424.5,-63.5 \"/>\n<text text-anchor=\"middle\" x=\"476.5\" y=\"-41.8\" font-family=\"Times,serif\" font-size=\"14.00\">grad 0.0000</text>\n</g>\n<!-- 139682785386768+ -->\n<g id=\"node6\" class=\"node\">\n<title>139682785386768+</title>\n<ellipse fill=\"none\" stroke=\"black\" cx=\"593\" cy=\"-72.5\" rx=\"27\" ry=\"18\"/>\n<text text-anchor=\"middle\" x=\"593\" y=\"-68.8\" font-family=\"Times,serif\" font-size=\"14.00\">+</text>\n</g>\n<!-- 139682785381008&#45;&gt;139682785386768+ -->\n<g id=\"edge6\" class=\"edge\">\n<title>139682785381008&#45;&gt;139682785386768+</title>\n<path fill=\"none\" stroke=\"black\" d=\"M528.71,-61.98C538.67,-63.64 548.25,-65.23 556.81,-66.65\"/>\n<polygon fill=\"black\" stroke=\"black\" points=\"556.27,-70.11 566.7,-68.3 557.41,-63.21 556.27,-70.11\"/>\n</g>\n<!-- 139682785381008* -->\n<g id=\"node2\" class=\"node\">\n<title>139682785381008*</title>\n<ellipse fill=\"none\" stroke=\"black\" cx=\"264\" cy=\"-45.5\" rx=\"27\" ry=\"18\"/>\n<text text-anchor=\"middle\" x=\"264\" y=\"-41.8\" font-family=\"Times,serif\" font-size=\"14.00\">*</text>\n</g>\n<!-- 139682785381008*&#45;&gt;139682785381008 -->\n<g id=\"edge1\" class=\"edge\">\n<title>139682785381008*&#45;&gt;139682785381008</title>\n<path fill=\"none\" stroke=\"black\" d=\"M291.11,-45.5C299.05,-45.5 308.32,-45.5 318.22,-45.5\"/>\n<polygon fill=\"black\" stroke=\"black\" points=\"318.31,-49 328.31,-45.5 318.31,-42 318.31,-49\"/>\n</g>\n<!-- 139682785379568 -->\n<g id=\"node3\" class=\"node\">\n<title>139682785379568</title>\n<polygon fill=\"none\" stroke=\"black\" points=\"3,-55.5 3,-91.5 198,-91.5 198,-55.5 3,-55.5\"/>\n<text text-anchor=\"middle\" x=\"15.5\" y=\"-69.8\" font-family=\"Times,serif\" font-size=\"14.00\">a</text>\n<polyline fill=\"none\" stroke=\"black\" points=\"28,-55.5 28,-91.5 \"/>\n<text text-anchor=\"middle\" x=\"61\" y=\"-69.8\" font-family=\"Times,serif\" font-size=\"14.00\">2.0000</text>\n<polyline fill=\"none\" stroke=\"black\" points=\"94,-55.5 94,-91.5 \"/>\n<text text-anchor=\"middle\" x=\"146\" y=\"-69.8\" font-family=\"Times,serif\" font-size=\"14.00\">grad 0.0000</text>\n</g>\n<!-- 139682785379568&#45;&gt;139682785381008* -->\n<g id=\"edge5\" class=\"edge\">\n<title>139682785379568&#45;&gt;139682785381008*</title>\n<path fill=\"none\" stroke=\"black\" d=\"M198.24,-56.73C208.67,-54.92 218.73,-53.18 227.68,-51.62\"/>\n<polygon fill=\"black\" stroke=\"black\" points=\"228.39,-55.05 237.64,-49.9 227.19,-48.16 228.39,-55.05\"/>\n</g>\n<!-- 139682776739568 -->\n<g id=\"node4\" class=\"node\">\n<title>139682776739568</title>\n<polygon fill=\"none\" stroke=\"black\" points=\"0,-0.5 0,-36.5 201,-36.5 201,-0.5 0,-0.5\"/>\n<text text-anchor=\"middle\" x=\"13\" y=\"-14.8\" font-family=\"Times,serif\" font-size=\"14.00\">b</text>\n<polyline fill=\"none\" stroke=\"black\" points=\"26,-0.5 26,-36.5 \"/>\n<text text-anchor=\"middle\" x=\"61.5\" y=\"-14.8\" font-family=\"Times,serif\" font-size=\"14.00\">&#45;3.0000</text>\n<polyline fill=\"none\" stroke=\"black\" points=\"97,-0.5 97,-36.5 \"/>\n<text text-anchor=\"middle\" x=\"149\" y=\"-14.8\" font-family=\"Times,serif\" font-size=\"14.00\">grad 0.0000</text>\n</g>\n<!-- 139682776739568&#45;&gt;139682785381008* -->\n<g id=\"edge4\" class=\"edge\">\n<title>139682776739568&#45;&gt;139682785381008*</title>\n<path fill=\"none\" stroke=\"black\" d=\"M201.02,-35.14C210.41,-36.71 219.44,-38.22 227.56,-39.58\"/>\n<polygon fill=\"black\" stroke=\"black\" points=\"227.24,-43.07 237.68,-41.27 228.39,-36.17 227.24,-43.07\"/>\n</g>\n<!-- 139682785386768 -->\n<g id=\"node5\" class=\"node\">\n<title>139682785386768</title>\n<polygon fill=\"none\" stroke=\"black\" points=\"656.5,-54.5 656.5,-90.5 852.5,-90.5 852.5,-54.5 656.5,-54.5\"/>\n<text text-anchor=\"middle\" x=\"669.5\" y=\"-68.8\" font-family=\"Times,serif\" font-size=\"14.00\">d</text>\n<polyline fill=\"none\" stroke=\"black\" points=\"682.5,-54.5 682.5,-90.5 \"/>\n<text text-anchor=\"middle\" x=\"715.5\" y=\"-68.8\" font-family=\"Times,serif\" font-size=\"14.00\">4.0000</text>\n<polyline fill=\"none\" stroke=\"black\" points=\"748.5,-54.5 748.5,-90.5 \"/>\n<text text-anchor=\"middle\" x=\"800.5\" y=\"-68.8\" font-family=\"Times,serif\" font-size=\"14.00\">grad 0.0000</text>\n</g>\n<!-- 139682783418144* -->\n<g id=\"node8\" class=\"node\">\n<title>139682783418144*</title>\n<ellipse fill=\"none\" stroke=\"black\" cx=\"916\" cy=\"-99.5\" rx=\"27\" ry=\"18\"/>\n<text text-anchor=\"middle\" x=\"916\" y=\"-95.8\" font-family=\"Times,serif\" font-size=\"14.00\">*</text>\n</g>\n<!-- 139682785386768&#45;&gt;139682783418144* -->\n<g id=\"edge8\" class=\"edge\">\n<title>139682785386768&#45;&gt;139682783418144*</title>\n<path fill=\"none\" stroke=\"black\" d=\"M852.88,-88.98C862.36,-90.59 871.5,-92.14 879.71,-93.53\"/>\n<polygon fill=\"black\" stroke=\"black\" points=\"879.13,-96.98 889.57,-95.2 880.3,-90.08 879.13,-96.98\"/>\n</g>\n<!-- 139682785386768+&#45;&gt;139682785386768 -->\n<g id=\"edge2\" class=\"edge\">\n<title>139682785386768+&#45;&gt;139682785386768</title>\n<path fill=\"none\" stroke=\"black\" d=\"M620.34,-72.5C627.88,-72.5 636.59,-72.5 645.88,-72.5\"/>\n<polygon fill=\"black\" stroke=\"black\" points=\"646.17,-76 656.17,-72.5 646.17,-69 646.17,-76\"/>\n</g>\n<!-- 139682783418144 -->\n<g id=\"node7\" class=\"node\">\n<title>139682783418144</title>\n<polygon fill=\"none\" stroke=\"black\" points=\"979,-81.5 979,-117.5 1180,-117.5 1180,-81.5 979,-81.5\"/>\n<text text-anchor=\"middle\" x=\"992\" y=\"-95.8\" font-family=\"Times,serif\" font-size=\"14.00\">L</text>\n<polyline fill=\"none\" stroke=\"black\" points=\"1005,-81.5 1005,-117.5 \"/>\n<text text-anchor=\"middle\" x=\"1040.5\" y=\"-95.8\" font-family=\"Times,serif\" font-size=\"14.00\">&#45;8.0000</text>\n<polyline fill=\"none\" stroke=\"black\" points=\"1076,-81.5 1076,-117.5 \"/>\n<text text-anchor=\"middle\" x=\"1128\" y=\"-95.8\" font-family=\"Times,serif\" font-size=\"14.00\">grad 1.0000</text>\n</g>\n<!-- 139682783418144*&#45;&gt;139682783418144 -->\n<g id=\"edge3\" class=\"edge\">\n<title>139682783418144*&#45;&gt;139682783418144</title>\n<path fill=\"none\" stroke=\"black\" d=\"M943.31,-99.5C950.79,-99.5 959.44,-99.5 968.68,-99.5\"/>\n<polygon fill=\"black\" stroke=\"black\" points=\"968.9,-103 978.9,-99.5 968.9,-96 968.9,-103\"/>\n</g>\n<!-- 139682783422752 -->\n<g id=\"node9\" class=\"node\">\n<title>139682783422752</title>\n<polygon fill=\"none\" stroke=\"black\" points=\"656,-109.5 656,-145.5 853,-145.5 853,-109.5 656,-109.5\"/>\n<text text-anchor=\"middle\" x=\"667\" y=\"-123.8\" font-family=\"Times,serif\" font-size=\"14.00\">f</text>\n<polyline fill=\"none\" stroke=\"black\" points=\"678,-109.5 678,-145.5 \"/>\n<text text-anchor=\"middle\" x=\"713.5\" y=\"-123.8\" font-family=\"Times,serif\" font-size=\"14.00\">&#45;2.0000</text>\n<polyline fill=\"none\" stroke=\"black\" points=\"749,-109.5 749,-145.5 \"/>\n<text text-anchor=\"middle\" x=\"801\" y=\"-123.8\" font-family=\"Times,serif\" font-size=\"14.00\">grad 0.0000</text>\n</g>\n<!-- 139682783422752&#45;&gt;139682783418144* -->\n<g id=\"edge7\" class=\"edge\">\n<title>139682783422752&#45;&gt;139682783418144*</title>\n<path fill=\"none\" stroke=\"black\" d=\"M853.33,-110.33C862.66,-108.69 871.64,-107.11 879.72,-105.69\"/>\n<polygon fill=\"black\" stroke=\"black\" points=\"880.54,-109.1 889.78,-103.93 879.33,-102.21 880.54,-109.1\"/>\n</g>\n<!-- 139682785385808 -->\n<g id=\"node10\" class=\"node\">\n<title>139682785385808</title>\n<polygon fill=\"none\" stroke=\"black\" points=\"327,-82.5 327,-118.5 530,-118.5 530,-82.5 327,-82.5\"/>\n<text text-anchor=\"middle\" x=\"339\" y=\"-96.8\" font-family=\"Times,serif\" font-size=\"14.00\">c</text>\n<polyline fill=\"none\" stroke=\"black\" points=\"351,-82.5 351,-118.5 \"/>\n<text text-anchor=\"middle\" x=\"388.5\" y=\"-96.8\" font-family=\"Times,serif\" font-size=\"14.00\">10.0000</text>\n<polyline fill=\"none\" stroke=\"black\" points=\"426,-82.5 426,-118.5 \"/>\n<text text-anchor=\"middle\" x=\"478\" y=\"-96.8\" font-family=\"Times,serif\" font-size=\"14.00\">grad 0.0000</text>\n</g>\n<!-- 139682785385808&#45;&gt;139682785386768+ -->\n<g id=\"edge9\" class=\"edge\">\n<title>139682785385808&#45;&gt;139682785386768+</title>\n<path fill=\"none\" stroke=\"black\" d=\"M530.1,-83.17C539.49,-81.55 548.52,-79.99 556.63,-78.59\"/>\n<polygon fill=\"black\" stroke=\"black\" points=\"557.47,-82 566.73,-76.85 556.28,-75.1 557.47,-82\"/>\n</g>\n</g>\n</svg>\n",
      "text/plain": "<graphviz.graphs.Digraph at 0x7f0a6f1b6770>"
     },
     "execution_count": 123,
     "metadata": {},
     "output_type": "execute_result"
    }
   ],
   "source": [
    "L.grad = 1\n",
    "draw_dot(L)"
   ],
   "metadata": {
    "collapsed": false
   }
  },
  {
   "cell_type": "code",
   "execution_count": null,
   "outputs": [],
   "source": [
    "# L = d * f\n",
    "# we want to know\n",
    "# dL/dd = ?\n",
    "# dL/dd = f\n",
    "\n",
    "# (f(x+h) - f(x)) / h # limit of h goes to zero\n",
    "\n",
    "# ((d+h)*f - d*f)/h\n",
    "# (d*f + h*f - d*f)/h\n",
    "# (h*f)/h\n",
    "# f"
   ],
   "metadata": {
    "collapsed": false
   }
  },
  {
   "cell_type": "code",
   "execution_count": 126,
   "outputs": [],
   "source": [
    "f.grad = d.data"
   ],
   "metadata": {
    "collapsed": false
   }
  },
  {
   "cell_type": "code",
   "execution_count": 127,
   "outputs": [
    {
     "data": {
      "image/svg+xml": "<?xml version=\"1.0\" encoding=\"UTF-8\" standalone=\"no\"?>\n<!DOCTYPE svg PUBLIC \"-//W3C//DTD SVG 1.1//EN\"\n \"http://www.w3.org/Graphics/SVG/1.1/DTD/svg11.dtd\">\n<!-- Generated by graphviz version 2.43.0 (0)\n -->\n<!-- Title: %3 Pages: 1 -->\n<svg width=\"1188pt\" height=\"154pt\"\n viewBox=\"0.00 0.00 1188.00 154.00\" xmlns=\"http://www.w3.org/2000/svg\" xmlns:xlink=\"http://www.w3.org/1999/xlink\">\n<g id=\"graph0\" class=\"graph\" transform=\"scale(1 1) rotate(0) translate(4 150)\">\n<title>%3</title>\n<polygon fill=\"white\" stroke=\"transparent\" points=\"-4,4 -4,-150 1184,-150 1184,4 -4,4\"/>\n<!-- 139682785381008 -->\n<g id=\"node1\" class=\"node\">\n<title>139682785381008</title>\n<polygon fill=\"none\" stroke=\"black\" points=\"328.5,-27.5 328.5,-63.5 528.5,-63.5 528.5,-27.5 328.5,-27.5\"/>\n<text text-anchor=\"middle\" x=\"341\" y=\"-41.8\" font-family=\"Times,serif\" font-size=\"14.00\">e</text>\n<polyline fill=\"none\" stroke=\"black\" points=\"353.5,-27.5 353.5,-63.5 \"/>\n<text text-anchor=\"middle\" x=\"389\" y=\"-41.8\" font-family=\"Times,serif\" font-size=\"14.00\">&#45;6.0000</text>\n<polyline fill=\"none\" stroke=\"black\" points=\"424.5,-27.5 424.5,-63.5 \"/>\n<text text-anchor=\"middle\" x=\"476.5\" y=\"-41.8\" font-family=\"Times,serif\" font-size=\"14.00\">grad 0.0000</text>\n</g>\n<!-- 139682785386768+ -->\n<g id=\"node6\" class=\"node\">\n<title>139682785386768+</title>\n<ellipse fill=\"none\" stroke=\"black\" cx=\"593\" cy=\"-72.5\" rx=\"27\" ry=\"18\"/>\n<text text-anchor=\"middle\" x=\"593\" y=\"-68.8\" font-family=\"Times,serif\" font-size=\"14.00\">+</text>\n</g>\n<!-- 139682785381008&#45;&gt;139682785386768+ -->\n<g id=\"edge6\" class=\"edge\">\n<title>139682785381008&#45;&gt;139682785386768+</title>\n<path fill=\"none\" stroke=\"black\" d=\"M528.71,-61.98C538.67,-63.64 548.25,-65.23 556.81,-66.65\"/>\n<polygon fill=\"black\" stroke=\"black\" points=\"556.27,-70.11 566.7,-68.3 557.41,-63.21 556.27,-70.11\"/>\n</g>\n<!-- 139682785381008* -->\n<g id=\"node2\" class=\"node\">\n<title>139682785381008*</title>\n<ellipse fill=\"none\" stroke=\"black\" cx=\"264\" cy=\"-45.5\" rx=\"27\" ry=\"18\"/>\n<text text-anchor=\"middle\" x=\"264\" y=\"-41.8\" font-family=\"Times,serif\" font-size=\"14.00\">*</text>\n</g>\n<!-- 139682785381008*&#45;&gt;139682785381008 -->\n<g id=\"edge1\" class=\"edge\">\n<title>139682785381008*&#45;&gt;139682785381008</title>\n<path fill=\"none\" stroke=\"black\" d=\"M291.11,-45.5C299.05,-45.5 308.32,-45.5 318.22,-45.5\"/>\n<polygon fill=\"black\" stroke=\"black\" points=\"318.31,-49 328.31,-45.5 318.31,-42 318.31,-49\"/>\n</g>\n<!-- 139682785379568 -->\n<g id=\"node3\" class=\"node\">\n<title>139682785379568</title>\n<polygon fill=\"none\" stroke=\"black\" points=\"3,-55.5 3,-91.5 198,-91.5 198,-55.5 3,-55.5\"/>\n<text text-anchor=\"middle\" x=\"15.5\" y=\"-69.8\" font-family=\"Times,serif\" font-size=\"14.00\">a</text>\n<polyline fill=\"none\" stroke=\"black\" points=\"28,-55.5 28,-91.5 \"/>\n<text text-anchor=\"middle\" x=\"61\" y=\"-69.8\" font-family=\"Times,serif\" font-size=\"14.00\">2.0000</text>\n<polyline fill=\"none\" stroke=\"black\" points=\"94,-55.5 94,-91.5 \"/>\n<text text-anchor=\"middle\" x=\"146\" y=\"-69.8\" font-family=\"Times,serif\" font-size=\"14.00\">grad 0.0000</text>\n</g>\n<!-- 139682785379568&#45;&gt;139682785381008* -->\n<g id=\"edge5\" class=\"edge\">\n<title>139682785379568&#45;&gt;139682785381008*</title>\n<path fill=\"none\" stroke=\"black\" d=\"M198.24,-56.73C208.67,-54.92 218.73,-53.18 227.68,-51.62\"/>\n<polygon fill=\"black\" stroke=\"black\" points=\"228.39,-55.05 237.64,-49.9 227.19,-48.16 228.39,-55.05\"/>\n</g>\n<!-- 139682776739568 -->\n<g id=\"node4\" class=\"node\">\n<title>139682776739568</title>\n<polygon fill=\"none\" stroke=\"black\" points=\"0,-0.5 0,-36.5 201,-36.5 201,-0.5 0,-0.5\"/>\n<text text-anchor=\"middle\" x=\"13\" y=\"-14.8\" font-family=\"Times,serif\" font-size=\"14.00\">b</text>\n<polyline fill=\"none\" stroke=\"black\" points=\"26,-0.5 26,-36.5 \"/>\n<text text-anchor=\"middle\" x=\"61.5\" y=\"-14.8\" font-family=\"Times,serif\" font-size=\"14.00\">&#45;3.0000</text>\n<polyline fill=\"none\" stroke=\"black\" points=\"97,-0.5 97,-36.5 \"/>\n<text text-anchor=\"middle\" x=\"149\" y=\"-14.8\" font-family=\"Times,serif\" font-size=\"14.00\">grad 0.0000</text>\n</g>\n<!-- 139682776739568&#45;&gt;139682785381008* -->\n<g id=\"edge4\" class=\"edge\">\n<title>139682776739568&#45;&gt;139682785381008*</title>\n<path fill=\"none\" stroke=\"black\" d=\"M201.02,-35.14C210.41,-36.71 219.44,-38.22 227.56,-39.58\"/>\n<polygon fill=\"black\" stroke=\"black\" points=\"227.24,-43.07 237.68,-41.27 228.39,-36.17 227.24,-43.07\"/>\n</g>\n<!-- 139682785386768 -->\n<g id=\"node5\" class=\"node\">\n<title>139682785386768</title>\n<polygon fill=\"none\" stroke=\"black\" points=\"656.5,-54.5 656.5,-90.5 852.5,-90.5 852.5,-54.5 656.5,-54.5\"/>\n<text text-anchor=\"middle\" x=\"669.5\" y=\"-68.8\" font-family=\"Times,serif\" font-size=\"14.00\">d</text>\n<polyline fill=\"none\" stroke=\"black\" points=\"682.5,-54.5 682.5,-90.5 \"/>\n<text text-anchor=\"middle\" x=\"715.5\" y=\"-68.8\" font-family=\"Times,serif\" font-size=\"14.00\">4.0000</text>\n<polyline fill=\"none\" stroke=\"black\" points=\"748.5,-54.5 748.5,-90.5 \"/>\n<text text-anchor=\"middle\" x=\"800.5\" y=\"-68.8\" font-family=\"Times,serif\" font-size=\"14.00\">grad 0.0000</text>\n</g>\n<!-- 139682783418144* -->\n<g id=\"node8\" class=\"node\">\n<title>139682783418144*</title>\n<ellipse fill=\"none\" stroke=\"black\" cx=\"916\" cy=\"-99.5\" rx=\"27\" ry=\"18\"/>\n<text text-anchor=\"middle\" x=\"916\" y=\"-95.8\" font-family=\"Times,serif\" font-size=\"14.00\">*</text>\n</g>\n<!-- 139682785386768&#45;&gt;139682783418144* -->\n<g id=\"edge8\" class=\"edge\">\n<title>139682785386768&#45;&gt;139682783418144*</title>\n<path fill=\"none\" stroke=\"black\" d=\"M852.88,-88.98C862.36,-90.59 871.5,-92.14 879.71,-93.53\"/>\n<polygon fill=\"black\" stroke=\"black\" points=\"879.13,-96.98 889.57,-95.2 880.3,-90.08 879.13,-96.98\"/>\n</g>\n<!-- 139682785386768+&#45;&gt;139682785386768 -->\n<g id=\"edge2\" class=\"edge\">\n<title>139682785386768+&#45;&gt;139682785386768</title>\n<path fill=\"none\" stroke=\"black\" d=\"M620.34,-72.5C627.88,-72.5 636.59,-72.5 645.88,-72.5\"/>\n<polygon fill=\"black\" stroke=\"black\" points=\"646.17,-76 656.17,-72.5 646.17,-69 646.17,-76\"/>\n</g>\n<!-- 139682783418144 -->\n<g id=\"node7\" class=\"node\">\n<title>139682783418144</title>\n<polygon fill=\"none\" stroke=\"black\" points=\"979,-81.5 979,-117.5 1180,-117.5 1180,-81.5 979,-81.5\"/>\n<text text-anchor=\"middle\" x=\"992\" y=\"-95.8\" font-family=\"Times,serif\" font-size=\"14.00\">L</text>\n<polyline fill=\"none\" stroke=\"black\" points=\"1005,-81.5 1005,-117.5 \"/>\n<text text-anchor=\"middle\" x=\"1040.5\" y=\"-95.8\" font-family=\"Times,serif\" font-size=\"14.00\">&#45;8.0000</text>\n<polyline fill=\"none\" stroke=\"black\" points=\"1076,-81.5 1076,-117.5 \"/>\n<text text-anchor=\"middle\" x=\"1128\" y=\"-95.8\" font-family=\"Times,serif\" font-size=\"14.00\">grad 1.0000</text>\n</g>\n<!-- 139682783418144*&#45;&gt;139682783418144 -->\n<g id=\"edge3\" class=\"edge\">\n<title>139682783418144*&#45;&gt;139682783418144</title>\n<path fill=\"none\" stroke=\"black\" d=\"M943.31,-99.5C950.79,-99.5 959.44,-99.5 968.68,-99.5\"/>\n<polygon fill=\"black\" stroke=\"black\" points=\"968.9,-103 978.9,-99.5 968.9,-96 968.9,-103\"/>\n</g>\n<!-- 139682783422752 -->\n<g id=\"node9\" class=\"node\">\n<title>139682783422752</title>\n<polygon fill=\"none\" stroke=\"black\" points=\"656,-109.5 656,-145.5 853,-145.5 853,-109.5 656,-109.5\"/>\n<text text-anchor=\"middle\" x=\"667\" y=\"-123.8\" font-family=\"Times,serif\" font-size=\"14.00\">f</text>\n<polyline fill=\"none\" stroke=\"black\" points=\"678,-109.5 678,-145.5 \"/>\n<text text-anchor=\"middle\" x=\"713.5\" y=\"-123.8\" font-family=\"Times,serif\" font-size=\"14.00\">&#45;2.0000</text>\n<polyline fill=\"none\" stroke=\"black\" points=\"749,-109.5 749,-145.5 \"/>\n<text text-anchor=\"middle\" x=\"801\" y=\"-123.8\" font-family=\"Times,serif\" font-size=\"14.00\">grad 4.0000</text>\n</g>\n<!-- 139682783422752&#45;&gt;139682783418144* -->\n<g id=\"edge7\" class=\"edge\">\n<title>139682783422752&#45;&gt;139682783418144*</title>\n<path fill=\"none\" stroke=\"black\" d=\"M853.33,-110.33C862.66,-108.69 871.64,-107.11 879.72,-105.69\"/>\n<polygon fill=\"black\" stroke=\"black\" points=\"880.54,-109.1 889.78,-103.93 879.33,-102.21 880.54,-109.1\"/>\n</g>\n<!-- 139682785385808 -->\n<g id=\"node10\" class=\"node\">\n<title>139682785385808</title>\n<polygon fill=\"none\" stroke=\"black\" points=\"327,-82.5 327,-118.5 530,-118.5 530,-82.5 327,-82.5\"/>\n<text text-anchor=\"middle\" x=\"339\" y=\"-96.8\" font-family=\"Times,serif\" font-size=\"14.00\">c</text>\n<polyline fill=\"none\" stroke=\"black\" points=\"351,-82.5 351,-118.5 \"/>\n<text text-anchor=\"middle\" x=\"388.5\" y=\"-96.8\" font-family=\"Times,serif\" font-size=\"14.00\">10.0000</text>\n<polyline fill=\"none\" stroke=\"black\" points=\"426,-82.5 426,-118.5 \"/>\n<text text-anchor=\"middle\" x=\"478\" y=\"-96.8\" font-family=\"Times,serif\" font-size=\"14.00\">grad 0.0000</text>\n</g>\n<!-- 139682785385808&#45;&gt;139682785386768+ -->\n<g id=\"edge9\" class=\"edge\">\n<title>139682785385808&#45;&gt;139682785386768+</title>\n<path fill=\"none\" stroke=\"black\" d=\"M530.1,-83.17C539.49,-81.55 548.52,-79.99 556.63,-78.59\"/>\n<polygon fill=\"black\" stroke=\"black\" points=\"557.47,-82 566.73,-76.85 556.28,-75.1 557.47,-82\"/>\n</g>\n</g>\n</svg>\n",
      "text/plain": "<graphviz.graphs.Digraph at 0x7f0a6ed067d0>"
     },
     "execution_count": 127,
     "metadata": {},
     "output_type": "execute_result"
    }
   ],
   "source": [
    "draw_dot(L)"
   ],
   "metadata": {
    "collapsed": false
   }
  },
  {
   "cell_type": "code",
   "execution_count": 128,
   "outputs": [],
   "source": [
    "d.grad = f.data"
   ],
   "metadata": {
    "collapsed": false
   }
  },
  {
   "cell_type": "code",
   "execution_count": 129,
   "outputs": [
    {
     "data": {
      "image/svg+xml": "<?xml version=\"1.0\" encoding=\"UTF-8\" standalone=\"no\"?>\n<!DOCTYPE svg PUBLIC \"-//W3C//DTD SVG 1.1//EN\"\n \"http://www.w3.org/Graphics/SVG/1.1/DTD/svg11.dtd\">\n<!-- Generated by graphviz version 2.43.0 (0)\n -->\n<!-- Title: %3 Pages: 1 -->\n<svg width=\"1191pt\" height=\"154pt\"\n viewBox=\"0.00 0.00 1191.00 154.00\" xmlns=\"http://www.w3.org/2000/svg\" xmlns:xlink=\"http://www.w3.org/1999/xlink\">\n<g id=\"graph0\" class=\"graph\" transform=\"scale(1 1) rotate(0) translate(4 150)\">\n<title>%3</title>\n<polygon fill=\"white\" stroke=\"transparent\" points=\"-4,4 -4,-150 1187,-150 1187,4 -4,4\"/>\n<!-- 139682785381008 -->\n<g id=\"node1\" class=\"node\">\n<title>139682785381008</title>\n<polygon fill=\"none\" stroke=\"black\" points=\"328.5,-27.5 328.5,-63.5 528.5,-63.5 528.5,-27.5 328.5,-27.5\"/>\n<text text-anchor=\"middle\" x=\"341\" y=\"-41.8\" font-family=\"Times,serif\" font-size=\"14.00\">e</text>\n<polyline fill=\"none\" stroke=\"black\" points=\"353.5,-27.5 353.5,-63.5 \"/>\n<text text-anchor=\"middle\" x=\"389\" y=\"-41.8\" font-family=\"Times,serif\" font-size=\"14.00\">&#45;6.0000</text>\n<polyline fill=\"none\" stroke=\"black\" points=\"424.5,-27.5 424.5,-63.5 \"/>\n<text text-anchor=\"middle\" x=\"476.5\" y=\"-41.8\" font-family=\"Times,serif\" font-size=\"14.00\">grad 0.0000</text>\n</g>\n<!-- 139682785386768+ -->\n<g id=\"node6\" class=\"node\">\n<title>139682785386768+</title>\n<ellipse fill=\"none\" stroke=\"black\" cx=\"593\" cy=\"-72.5\" rx=\"27\" ry=\"18\"/>\n<text text-anchor=\"middle\" x=\"593\" y=\"-68.8\" font-family=\"Times,serif\" font-size=\"14.00\">+</text>\n</g>\n<!-- 139682785381008&#45;&gt;139682785386768+ -->\n<g id=\"edge6\" class=\"edge\">\n<title>139682785381008&#45;&gt;139682785386768+</title>\n<path fill=\"none\" stroke=\"black\" d=\"M528.71,-61.98C538.67,-63.64 548.25,-65.23 556.81,-66.65\"/>\n<polygon fill=\"black\" stroke=\"black\" points=\"556.27,-70.11 566.7,-68.3 557.41,-63.21 556.27,-70.11\"/>\n</g>\n<!-- 139682785381008* -->\n<g id=\"node2\" class=\"node\">\n<title>139682785381008*</title>\n<ellipse fill=\"none\" stroke=\"black\" cx=\"264\" cy=\"-45.5\" rx=\"27\" ry=\"18\"/>\n<text text-anchor=\"middle\" x=\"264\" y=\"-41.8\" font-family=\"Times,serif\" font-size=\"14.00\">*</text>\n</g>\n<!-- 139682785381008*&#45;&gt;139682785381008 -->\n<g id=\"edge1\" class=\"edge\">\n<title>139682785381008*&#45;&gt;139682785381008</title>\n<path fill=\"none\" stroke=\"black\" d=\"M291.11,-45.5C299.05,-45.5 308.32,-45.5 318.22,-45.5\"/>\n<polygon fill=\"black\" stroke=\"black\" points=\"318.31,-49 328.31,-45.5 318.31,-42 318.31,-49\"/>\n</g>\n<!-- 139682785379568 -->\n<g id=\"node3\" class=\"node\">\n<title>139682785379568</title>\n<polygon fill=\"none\" stroke=\"black\" points=\"3,-55.5 3,-91.5 198,-91.5 198,-55.5 3,-55.5\"/>\n<text text-anchor=\"middle\" x=\"15.5\" y=\"-69.8\" font-family=\"Times,serif\" font-size=\"14.00\">a</text>\n<polyline fill=\"none\" stroke=\"black\" points=\"28,-55.5 28,-91.5 \"/>\n<text text-anchor=\"middle\" x=\"61\" y=\"-69.8\" font-family=\"Times,serif\" font-size=\"14.00\">2.0000</text>\n<polyline fill=\"none\" stroke=\"black\" points=\"94,-55.5 94,-91.5 \"/>\n<text text-anchor=\"middle\" x=\"146\" y=\"-69.8\" font-family=\"Times,serif\" font-size=\"14.00\">grad 0.0000</text>\n</g>\n<!-- 139682785379568&#45;&gt;139682785381008* -->\n<g id=\"edge5\" class=\"edge\">\n<title>139682785379568&#45;&gt;139682785381008*</title>\n<path fill=\"none\" stroke=\"black\" d=\"M198.24,-56.73C208.67,-54.92 218.73,-53.18 227.68,-51.62\"/>\n<polygon fill=\"black\" stroke=\"black\" points=\"228.39,-55.05 237.64,-49.9 227.19,-48.16 228.39,-55.05\"/>\n</g>\n<!-- 139682776739568 -->\n<g id=\"node4\" class=\"node\">\n<title>139682776739568</title>\n<polygon fill=\"none\" stroke=\"black\" points=\"0,-0.5 0,-36.5 201,-36.5 201,-0.5 0,-0.5\"/>\n<text text-anchor=\"middle\" x=\"13\" y=\"-14.8\" font-family=\"Times,serif\" font-size=\"14.00\">b</text>\n<polyline fill=\"none\" stroke=\"black\" points=\"26,-0.5 26,-36.5 \"/>\n<text text-anchor=\"middle\" x=\"61.5\" y=\"-14.8\" font-family=\"Times,serif\" font-size=\"14.00\">&#45;3.0000</text>\n<polyline fill=\"none\" stroke=\"black\" points=\"97,-0.5 97,-36.5 \"/>\n<text text-anchor=\"middle\" x=\"149\" y=\"-14.8\" font-family=\"Times,serif\" font-size=\"14.00\">grad 0.0000</text>\n</g>\n<!-- 139682776739568&#45;&gt;139682785381008* -->\n<g id=\"edge4\" class=\"edge\">\n<title>139682776739568&#45;&gt;139682785381008*</title>\n<path fill=\"none\" stroke=\"black\" d=\"M201.02,-35.14C210.41,-36.71 219.44,-38.22 227.56,-39.58\"/>\n<polygon fill=\"black\" stroke=\"black\" points=\"227.24,-43.07 237.68,-41.27 228.39,-36.17 227.24,-43.07\"/>\n</g>\n<!-- 139682785386768 -->\n<g id=\"node5\" class=\"node\">\n<title>139682785386768</title>\n<polygon fill=\"none\" stroke=\"black\" points=\"656,-54.5 656,-90.5 856,-90.5 856,-54.5 656,-54.5\"/>\n<text text-anchor=\"middle\" x=\"669\" y=\"-68.8\" font-family=\"Times,serif\" font-size=\"14.00\">d</text>\n<polyline fill=\"none\" stroke=\"black\" points=\"682,-54.5 682,-90.5 \"/>\n<text text-anchor=\"middle\" x=\"715\" y=\"-68.8\" font-family=\"Times,serif\" font-size=\"14.00\">4.0000</text>\n<polyline fill=\"none\" stroke=\"black\" points=\"748,-54.5 748,-90.5 \"/>\n<text text-anchor=\"middle\" x=\"802\" y=\"-68.8\" font-family=\"Times,serif\" font-size=\"14.00\">grad &#45;2.0000</text>\n</g>\n<!-- 139682783418144* -->\n<g id=\"node8\" class=\"node\">\n<title>139682783418144*</title>\n<ellipse fill=\"none\" stroke=\"black\" cx=\"919\" cy=\"-99.5\" rx=\"27\" ry=\"18\"/>\n<text text-anchor=\"middle\" x=\"919\" y=\"-95.8\" font-family=\"Times,serif\" font-size=\"14.00\">*</text>\n</g>\n<!-- 139682785386768&#45;&gt;139682783418144* -->\n<g id=\"edge8\" class=\"edge\">\n<title>139682785386768&#45;&gt;139682783418144*</title>\n<path fill=\"none\" stroke=\"black\" d=\"M856.21,-89.14C865.57,-90.71 874.57,-92.22 882.67,-93.58\"/>\n<polygon fill=\"black\" stroke=\"black\" points=\"882.31,-97.06 892.76,-95.27 883.47,-90.16 882.31,-97.06\"/>\n</g>\n<!-- 139682785386768+&#45;&gt;139682785386768 -->\n<g id=\"edge2\" class=\"edge\">\n<title>139682785386768+&#45;&gt;139682785386768</title>\n<path fill=\"none\" stroke=\"black\" d=\"M620.23,-72.5C627.69,-72.5 636.31,-72.5 645.52,-72.5\"/>\n<polygon fill=\"black\" stroke=\"black\" points=\"645.71,-76 655.71,-72.5 645.71,-69 645.71,-76\"/>\n</g>\n<!-- 139682783418144 -->\n<g id=\"node7\" class=\"node\">\n<title>139682783418144</title>\n<polygon fill=\"none\" stroke=\"black\" points=\"982,-81.5 982,-117.5 1183,-117.5 1183,-81.5 982,-81.5\"/>\n<text text-anchor=\"middle\" x=\"995\" y=\"-95.8\" font-family=\"Times,serif\" font-size=\"14.00\">L</text>\n<polyline fill=\"none\" stroke=\"black\" points=\"1008,-81.5 1008,-117.5 \"/>\n<text text-anchor=\"middle\" x=\"1043.5\" y=\"-95.8\" font-family=\"Times,serif\" font-size=\"14.00\">&#45;8.0000</text>\n<polyline fill=\"none\" stroke=\"black\" points=\"1079,-81.5 1079,-117.5 \"/>\n<text text-anchor=\"middle\" x=\"1131\" y=\"-95.8\" font-family=\"Times,serif\" font-size=\"14.00\">grad 1.0000</text>\n</g>\n<!-- 139682783418144*&#45;&gt;139682783418144 -->\n<g id=\"edge3\" class=\"edge\">\n<title>139682783418144*&#45;&gt;139682783418144</title>\n<path fill=\"none\" stroke=\"black\" d=\"M946.31,-99.5C953.79,-99.5 962.44,-99.5 971.68,-99.5\"/>\n<polygon fill=\"black\" stroke=\"black\" points=\"971.9,-103 981.9,-99.5 971.9,-96 971.9,-103\"/>\n</g>\n<!-- 139682783422752 -->\n<g id=\"node9\" class=\"node\">\n<title>139682783422752</title>\n<polygon fill=\"none\" stroke=\"black\" points=\"657.5,-109.5 657.5,-145.5 854.5,-145.5 854.5,-109.5 657.5,-109.5\"/>\n<text text-anchor=\"middle\" x=\"668.5\" y=\"-123.8\" font-family=\"Times,serif\" font-size=\"14.00\">f</text>\n<polyline fill=\"none\" stroke=\"black\" points=\"679.5,-109.5 679.5,-145.5 \"/>\n<text text-anchor=\"middle\" x=\"715\" y=\"-123.8\" font-family=\"Times,serif\" font-size=\"14.00\">&#45;2.0000</text>\n<polyline fill=\"none\" stroke=\"black\" points=\"750.5,-109.5 750.5,-145.5 \"/>\n<text text-anchor=\"middle\" x=\"802.5\" y=\"-123.8\" font-family=\"Times,serif\" font-size=\"14.00\">grad 4.0000</text>\n</g>\n<!-- 139682783422752&#45;&gt;139682783418144* -->\n<g id=\"edge7\" class=\"edge\">\n<title>139682783422752&#45;&gt;139682783418144*</title>\n<path fill=\"none\" stroke=\"black\" d=\"M854.83,-110.49C864.75,-108.76 874.31,-107.1 882.85,-105.61\"/>\n<polygon fill=\"black\" stroke=\"black\" points=\"883.48,-109.06 892.73,-103.89 882.28,-102.16 883.48,-109.06\"/>\n</g>\n<!-- 139682785385808 -->\n<g id=\"node10\" class=\"node\">\n<title>139682785385808</title>\n<polygon fill=\"none\" stroke=\"black\" points=\"327,-82.5 327,-118.5 530,-118.5 530,-82.5 327,-82.5\"/>\n<text text-anchor=\"middle\" x=\"339\" y=\"-96.8\" font-family=\"Times,serif\" font-size=\"14.00\">c</text>\n<polyline fill=\"none\" stroke=\"black\" points=\"351,-82.5 351,-118.5 \"/>\n<text text-anchor=\"middle\" x=\"388.5\" y=\"-96.8\" font-family=\"Times,serif\" font-size=\"14.00\">10.0000</text>\n<polyline fill=\"none\" stroke=\"black\" points=\"426,-82.5 426,-118.5 \"/>\n<text text-anchor=\"middle\" x=\"478\" y=\"-96.8\" font-family=\"Times,serif\" font-size=\"14.00\">grad 0.0000</text>\n</g>\n<!-- 139682785385808&#45;&gt;139682785386768+ -->\n<g id=\"edge9\" class=\"edge\">\n<title>139682785385808&#45;&gt;139682785386768+</title>\n<path fill=\"none\" stroke=\"black\" d=\"M530.1,-83.17C539.49,-81.55 548.52,-79.99 556.63,-78.59\"/>\n<polygon fill=\"black\" stroke=\"black\" points=\"557.47,-82 566.73,-76.85 556.28,-75.1 557.47,-82\"/>\n</g>\n</g>\n</svg>\n",
      "text/plain": "<graphviz.graphs.Digraph at 0x7f0a6efa71f0>"
     },
     "execution_count": 129,
     "metadata": {},
     "output_type": "execute_result"
    }
   ],
   "source": [
    "draw_dot(L)"
   ],
   "metadata": {
    "collapsed": false
   }
  },
  {
   "cell_type": "code",
   "execution_count": 130,
   "outputs": [
    {
     "data": {
      "text/plain": "3.9999999999995595"
     },
     "execution_count": 130,
     "metadata": {},
     "output_type": "execute_result"
    }
   ],
   "source": [
    "# derivative with respect to f\n",
    "def tmp():\n",
    "    h = 0.001\n",
    "\n",
    "    a = Value(2., label='a')\n",
    "    b = Value(-3., label='b')\n",
    "    c = Value(10., label='c')\n",
    "    e = Value(a * b, label='e')\n",
    "    d = Value(e + c, label='d')\n",
    "    f = Value(-2., label='f')\n",
    "    L = Value(d * f, label='L')\n",
    "    L1 = L.data\n",
    "\n",
    "    a = Value(2., label='a')\n",
    "    b = Value(-3., label='b')\n",
    "    c = Value(10., label='c')\n",
    "    e = Value(a * b, label='e')\n",
    "    d = Value(e + c, label='d')\n",
    "    f = Value(-2. + h , label='f')\n",
    "    L = Value(d * f, label='L')\n",
    "    L2 = L.data\n",
    "\n",
    "    return (L2 - L1) / h\n",
    "\n",
    "tmp()"
   ],
   "metadata": {
    "collapsed": false
   }
  },
  {
   "cell_type": "code",
   "execution_count": 133,
   "outputs": [
    {
     "data": {
      "text/plain": "-2.000000000000668"
     },
     "execution_count": 133,
     "metadata": {},
     "output_type": "execute_result"
    }
   ],
   "source": [
    "# derivative with respect to d\n",
    "def tmp():\n",
    "    h = 0.001\n",
    "\n",
    "    a = Value(2., label='a')\n",
    "    b = Value(-3., label='b')\n",
    "    c = Value(10., label='c')\n",
    "    e = Value(a * b, label='e')\n",
    "    d = Value(e + c, label='d')\n",
    "    f = Value(-2., label='f')\n",
    "    L = Value(d * f, label='L')\n",
    "    L1 = L.data\n",
    "\n",
    "    a = Value(2., label='a')\n",
    "    b = Value(-3., label='b')\n",
    "    c = Value(10., label='c')\n",
    "    e = Value(a * b, label='e')\n",
    "    d = Value(e + c, label='d')\n",
    "    d.data += h\n",
    "    f = Value(-2., label='f')\n",
    "    L = Value(d * f, label='L')\n",
    "    L2 = L.data\n",
    "\n",
    "    return (L2 - L1) / h\n",
    "\n",
    "tmp()"
   ],
   "metadata": {
    "collapsed": false
   }
  },
  {
   "cell_type": "code",
   "execution_count": null,
   "outputs": [],
   "source": [
    "# dL/dc -> derivative of L with respect to c"
   ],
   "metadata": {
    "collapsed": false
   }
  },
  {
   "cell_type": "code",
   "execution_count": null,
   "outputs": [],
   "source": [
    "# dd/dc -> what is dd by dc?\n",
    "# d = c + e -> 1\n",
    "# ((c + h + e) - (c + e))/h\n",
    "# (c + h + e - c - e)/h\n",
    "# (h + e - e)/h\n",
    "# h/h\n",
    "# 1"
   ],
   "metadata": {
    "collapsed": false
   }
  },
  {
   "cell_type": "code",
   "execution_count": null,
   "outputs": [],
   "source": [
    "# dd/de -> e (local derivative)\n",
    "# e = a * b\n",
    "# ((a + h * b) - (a * b))/h\n",
    "# (a + h * b - a * -b)/h\n",
    "# (h * b - b)/h\n",
    "# h/h\n",
    "# 1"
   ],
   "metadata": {
    "collapsed": false
   }
  }
 ],
 "metadata": {
  "kernelspec": {
   "display_name": "Python 3",
   "language": "python",
   "name": "python3"
  },
  "language_info": {
   "codemirror_mode": {
    "name": "ipython",
    "version": 2
   },
   "file_extension": ".py",
   "mimetype": "text/x-python",
   "name": "python",
   "nbconvert_exporter": "python",
   "pygments_lexer": "ipython2",
   "version": "2.7.6"
  }
 },
 "nbformat": 4,
 "nbformat_minor": 0
}
